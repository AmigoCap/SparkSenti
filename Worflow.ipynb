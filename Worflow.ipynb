{
 "cells": [
  {
   "cell_type": "markdown",
   "metadata": {},
   "source": [
    "Import des librairies\n",
    "- pixiedust (Kernel Python/Scala)\n",
    "- time"
   ]
  },
  {
   "cell_type": "code",
   "execution_count": 6,
   "metadata": {},
   "outputs": [],
   "source": [
    "#import pixiedust\n",
    "import time\n",
    "import os\n",
    "import tweepy\n",
    "import json\n",
    "import json_lines\n"
   ]
  },
  {
   "cell_type": "markdown",
   "metadata": {},
   "source": [
    "Configuration du nom du fichier utilisé"
   ]
  },
  {
   "cell_type": "code",
   "execution_count": 7,
   "metadata": {},
   "outputs": [
    {
     "name": "stdout",
     "output_type": "stream",
     "text": [
      "env: TIME=1521639482.316468\n",
      "env: OUTPUT_TWEET_FILENAME=output_tweet_1521639482.316468.json\n",
      "env: TWEET_JSON_FILENAME=input_tweet_1521639482.316468.json\n"
     ]
    }
   ],
   "source": [
    "%env TIME={time.time()}\n",
    "%env OUTPUT_TWEET_FILENAME=output_tweet_{os.environ['TIME']}.json\n",
    "%env TWEET_JSON_FILENAME=input_tweet_{os.environ['TIME']}.json\n"
   ]
  },
  {
   "cell_type": "raw",
   "metadata": {},
   "source": [
    "Collect des données twitter et stockage dans un json 'tweets_time.json'"
   ]
  },
  {
   "cell_type": "code",
   "execution_count": 9,
   "metadata": {},
   "outputs": [],
   "source": [
    "with_geo=False\n",
    "API_key = json.load(open(\"API_key.txt\", \"r\"))\n",
    "\n",
    "auth = tweepy.OAuthHandler(API_key[\"consumer_key\"], API_key[\"consumer_secret\"])\n",
    "auth.set_access_token(API_key[\"access_token\"], API_key[\"access_token_secret\"])\n",
    "api = tweepy.API(auth)\n",
    "\n",
    "keyword = \"bitcoin\"\n",
    "\n",
    "tweets = api.search( q=keyword,tweet_mode='extended',include_rts=False,count=2000)\n",
    "\n",
    "json_tweets=[]\n",
    "for tweet in tweets:\n",
    "    json_tweets.append(json.dumps(tweet._json))\n",
    "\n",
    "json_str = \"\\n\".join(json_tweets)\n",
    "\n",
    "filename = \"tweets-database/\"+os.environ['TWEET_JSON_FILENAME']\n",
    "with open(filename, \"w\") as f:\n",
    "    f.write(json_str)"
   ]
  },
  {
   "cell_type": "markdown",
   "metadata": {},
   "source": [
    "Envoie des tweets collectés sur le datacenter"
   ]
  },
  {
   "cell_type": "code",
   "execution_count": 18,
   "metadata": {},
   "outputs": [
    {
     "name": "stdout",
     "output_type": "stream",
     "text": [
      "\u001b[0m[\u001b[0m\u001b[0minfo\u001b[0m] \u001b[0m\u001b[0mLoading settings from idea.sbt ...\u001b[0m\n",
      "\u001b[0m[\u001b[0m\u001b[0minfo\u001b[0m] \u001b[0m\u001b[0mLoading global plugins from /Users/Frego/.sbt/1.0/plugins\u001b[0m\n",
      "\u001b[0m[\u001b[0m\u001b[0minfo\u001b[0m] \u001b[0m\u001b[0mLoading settings from plugins.sbt ...\u001b[0m\n",
      "\u001b[0m[\u001b[0m\u001b[0minfo\u001b[0m] \u001b[0m\u001b[0mLoading project definition from /Users/Frego/Documents/Centrale/4A/OPTION/08_Projet/SparkSenti/Algo1/project\u001b[0m\n",
      "\u001b[0m[\u001b[0m\u001b[0minfo\u001b[0m] \u001b[0m\u001b[0mLoading settings from build.sbt ...\u001b[0m\n",
      "\u001b[0m[\u001b[0m\u001b[0minfo\u001b[0m] \u001b[0m\u001b[0mSet current project to SparkSenti (in build file:/Users/Frego/Documents/Centrale/4A/OPTION/08_Projet/SparkSenti/Algo1/)\u001b[0m\n",
      "spawn scp input_tweet_1521639482.316468.json fregosi1@sparksenti:.\r\n",
      "fregosi1@sparksenti's password: \r\n",
      "\r",
      "input_tweet_1521639482.316468.json              0%    0     0.0KB/s   --:-- ETA\r",
      "input_tweet_1521639482.316468.json            100%  550KB   8.4MB/s   00:00    \r\n",
      "spawn ssh fregosi1@sparksenti\r\n",
      "fregosi1@sparksenti's password: \r\n",
      "Last login: Wed Mar 21 14:40:13 2018 from wfgw.wifietud.ec-lyon.fr\r",
      "\r\n",
      "Welcome to Bright release         7.3\r\n",
      "\r\n",
      "                                                        Based on CentOS Linux 7\r\n",
      "                                                                    ID: #000002\r\n",
      "\r\n",
      "Use the following commands to adjust your environment:\r\n",
      "\r\n",
      "'module avail'            - show available modules\r\n",
      "'module add <module>'     - adds a module to your environment for this session\r\n",
      "'module initadd <module>' - configure module to be loaded at every login\r\n",
      "\r\n",
      "-------------------------------------------------------------------------------\r\n",
      "\u001b]0;fregosi1@bright73:~\u0007[fregosi1@bright73 ~]$ hdfs dfs -put input_tweet_1521639482.316468.json\r\n",
      "put: `input_tweet_1521639482.316468.json': File exists\r\n",
      "\u001b]0;fregosi1@bright73:~\u0007[fregosi1@bright73 ~]$ \n",
      "\u001b[0m[\u001b[0m\u001b[32msuccess\u001b[0m] \u001b[0m\u001b[0mTotal time: 3 s, completed 21 mars 2018 14:49:07\u001b[0m\n"
     ]
    }
   ],
   "source": [
    "%%bash\n",
    "cp tweets-database/$TWEET_JSON_FILENAME Algo1/$TWEET_JSON_FILENAME\n",
    "cd Algo1\n",
    "sbt \"put $TWEET_JSON_FILENAME\""
   ]
  },
  {
   "cell_type": "markdown",
   "metadata": {},
   "source": [
    "Execution de l'analyse de sentiments des tweets colléctés sur le datacenter"
   ]
  },
  {
   "cell_type": "code",
   "execution_count": 19,
   "metadata": {},
   "outputs": [
    {
     "name": "stdout",
     "output_type": "stream",
     "text": [
      "\u001b[0m[\u001b[0m\u001b[0minfo\u001b[0m] \u001b[0m\u001b[0mLoading settings from idea.sbt ...\u001b[0m\n",
      "\u001b[0m[\u001b[0m\u001b[0minfo\u001b[0m] \u001b[0m\u001b[0mLoading global plugins from /Users/Frego/.sbt/1.0/plugins\u001b[0m\n",
      "\u001b[0m[\u001b[0m\u001b[0minfo\u001b[0m] \u001b[0m\u001b[0mLoading settings from plugins.sbt ...\u001b[0m\n",
      "\u001b[0m[\u001b[0m\u001b[0minfo\u001b[0m] \u001b[0m\u001b[0mLoading project definition from /Users/Frego/Documents/Centrale/4A/OPTION/08_Projet/SparkSenti/Algo1/project\u001b[0m\n",
      "\u001b[0m[\u001b[0m\u001b[0minfo\u001b[0m] \u001b[0m\u001b[0mLoading settings from build.sbt ...\u001b[0m\n",
      "\u001b[0m[\u001b[0m\u001b[0minfo\u001b[0m] \u001b[0m\u001b[0mSet current project to SparkSenti (in build file:/Users/Frego/Documents/Centrale/4A/OPTION/08_Projet/SparkSenti/Algo1/)\u001b[0m\n",
      "spawn ssh fregosi1@sparksenti\r\n",
      "fregosi1@sparksenti's password: \r\n",
      "Last login: Wed Mar 21 14:49:04 2018 from wfgw.wifietud.ec-lyon.fr\r",
      "\r\n",
      "Welcome to Bright release         7.3\r\n",
      "\r\n",
      "                                                        Based on CentOS Linux 7\r\n",
      "                                                                    ID: #000002\r\n",
      "\r\n",
      "Use the following commands to adjust your environment:\r\n",
      "\r\n",
      "'module avail'            - show available modules\r\n",
      "'module add <module>'     - adds a module to your environment for this session\r\n",
      "'module initadd <module>' - configure module to be loaded at every login\r\n",
      "\r\n",
      "-------------------------------------------------------------------------------\r\n",
      "\u001b]0;fregosi1@bright73:~\u0007[fregosi1@bright73 ~]$ echo SparkSenti-0.1/lib/*.jar | tr \" \" \",\"\r\n",
      "SparkSenti-0.1/lib/akka-actor_2.11-2.5.4.jar,SparkSenti-0.1/lib/akka-slf4j_2.11-2.5.4.jar,SparkSenti-0.1/lib/antlr4-runtime-4.6.jar,SparkSenti-0.1/lib/args4j-2.0.23.jar,SparkSenti-0.1/lib/async-http-client-1.7.16.jar,SparkSenti-0.1/lib/bioresources-1.1.24.jar,SparkSenti-0.1/lib/clearnlp-2.0.2.jar,SparkSenti-0.1/lib/common_2.11-0.0.7.jar,SparkSenti-0.1/lib/common-scala_2.10-1.1.2.jar,SparkSenti-0.1/lib/commons-codec-1.4.jar,SparkSenti-0.1/lib/commons-io-2.5.jar,SparkSenti-0.1/lib/commons-lang3-3.4.jar,SparkSenti-0.1/lib/config-1.3.1.jar,SparkSenti-0.1/lib/dispatch-core_2.10-0.11.0.jar,SparkSenti-0.1/lib/ejml-0.23.jar,SparkSenti-0.1/lib/guava-14.0.1.jar,SparkSenti-0.1/lib/hppc-0.5.2.jar,SparkSenti-0.1/lib/jackson-annotations-2.8.9.jar,SparkSenti-0.1/lib/jackson-core-2.8.9.jar,SparkSenti-0.1/lib/jackson-databind-2.8.9.jar,SparkSenti-0.1/lib/jackson-datatype-jdk8-2.8.9.jar,SparkSenti-0.1/lib/jackson-datatype-jsr310-2.8.9.jar,SparkSenti-0.1/lib/javax.json-api-1.0.jar,SparkSenti-0.1/lib/javax.servlet-2.5.0.v201103041518.jar,SparkSenti-0.1/lib/jaxb-api-2.2.7.jar,SparkSenti-0.1/lib/jetty-continuation-7.6.9.v20130131.jar,SparkSenti-0.1/lib/jetty-http-7.6.9.v20130131.jar,SparkSenti-0.1/lib/jetty-io-7.6.9.v20130131.jar,SparkSenti-0.1/lib/jetty-security-7.6.9.v20130131.jar,SparkSenti-0.1/lib/jetty-server-7.6.9.v20130131.jar,SparkSenti-0.1/lib/jetty-servlet-7.6.9.v20130131.jar,SparkSenti-0.1/lib/jetty-util-7.6.9.v20130131.jar,SparkSenti-0.1/lib/jetty-webapp-7.6.9.v20130131.jar,SparkSenti-0.1/lib/jetty-xml-7.6.9.v20130131.jar,SparkSenti-0.1/lib/jline-2.12.1.jar,SparkSenti-0.1/lib/joda-time-2.9.9.jar,SparkSenti-0.1/lib/jollyday-0.4.7.jar,SparkSenti-0.1/lib/jregex-1.2_01.jar,SparkSenti-0.1/lib/json4s-ast_2.11-3.5.2.jar,SparkSenti-0.1/lib/json4s-core_2.11-3.5.2.jar,SparkSenti-0.1/lib/json4s-jackson_2.11-3.5.2.jar,SparkSenti-0.1/lib/json4s-scalap_2.11-3.5.2.jar,SparkSenti-0.1/lib/liblinear-1.94.jar,SparkSenti-0.1/lib/libsvm-3.17.jar,SparkSenti-0.1/lib/log4j-1.2.17.jar,SparkSenti-0.1/lib/logback-classic-1.0.10.jar,SparkSenti-0.1/lib/logback-core-1.0.10.jar,SparkSenti-0.1/lib/macro-compat_2.11-1.1.1.jar,SparkSenti-0.1/lib/maltparser-1.9.0.jar,SparkSenti-0.1/lib/morpha-stemmer-1.0.5.jar,SparkSenti-0.1/lib/netty-3.6.3.Final.jar,SparkSenti-0.1/lib/nlptools-core_2.10-2.4.5.jar,SparkSenti-0.1/lib/nlptools-stem-morpha_2.10-2.4.5.jar,SparkSenti-0.1/lib/paranamer-2.8.jar,SparkSenti-0.1/lib/play-functional_2.11-2.6.7.jar,SparkSenti-0.1/lib/play-json_2.11-2.6.7.jar,SparkSenti-0.1/lib/processors-corenlp_2.11-6.1.3.jar,SparkSenti-0.1/lib/processors-main_2.11-6.1.3.jar,SparkSenti-0.1/lib/processors-modelscorenlp_2.11-6.1.3.jar,SparkSenti-0.1/lib/processors-modelsmain_2.11-6.1.3.jar,SparkSenti-0.1/lib/processors-odin_2.11-6.1.3.jar,SparkSenti-0.1/lib/scala-java8-compat_2.11-0.7.0.jar,SparkSenti-0.1/lib/scala-logging_2.11-3.4.0.jar,SparkSenti-0.1/lib/scala-parser-combinators_2.11-1.0.3.jar,SparkSenti-0.1/lib/scala-reflect-2.11.8.jar,SparkSenti-0.1/lib/scala-xml_2.11-1.0.6.jar,SparkSenti-0.1/lib/scalaz-core_2.11-7.2.18.jar,SparkSenti-0.1/lib/scopt_2.10-2.1.0.jar,SparkSenti-0.1/lib/slf4j-api-1.7.10.jar,SparkSenti-0.1/lib/snakeyaml-1.14.jar,SparkSenti-0.1/lib/spark-corenlp-0.2.0-s_2.11.jar,SparkSenti-0.1/lib/sparksenti_2.11-0.1.jar,SparkSenti-0.1/lib/spark-sql_2.10-1.0.0.jar,SparkSenti-0.1/lib/stanford-corenlp-3.3.0.jar,SparkSenti-0.1/lib/stanford-corenlp-3.3.0-models.jar,SparkSenti-0.1/lib/stanford-corenlp-3.5.1.jar,SparkSenti-0.1/lib/stanford-corenlp-3.5.1-models.jar,SparkSenti-0.1/lib/stanford-parser-3.4.jar,SparkSenti-0.1/lib/unfiltered_2.10-0.7.0.jar,SparkSenti-0.1/lib/unfiltered-filter_2.10-0.7.0.jar,SparkSenti-0.1/lib/unfiltered-jetty_2.10-0.7.0.jar,SparkSenti-0.1/lib/unfiltered-util_2.10-0.7.0.jar,SparkSenti-0.1/lib/xalan-2.7.0.jar,SparkSenti-0.1/lib/xercesImpl-2.8.0.jar,SparkSenti-0.1/lib/xml-apis-1.3.03.jar,SparkSenti-0.1/lib/xom-1.2.10.jar\r\n",
      "\u001b]0;fregosi1@bright73:~\u0007[fregosi1@bright73 ~]$ spark-submit --master yarn --conf spark.executorEnv.JAVA_ \r",
      "HOME=/usr/lib/jvm/jre-1.8.0-openjdk/ --class algo1_worksheet.test --jars SparkSe \r",
      "nti-0.1/lib/akka-actor_2.11-2.5.4.jar,SparkSenti-0.1/lib/akka-slf4j_2.11-2.5.4.j \r",
      "ar,SparkSenti-0.1/lib/antlr4-runtime-4.6.jar,SparkSenti-0.1/lib/args4j-2.0.23.ja \r",
      "r,SparkSenti-0.1/lib/async-http-client-1.7.16.jar,SparkSenti-0.1/lib/bioresource \r",
      "s-1.1.24.jar,SparkSenti-0.1/lib/clearnlp-2.0.2.jar,SparkSenti-0.1/lib/common_2.1 \r",
      "1-0.0.7.jar,SparkSenti-0.1/lib/common-scala_2.10-1.1.2.jar,SparkSenti-0.1/lib/co \r",
      "mmons-codec-1.4.jar,SparkSenti-0.1/lib/commons-io-2.5.jar,SparkSenti-0.1/lib/com \r",
      "mons-lang3-3.4.jar,SparkSenti-0.1/lib/config-1.3.1.jar,SparkSenti-0.1/lib/dispat \r",
      "ch-core_2.10-0.11.0.jar,SparkSenti-0.1/lib/ejml-0.23.jar,SparkSenti-0.1/lib/guav \r",
      "a-14.0.1.jar,SparkSenti-0.1/lib/hppc-0.5.2.jar,SparkSenti-0.1/lib/jackson-annota \r",
      "tions-2.8.9.jar,SparkSenti-0.1/lib/jackson-core-2.8.9.jar,SparkSenti-0.1/lib/jac \r",
      "kson-databind-2.8.9.jar,SparkSenti-0.1/lib/jackson-datatype-jdk8-2.8.9.jar,Spark \r",
      "Senti-0.1/lib/jackson-datatype-jsr310-2.8.9.jar,SparkSenti-0.1/lib/javax.json-ap \r",
      "i-1.0.jar,SparkSenti-0.1/lib/javax.servlet-2.5.0.v201103041518.jar,SparkSenti-0. \r",
      "1/lib/jaxb-api-2.2.7.jar,SparkSenti-0.1/lib/jetty-continuation-7.6.9.v20130131.j \r",
      "ar,SparkSenti-0.1/lib/jetty-http-7.6.9.v20130131.jar,SparkSenti-0.1/lib/jetty-io \r",
      "-7.6.9.v20130131.jar,SparkSenti-0.1/lib/jetty-security-7.6.9.v20130131.jar,Spark \r",
      "Senti-0.1/lib/jetty-server-7.6.9.v20130131.jar,SparkSenti-0.1/lib/jetty-servlet- \r",
      "7.6.9.v20130131.jar,SparkSenti-0.1/lib/jetty-util-7.6.9.v20130131.jar,SparkSenti \r",
      "-0.1/lib/jetty-webapp-7.6.9.v20130131.jar,SparkSenti-0.1/lib/jetty-xml-7.6.9.v20 \r",
      "130131.jar,SparkSenti-0.1/lib/jline-2.12.1.jar,SparkSenti-0.1/lib/joda-time-2.9. \r",
      "9.jar,SparkSenti-0.1/lib/jollyday-0.4.7.jar,SparkSenti-0.1/lib/jregex-1.2_01.jar \r",
      ",SparkSenti-0.1/lib/json4s-ast_2.11-3.5.2.jar,SparkSenti-0.1/lib/json4s-core_2.1 \r",
      "1-3.5.2.jar,SparkSenti-0.1/lib/json4s-jackson_2.11-3.5.2.jar,SparkSenti-0.1/lib/ \r",
      "json4s-scalap_2.11-3.5.2.jar,SparkSenti-0.1/lib/liblinear-1.94.jar,SparkSenti-0. \r",
      "1/lib/libsvm-3.17.jar,SparkSenti-0.1/lib/log4j-1.2.17.jar,SparkSenti-0.1/lib/log \r",
      "back-classic-1.0.10.jar,SparkSenti-0.1/lib/logback-core-1.0.10.jar,SparkSenti-0. \r",
      "1/lib/macro-compat_2.11-1.1.1.jar,SparkSenti-0.1/lib/maltparser-1.9.0.jar,SparkS \r",
      "enti-0.1/lib/morpha-stemmer-1.0.5.jar,SparkSenti-0.1/lib/netty-3.6.3.Final.jar,S \r",
      "parkSenti-0.1/lib/nlptools-core_2.10-2.4.5.jar,SparkSenti-0.1/lib/nlptools-stem- \r",
      "morpha_2.10-2.4.5.jar,SparkSenti-0.1/lib/paranamer-2.8.jar,SparkSenti-0.1/lib/pl \r",
      "ay-functional_2.11-2.6.7.jar,SparkSenti-0.1/lib/play-json_2.11-2.6.7.jar,SparkSe \r",
      "nti-0.1/lib/processors-corenlp_2.11-6.1.3.jar,SparkSenti-0.1/lib/processors-main \r",
      "_2.11-6.1.3.jar,SparkSenti-0.1/lib/processors-modelscorenlp_2.11-6.1.3.jar,Spark \r",
      "Senti-0.1/lib/processors-modelsmain_2.11-6.1.3.jar,SparkSenti-0.1/lib/processors \r",
      "-odin_2.11-6.1.3.jar,SparkSenti-0.1/lib/scala-java8-compat_2.11-0.7.0.jar,SparkS \r",
      "enti-0.1/lib/scala-logging_2.11-3.4.0.jar,SparkSenti-0.1/lib/scala-parser-combin \r",
      "ators_2.11-1.0.3.jar,SparkSenti-0.1/lib/scala-reflect-2.11.8.jar,SparkSenti-0.1/ \r",
      "lib/scala-xml_2.11-1.0.6.jar,SparkSenti-0.1/lib/scalaz-core_2.11-7.2.18.jar,Spar \r",
      "kSenti-0.1/lib/scopt_2.10-2.1.0.jar,SparkSenti-0.1/lib/slf4j-api-1.7.10.jar,Spar \r",
      "kSenti-0.1/lib/snakeyaml-1.14.jar,SparkSenti-0.1/lib/spark-corenlp-0.2.0-s_2.11. \r",
      "jar,SparkSenti-0.1/lib/sparksenti_2.11-0.1.jar,SparkSenti-0.1/lib/spark-sql_2.10 \r",
      "-1.0.0.jar,SparkSenti-0.1/lib/stanford-corenlp-3.3.0.jar,SparkSenti-0.1/lib/stan \r",
      "ford-corenlp-3.3.0-models.jar,SparkSenti-0.1/lib/stanford-corenlp-3.5.1.jar,Spar \r",
      "kSenti-0.1/lib/stanford-corenlp-3.5.1-models.jar,SparkSenti-0.1/lib/stanford-par \r",
      "ser-3.4.jar,SparkSenti-0.1/lib/unfiltered_2.10-0.7.0.jar,SparkSenti-0.1/lib/unfi \r",
      "ltered-filter_2.10-0.7.0.jar,SparkSenti-0.1/lib/unfiltered-jetty_2.10-0.7.0.jar, \r",
      "SparkSenti-0.1/lib/unfiltered-util_2.10-0.7.0.jar,SparkSenti-0.1/lib/xalan-2.7.0 \r",
      ".jar,SparkSenti-0.1/lib/xercesImpl-2.8.0.jar,SparkSenti-0.1/lib/xml-apis-1.3.03. \r",
      "jar,SparkSenti-0.1/lib/xom-1.2.10.jar SparkSenti-0.1/lib/sparksenti_2.11-0.1.jar \r",
      " input_tweet_1521639482.316468.json > defaultoutput.json\r\n",
      "18/03/21 14:49:32 WARN NativeCodeLoader: Unable to load native-hadoop library for your platform... using builtin-java classes where applicable\r\n",
      "18/03/21 14:49:34 WARN Client: Neither spark.yarn.jars nor spark.yarn.archive is set, falling back to uploading libraries under SPARK_HOME.\r\n",
      "\r",
      "[Stage 0:>                                                          (0 + 1) / 2]\r",
      "[Stage 0:>                                                          (0 + 2) / 2]\r",
      "[Stage 0:=============================>                             (1 + 1) / 2]\r",
      "                                                                                \r",
      "\u001b]0;fregosi1@bright73:~\u0007[fregosi1@bright73 ~]$ \n",
      "\u001b[0m[\u001b[0m\u001b[32msuccess\u001b[0m] \u001b[0m\u001b[0mTotal time: 39 s, completed 21 mars 2018 14:50:08\u001b[0m\n"
     ]
    }
   ],
   "source": [
    "%%bash\n",
    "cd Algo1\n",
    "rm -rf $TWEET_JSON_FILENAME\n",
    "sbt \"submit $TWEET_JSON_FILENAME\""
   ]
  },
  {
   "cell_type": "markdown",
   "metadata": {},
   "source": [
    "Récupération du resultat de l'analyse : fichier text (id_tweet sentiment)"
   ]
  },
  {
   "cell_type": "code",
   "execution_count": 20,
   "metadata": {},
   "outputs": [
    {
     "name": "stdout",
     "output_type": "stream",
     "text": [
      "\u001b[0m[\u001b[0m\u001b[0minfo\u001b[0m] \u001b[0m\u001b[0mLoading settings from idea.sbt ...\u001b[0m\n",
      "\u001b[0m[\u001b[0m\u001b[0minfo\u001b[0m] \u001b[0m\u001b[0mLoading global plugins from /Users/Frego/.sbt/1.0/plugins\u001b[0m\n",
      "\u001b[0m[\u001b[0m\u001b[0minfo\u001b[0m] \u001b[0m\u001b[0mLoading settings from plugins.sbt ...\u001b[0m\n",
      "\u001b[0m[\u001b[0m\u001b[0minfo\u001b[0m] \u001b[0m\u001b[0mLoading project definition from /Users/Frego/Documents/Centrale/4A/OPTION/08_Projet/SparkSenti/Algo1/project\u001b[0m\n",
      "\u001b[0m[\u001b[0m\u001b[0minfo\u001b[0m] \u001b[0m\u001b[0mLoading settings from build.sbt ...\u001b[0m\n",
      "\u001b[0m[\u001b[0m\u001b[0minfo\u001b[0m] \u001b[0m\u001b[0mSet current project to SparkSenti (in build file:/Users/Frego/Documents/Centrale/4A/OPTION/08_Projet/SparkSenti/Algo1/)\u001b[0m\n",
      "spawn scp fregosi1@sparksenti:'defaultoutput.json' .\r\n",
      "fregosi1@sparksenti's password: \r\n",
      "\r",
      "defaultoutput.json                              0%    0     0.0KB/s   --:-- ETA\r",
      "defaultoutput.json                            100%  553KB   2.7MB/s   00:00    \r\n",
      "\n",
      "\u001b[0m[\u001b[0m\u001b[32msuccess\u001b[0m] \u001b[0m\u001b[0mTotal time: 1 s, completed 21 mars 2018 14:50:35\u001b[0m\n"
     ]
    }
   ],
   "source": [
    "%%bash\n",
    "cd Algo1\n",
    "sbt \"getOutput 'defaultoutput.json'\"\n",
    "cp defaultoutput.json ../tweets-database/$OUTPUT_TWEET_FILENAME\n",
    "rm -rf defaultoutput.json"
   ]
  },
  {
   "cell_type": "markdown",
   "metadata": {},
   "source": [
    "Pour test de viz (evite de lancer le workflow complet)"
   ]
  },
  {
   "cell_type": "code",
   "execution_count": 25,
   "metadata": {},
   "outputs": [
    {
     "name": "stdout",
     "output_type": "stream",
     "text": [
      "env: OUTPUT_TWEET_FILENAME=output_test.json\n",
      "env: TWEET_JSON_FILENAME=input_test.json\n"
     ]
    }
   ],
   "source": [
    "%env OUTPUT_TWEET_FILENAME=output_test.json\n",
    "%env TWEET_JSON_FILENAME=input_test.json"
   ]
  },
  {
   "cell_type": "code",
   "execution_count": 26,
   "metadata": {},
   "outputs": [],
   "source": [
    "file_json = open(\"tweets-database/\"+os.environ['OUTPUT_TWEET_FILENAME'],\"r\", encoding=\"utf8\");\n",
    "reader = json_lines.reader(file_json)\n"
   ]
  },
  {
   "cell_type": "code",
   "execution_count": 30,
   "metadata": {
    "scrolled": false
   },
   "outputs": [
    {
     "data": {
      "text/html": [
       "<div style=\"width:100%;\"><div style=\"position:relative;width:100%;height:0;padding-bottom:60%;\"><iframe src=\"data:text/html;charset=utf-8;base64,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\" style=\"position:absolute;width:100%;height:100%;left:0;top:0;border:none !important;\" allowfullscreen webkitallowfullscreen mozallowfullscreen></iframe></div></div>"
      ],
      "text/plain": [
       "<folium.folium.Map at 0x1143ee668>"
      ]
     },
     "execution_count": 30,
     "metadata": {},
     "output_type": "execute_result"
    }
   ],
   "source": [
    "import folium\n",
    "import random\n",
    "from geopy.geocoders import Nominatim\n",
    "geolocator = Nominatim(timeout=3)\n",
    "\n",
    "\n",
    "\n",
    "WASH_COORD = [38.8949549, -77.0366456]\n",
    "NYC_COORD = [40.7128, -74.0059]\n",
    "LYON_COORD = [45.750000,4.850000]\n",
    "CHICAGO_COORD = [41.850033, -87.6500523]\n",
    "US_COORD = [39,-95]\n",
    "\n",
    "# Build map \n",
    "map_main = folium.Map(location=US_COORD, \n",
    "                      zoom_start=4, \n",
    "                      tiles='cartodbpositron', \n",
    "                      width=640, \n",
    "                      height=400)\n",
    "\n",
    "\n",
    "\n",
    "import itertools           #  ======> sert à limiter le nombre de tweets afficher sur la carte\n",
    "#for tweet in itertools.islice(reader, 30):\n",
    "#for tweet in reader :      # =======> sert à afficher tout les tweets\n",
    "\n",
    "for tweet in itertools.islice(reader, 10):\n",
    "    if (tweet['tweet']!= ''):\n",
    "        location = geolocator.geocode(tweet['tweet']['user']['location'])\n",
    "        popup_image ='''<img src=\"''' + tweet['tweet']['user']['profile_image_url'] + '''\" alt=\"pic \" />'''\n",
    "        popup_text = '<b>'+tweet['tweet']['user']['name']+'</b>' + ' tweeted : '+ '<i>' + tweet['tweet']['full_text'] + '</i>'\n",
    "        popup = '<center>' + popup_image + '<br\\><br\\>' + popup_text + '</center>'\n",
    "        location = [location.latitude + random.gauss(0,0000.1), location.longitude + random.gauss(0,000.1)]\n",
    "        if tweet['result'] == 'Positif':\n",
    "            folium.Marker(location,                               \n",
    "                          popup= popup,\n",
    "                          #popup= folium.Popup(test, max_width=2650),\n",
    "                          icon=folium.Icon(color='green')\n",
    "                         ).add_to(map_main)\n",
    "        elif tweet['result'] == 'Negatif':\n",
    "            folium.Marker(location,   \n",
    "                          popup= popup,\n",
    "                          icon=folium.Icon(color='red')\n",
    "                         ).add_to(map_main)            \n",
    "        elif tweet['result'] == 'Neutre':\n",
    "            folium.Marker(location,   \n",
    "                          popup= popup,\n",
    "                          icon=folium.Icon(color='lightgray')\n",
    "                         ).add_to(map_main)                    \n",
    "\n",
    "\n",
    "\n",
    "\n",
    "# Display map in Jupyter\n",
    "map_main"
   ]
  },
  {
   "cell_type": "code",
   "execution_count": 32,
   "metadata": {},
   "outputs": [
    {
     "ename": "ZeroDivisionError",
     "evalue": "float division by zero",
     "output_type": "error",
     "traceback": [
      "\u001b[0;31m---------------------------------------------------------------------------\u001b[0m",
      "\u001b[0;31mZeroDivisionError\u001b[0m                         Traceback (most recent call last)",
      "\u001b[0;32m<ipython-input-32-c9c88d25b633>\u001b[0m in \u001b[0;36m<module>\u001b[0;34m()\u001b[0m\n\u001b[1;32m     12\u001b[0m         \u001b[0my\u001b[0m\u001b[0;34m[\u001b[0m\u001b[0;36m2\u001b[0m\u001b[0;34m]\u001b[0m\u001b[0;34m+=\u001b[0m\u001b[0;36m1\u001b[0m\u001b[0;34m\u001b[0m\u001b[0m\n\u001b[1;32m     13\u001b[0m \u001b[0mx\u001b[0m\u001b[0;34m=\u001b[0m\u001b[0;34m[\u001b[0m\u001b[0;34m\"positif\"\u001b[0m\u001b[0;34m,\u001b[0m\u001b[0;34m\"negatif\"\u001b[0m\u001b[0;34m,\u001b[0m\u001b[0;34m\"neutre\"\u001b[0m\u001b[0;34m]\u001b[0m\u001b[0;34m;\u001b[0m\u001b[0;34m\u001b[0m\u001b[0m\n\u001b[0;32m---> 14\u001b[0;31m \u001b[0msquarify\u001b[0m\u001b[0;34m.\u001b[0m\u001b[0mplot\u001b[0m\u001b[0;34m(\u001b[0m\u001b[0msizes\u001b[0m\u001b[0;34m=\u001b[0m\u001b[0my\u001b[0m\u001b[0;34m,\u001b[0m \u001b[0mlabel\u001b[0m\u001b[0;34m=\u001b[0m\u001b[0mx\u001b[0m\u001b[0;34m,\u001b[0m \u001b[0malpha\u001b[0m\u001b[0;34m=\u001b[0m\u001b[0;36m.7\u001b[0m \u001b[0;34m)\u001b[0m\u001b[0;34m\u001b[0m\u001b[0m\n\u001b[0m\u001b[1;32m     15\u001b[0m \u001b[0mplt\u001b[0m\u001b[0;34m.\u001b[0m\u001b[0maxis\u001b[0m\u001b[0;34m(\u001b[0m\u001b[0;34m'off'\u001b[0m\u001b[0;34m)\u001b[0m\u001b[0;34m\u001b[0m\u001b[0m\n\u001b[1;32m     16\u001b[0m \u001b[0mplt\u001b[0m\u001b[0;34m.\u001b[0m\u001b[0mshow\u001b[0m\u001b[0;34m(\u001b[0m\u001b[0;34m)\u001b[0m\u001b[0;34m\u001b[0m\u001b[0m\n",
      "\u001b[0;32m/Library/Frameworks/Python.framework/Versions/3.6/lib/python3.6/site-packages/squarify/__init__.py\u001b[0m in \u001b[0;36mplot\u001b[0;34m(sizes, norm_x, norm_y, color, label, value, ax, **kwargs)\u001b[0m\n\u001b[1;32m    135\u001b[0m         \u001b[0mcolor\u001b[0m \u001b[0;34m=\u001b[0m \u001b[0;34m[\u001b[0m\u001b[0mcmap\u001b[0m\u001b[0;34m(\u001b[0m\u001b[0mrandom\u001b[0m\u001b[0;34m.\u001b[0m\u001b[0mrandom\u001b[0m\u001b[0;34m(\u001b[0m\u001b[0;34m)\u001b[0m\u001b[0;34m)\u001b[0m \u001b[0;32mfor\u001b[0m \u001b[0mi\u001b[0m \u001b[0;32min\u001b[0m \u001b[0mrange\u001b[0m\u001b[0;34m(\u001b[0m\u001b[0mlen\u001b[0m\u001b[0;34m(\u001b[0m\u001b[0msizes\u001b[0m\u001b[0;34m)\u001b[0m\u001b[0;34m)\u001b[0m\u001b[0;34m]\u001b[0m\u001b[0;34m\u001b[0m\u001b[0m\n\u001b[1;32m    136\u001b[0m \u001b[0;34m\u001b[0m\u001b[0m\n\u001b[0;32m--> 137\u001b[0;31m     \u001b[0mnormed\u001b[0m \u001b[0;34m=\u001b[0m \u001b[0mnormalize_sizes\u001b[0m\u001b[0;34m(\u001b[0m\u001b[0msizes\u001b[0m\u001b[0;34m,\u001b[0m \u001b[0mnorm_x\u001b[0m\u001b[0;34m,\u001b[0m \u001b[0mnorm_y\u001b[0m\u001b[0;34m)\u001b[0m\u001b[0;34m\u001b[0m\u001b[0m\n\u001b[0m\u001b[1;32m    138\u001b[0m     \u001b[0mrects\u001b[0m \u001b[0;34m=\u001b[0m \u001b[0msquarify\u001b[0m\u001b[0;34m(\u001b[0m\u001b[0mnormed\u001b[0m\u001b[0;34m,\u001b[0m \u001b[0;36m0\u001b[0m\u001b[0;34m,\u001b[0m \u001b[0;36m0\u001b[0m\u001b[0;34m,\u001b[0m \u001b[0mnorm_x\u001b[0m\u001b[0;34m,\u001b[0m \u001b[0mnorm_y\u001b[0m\u001b[0;34m)\u001b[0m\u001b[0;34m\u001b[0m\u001b[0m\n\u001b[1;32m    139\u001b[0m \u001b[0;34m\u001b[0m\u001b[0m\n",
      "\u001b[0;32m/Library/Frameworks/Python.framework/Versions/3.6/lib/python3.6/site-packages/squarify/__init__.py\u001b[0m in \u001b[0;36mnormalize_sizes\u001b[0;34m(sizes, dx, dy)\u001b[0m\n\u001b[1;32m      8\u001b[0m     \u001b[0msizes\u001b[0m \u001b[0;34m=\u001b[0m \u001b[0mmap\u001b[0m\u001b[0;34m(\u001b[0m\u001b[0mfloat\u001b[0m\u001b[0;34m,\u001b[0m \u001b[0msizes\u001b[0m\u001b[0;34m)\u001b[0m\u001b[0;34m\u001b[0m\u001b[0m\n\u001b[1;32m      9\u001b[0m     \u001b[0msizes\u001b[0m \u001b[0;34m=\u001b[0m \u001b[0mmap\u001b[0m\u001b[0;34m(\u001b[0m\u001b[0;32mlambda\u001b[0m \u001b[0msize\u001b[0m\u001b[0;34m:\u001b[0m \u001b[0msize\u001b[0m \u001b[0;34m*\u001b[0m \u001b[0mtotal_area\u001b[0m \u001b[0;34m/\u001b[0m \u001b[0mtotal_size\u001b[0m\u001b[0;34m,\u001b[0m \u001b[0msizes\u001b[0m\u001b[0;34m)\u001b[0m\u001b[0;34m\u001b[0m\u001b[0m\n\u001b[0;32m---> 10\u001b[0;31m     \u001b[0;32mreturn\u001b[0m \u001b[0mlist\u001b[0m\u001b[0;34m(\u001b[0m\u001b[0msizes\u001b[0m\u001b[0;34m)\u001b[0m\u001b[0;34m\u001b[0m\u001b[0m\n\u001b[0m\u001b[1;32m     11\u001b[0m \u001b[0;34m\u001b[0m\u001b[0m\n\u001b[1;32m     12\u001b[0m \u001b[0;32mdef\u001b[0m \u001b[0mpad_rectangle\u001b[0m\u001b[0;34m(\u001b[0m\u001b[0mrect\u001b[0m\u001b[0;34m)\u001b[0m\u001b[0;34m:\u001b[0m\u001b[0;34m\u001b[0m\u001b[0m\n",
      "\u001b[0;32m/Library/Frameworks/Python.framework/Versions/3.6/lib/python3.6/site-packages/squarify/__init__.py\u001b[0m in \u001b[0;36m<lambda>\u001b[0;34m(size)\u001b[0m\n\u001b[1;32m      7\u001b[0m     \u001b[0mtotal_area\u001b[0m \u001b[0;34m=\u001b[0m \u001b[0mdx\u001b[0m \u001b[0;34m*\u001b[0m \u001b[0mdy\u001b[0m\u001b[0;34m\u001b[0m\u001b[0m\n\u001b[1;32m      8\u001b[0m     \u001b[0msizes\u001b[0m \u001b[0;34m=\u001b[0m \u001b[0mmap\u001b[0m\u001b[0;34m(\u001b[0m\u001b[0mfloat\u001b[0m\u001b[0;34m,\u001b[0m \u001b[0msizes\u001b[0m\u001b[0;34m)\u001b[0m\u001b[0;34m\u001b[0m\u001b[0m\n\u001b[0;32m----> 9\u001b[0;31m     \u001b[0msizes\u001b[0m \u001b[0;34m=\u001b[0m \u001b[0mmap\u001b[0m\u001b[0;34m(\u001b[0m\u001b[0;32mlambda\u001b[0m \u001b[0msize\u001b[0m\u001b[0;34m:\u001b[0m \u001b[0msize\u001b[0m \u001b[0;34m*\u001b[0m \u001b[0mtotal_area\u001b[0m \u001b[0;34m/\u001b[0m \u001b[0mtotal_size\u001b[0m\u001b[0;34m,\u001b[0m \u001b[0msizes\u001b[0m\u001b[0;34m)\u001b[0m\u001b[0;34m\u001b[0m\u001b[0m\n\u001b[0m\u001b[1;32m     10\u001b[0m     \u001b[0;32mreturn\u001b[0m \u001b[0mlist\u001b[0m\u001b[0;34m(\u001b[0m\u001b[0msizes\u001b[0m\u001b[0;34m)\u001b[0m\u001b[0;34m\u001b[0m\u001b[0m\n\u001b[1;32m     11\u001b[0m \u001b[0;34m\u001b[0m\u001b[0m\n",
      "\u001b[0;31mZeroDivisionError\u001b[0m: float division by zero"
     ]
    }
   ],
   "source": [
    "import squarify \n",
    "\n",
    "\n",
    "\n",
    "y=[0,0,0];\n",
    "for tweet in reader :\n",
    "    if tweet['result'] == 'Positif':\n",
    "        y[0]+=1\n",
    "    elif tweet['result'] == 'Negatif':\n",
    "        y[1]+=1\n",
    "    elif tweet['result'] == 'Neutre':\n",
    "        y[2]+=1\n",
    "x=[\"positif\",\"negatif\",\"neutre\"];   \n",
    "squarify.plot(sizes=y, label=x, alpha=.7 )\n",
    "plt.axis('off')\n",
    "plt.show()\n"
   ]
  },
  {
   "cell_type": "code",
   "execution_count": null,
   "metadata": {},
   "outputs": [],
   "source": []
  }
 ],
 "metadata": {
  "kernelspec": {
   "display_name": "Python with Pixiedust (Spark 2.2)",
   "language": "python",
   "name": "pythonwithpixiedustspark22"
  },
  "language_info": {
   "codemirror_mode": {
    "name": "ipython",
    "version": 3
   },
   "file_extension": ".py",
   "mimetype": "text/x-python",
   "name": "python",
   "nbconvert_exporter": "python",
   "pygments_lexer": "ipython3",
   "version": "3.6.0"
  }
 },
 "nbformat": 4,
 "nbformat_minor": 2
}
