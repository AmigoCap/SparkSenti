{
 "cells": [
  {
   "cell_type": "markdown",
   "metadata": {},
   "source": [
    "Import des librairies\n",
    "- pixiedust (Kernel Python/Scala)\n",
    "- time"
   ]
  },
  {
   "cell_type": "code",
   "execution_count": 1,
   "metadata": {},
   "outputs": [],
   "source": [
    "#import pixiedust\n",
    "import time\n",
    "import os\n",
    "import tweepy\n",
    "import json\n",
    "import json_lines\n"
   ]
  },
  {
   "cell_type": "markdown",
   "metadata": {},
   "source": [
    "Configuration du nom du fichier utilisé"
   ]
  },
  {
   "cell_type": "code",
   "execution_count": 2,
   "metadata": {},
   "outputs": [
    {
     "name": "stdout",
     "output_type": "stream",
     "text": [
      "env: TIME=1521134115.8391354\n",
      "env: OUTPUT_TWEET_FILENAME=output_tweet_1521134115.8391354.json\n",
      "env: TWEET_JSON_FILENAME=input_tweet_1521134115.8391354.json\n"
     ]
    }
   ],
   "source": [
    "%env TIME={time.time()}\n",
    "\n",
    "%env OUTPUT_TWEET_FILENAME=output_tweet_{os.environ['TIME']}.json\n",
    "%env TWEET_JSON_FILENAME=input_tweet_{os.environ['TIME']}.json\n"
   ]
  },
  {
   "cell_type": "raw",
   "metadata": {},
   "source": [
    "Collect des données twitter et stockage dans un json 'tweets_time.json'"
   ]
  },
  {
   "cell_type": "code",
   "execution_count": 3,
   "metadata": {},
   "outputs": [],
   "source": [
    "with_geo=False\n",
    "API_key = json.load(open(\"API_key.txt\", \"r\"))\n",
    "\n",
    "auth = tweepy.OAuthHandler(API_key[\"consumer_key\"], API_key[\"consumer_secret\"])\n",
    "auth.set_access_token(API_key[\"access_token\"], API_key[\"access_token_secret\"])\n",
    "api = tweepy.API(auth)\n",
    "\n",
    "keyword = \"bitcoin\"\n",
    "\n",
    "tweets = api.search( q=keyword,tweet_mode='extended',include_rts=False,count=2000)\n",
    "\n",
    "json_tweets=[]\n",
    "i=0\n",
    "j=0\n",
    "while i<1:\n",
    "\n",
    "\n",
    "    i=i+1\n",
    "    for tweet in tweets:\n",
    "        if with_geo==False or tweet._json[\"place\"]!=None or tweet._json[\"coordinates\"]!=None:\n",
    "            j=j+1\n",
    "            if len(json_tweets)!=0:\n",
    "                b=[x for x in json_tweets if json.loads(x)[\"id\"]==tweet._json[\"id\"]]\n",
    "                if len(b)==0:\n",
    "                    json_tweets.append(json.dumps(tweet._json))\n",
    "            else:\n",
    "                json_tweets.append(json.dumps(tweet._json))\n",
    "\n",
    "json_str = \"\\n\".join(json_tweets)\n",
    "\n",
    "filename = \"tweets-database/\"+os.environ['TWEET_JSON_FILENAME']\n",
    "with open(filename, \"w\") as f:\n",
    "    f.write(json_str)"
   ]
  },
  {
   "cell_type": "markdown",
   "metadata": {},
   "source": [
    "Mise à jour de l'algorithme sur le Datacenter"
   ]
  },
  {
   "cell_type": "code",
   "execution_count": null,
   "metadata": {
    "scrolled": true
   },
   "outputs": [],
   "source": [
    "%%bash\n",
    "cd Algo1\n",
    "sbt \"push\""
   ]
  },
  {
   "cell_type": "markdown",
   "metadata": {},
   "source": [
    "Envoie des tweets collectés sur le datacenter"
   ]
  },
  {
   "cell_type": "code",
   "execution_count": null,
   "metadata": {},
   "outputs": [],
   "source": [
    "%%bash\n",
    "cp tweets-database/$TWEET_JSON_FILENAME Algo1/$TWEET_JSON_FILENAME\n",
    "cd Algo1\n",
    "sbt \"put $TWEET_JSON_FILENAME\""
   ]
  },
  {
   "cell_type": "markdown",
   "metadata": {},
   "source": [
    "Execution de l'analyse de sentiments des tweets colléctés sur le datacenter"
   ]
  },
  {
   "cell_type": "code",
   "execution_count": 7,
   "metadata": {},
   "outputs": [
    {
     "name": "stdout",
     "output_type": "stream",
     "text": [
      "\u001b[0m[\u001b[0m\u001b[0minfo\u001b[0m] \u001b[0m\u001b[0mLoading settings from idea.sbt ...\u001b[0m\n",
      "\u001b[0m[\u001b[0m\u001b[0minfo\u001b[0m] \u001b[0m\u001b[0mLoading global plugins from /Users/Frego/.sbt/1.0/plugins\u001b[0m\n",
      "\u001b[0m[\u001b[0m\u001b[0minfo\u001b[0m] \u001b[0m\u001b[0mLoading settings from plugins.sbt ...\u001b[0m\n",
      "\u001b[0m[\u001b[0m\u001b[0minfo\u001b[0m] \u001b[0m\u001b[0mLoading project definition from /Users/Frego/Documents/Centrale/4A/OPTION/08_Projet/SparkSenti/Algo1/project\u001b[0m\n",
      "\u001b[0m[\u001b[0m\u001b[0minfo\u001b[0m] \u001b[0m\u001b[0mLoading settings from build.sbt ...\u001b[0m\n",
      "\u001b[0m[\u001b[0m\u001b[0minfo\u001b[0m] \u001b[0m\u001b[0mSet current project to SparkSenti (in build file:/Users/Frego/Documents/Centrale/4A/OPTION/08_Projet/SparkSenti/Algo1/)\u001b[0m\n",
      "spawn ssh fregosi1@156.18.90.100\r\n",
      "fregosi1@156.18.90.100's password: \r\n",
      "Last login: Thu Mar 15 17:07:14 2018 from vpn108-60.vpnusers.ec-lyon.fr\r",
      "\r\n",
      "Welcome to Bright release         7.3\r\n",
      "\r\n",
      "                                                        Based on CentOS Linux 7\r\n",
      "                                                                    ID: #000002\r\n",
      "\r\n",
      "Use the following commands to adjust your environment:\r\n",
      "\r\n",
      "'module avail'            - show available modules\r\n",
      "'module add <module>'     - adds a module to your environment for this session\r\n",
      "'module initadd <module>' - configure module to be loaded at every login\r\n",
      "\r\n",
      "-------------------------------------------------------------------------------\r\n",
      "\u001b]0;fregosi1@bright73:~\u0007[fregosi1@bright73 ~]$ echo SparkSenti-0.1/lib/*.jar | tr \" \" \",\"\r\n",
      "SparkSenti-0.1/lib/akka-actor_2.11-2.5.4.jar,SparkSenti-0.1/lib/akka-slf4j_2.11-2.5.4.jar,SparkSenti-0.1/lib/antlr4-runtime-4.6.jar,SparkSenti-0.1/lib/args4j-2.0.23.jar,SparkSenti-0.1/lib/async-http-client-1.7.16.jar,SparkSenti-0.1/lib/bioresources-1.1.24.jar,SparkSenti-0.1/lib/clearnlp-2.0.2.jar,SparkSenti-0.1/lib/common_2.11-0.0.7.jar,SparkSenti-0.1/lib/common-scala_2.10-1.1.2.jar,SparkSenti-0.1/lib/commons-codec-1.4.jar,SparkSenti-0.1/lib/commons-io-2.5.jar,SparkSenti-0.1/lib/commons-lang3-3.4.jar,SparkSenti-0.1/lib/config-1.3.1.jar,SparkSenti-0.1/lib/dispatch-core_2.10-0.11.0.jar,SparkSenti-0.1/lib/ejml-0.23.jar,SparkSenti-0.1/lib/guava-14.0.1.jar,SparkSenti-0.1/lib/hppc-0.5.2.jar,SparkSenti-0.1/lib/jackson-annotations-2.8.9.jar,SparkSenti-0.1/lib/jackson-core-2.8.9.jar,SparkSenti-0.1/lib/jackson-databind-2.8.9.jar,SparkSenti-0.1/lib/jackson-datatype-jdk8-2.8.9.jar,SparkSenti-0.1/lib/jackson-datatype-jsr310-2.8.9.jar,SparkSenti-0.1/lib/javax.json-api-1.0.jar,SparkSenti-0.1/lib/javax.servlet-2.5.0.v201103041518.jar,SparkSenti-0.1/lib/jaxb-api-2.2.7.jar,SparkSenti-0.1/lib/jetty-continuation-7.6.9.v20130131.jar,SparkSenti-0.1/lib/jetty-http-7.6.9.v20130131.jar,SparkSenti-0.1/lib/jetty-io-7.6.9.v20130131.jar,SparkSenti-0.1/lib/jetty-security-7.6.9.v20130131.jar,SparkSenti-0.1/lib/jetty-server-7.6.9.v20130131.jar,SparkSenti-0.1/lib/jetty-servlet-7.6.9.v20130131.jar,SparkSenti-0.1/lib/jetty-util-7.6.9.v20130131.jar,SparkSenti-0.1/lib/jetty-webapp-7.6.9.v20130131.jar,SparkSenti-0.1/lib/jetty-xml-7.6.9.v20130131.jar,SparkSenti-0.1/lib/jline-2.12.1.jar,SparkSenti-0.1/lib/joda-time-2.9.9.jar,SparkSenti-0.1/lib/jollyday-0.4.7.jar,SparkSenti-0.1/lib/jregex-1.2_01.jar,SparkSenti-0.1/lib/json4s-ast_2.11-3.5.2.jar,SparkSenti-0.1/lib/json4s-core_2.11-3.5.2.jar,SparkSenti-0.1/lib/json4s-jackson_2.11-3.5.2.jar,SparkSenti-0.1/lib/json4s-scalap_2.11-3.5.2.jar,SparkSenti-0.1/lib/liblinear-1.94.jar,SparkSenti-0.1/lib/libsvm-3.17.jar,SparkSenti-0.1/lib/log4j-1.2.17.jar,SparkSenti-0.1/lib/logback-classic-1.0.10.jar,SparkSenti-0.1/lib/logback-core-1.0.10.jar,SparkSenti-0.1/lib/macro-compat_2.11-1.1.1.jar,SparkSenti-0.1/lib/maltparser-1.9.0.jar,SparkSenti-0.1/lib/morpha-stemmer-1.0.5.jar,SparkSenti-0.1/lib/netty-3.6.3.Final.jar,SparkSenti-0.1/lib/nlptools-core_2.10-2.4.5.jar,SparkSenti-0.1/lib/nlptools-stem-morpha_2.10-2.4.5.jar,SparkSenti-0.1/lib/paranamer-2.8.jar,SparkSenti-0.1/lib/play-functional_2.11-2.6.7.jar,SparkSenti-0.1/lib/play-json_2.11-2.6.7.jar,SparkSenti-0.1/lib/processors-corenlp_2.11-6.1.3.jar,SparkSenti-0.1/lib/processors-main_2.11-6.1.3.jar,SparkSenti-0.1/lib/processors-modelscorenlp_2.11-6.1.3.jar,SparkSenti-0.1/lib/processors-modelsmain_2.11-6.1.3.jar,SparkSenti-0.1/lib/processors-odin_2.11-6.1.3.jar,SparkSenti-0.1/lib/scala-java8-compat_2.11-0.7.0.jar,SparkSenti-0.1/lib/scala-logging_2.11-3.4.0.jar,SparkSenti-0.1/lib/scala-parser-combinators_2.11-1.0.3.jar,SparkSenti-0.1/lib/scala-reflect-2.11.8.jar,SparkSenti-0.1/lib/scala-xml_2.11-1.0.6.jar,SparkSenti-0.1/lib/scalaz-core_2.11-7.2.18.jar,SparkSenti-0.1/lib/scopt_2.10-2.1.0.jar,SparkSenti-0.1/lib/slf4j-api-1.7.10.jar,SparkSenti-0.1/lib/snakeyaml-1.14.jar,SparkSenti-0.1/lib/spark-corenlp-0.2.0-s_2.11.jar,SparkSenti-0.1/lib/sparksenti_2.11-0.1.jar,SparkSenti-0.1/lib/spark-sql_2.10-1.0.0.jar,SparkSenti-0.1/lib/stanford-corenlp-3.3.0.jar,SparkSenti-0.1/lib/stanford-corenlp-3.3.0-models.jar,SparkSenti-0.1/lib/stanford-corenlp-3.5.1.jar,SparkSenti-0.1/lib/stanford-corenlp-3.5.1-models.jar,SparkSenti-0.1/lib/stanford-parser-3.4.jar,SparkSenti-0.1/lib/unfiltered_2.10-0.7.0.jar,SparkSenti-0.1/lib/unfiltered-filter_2.10-0.7.0.jar,SparkSenti-0.1/lib/unfiltered-jetty_2.10-0.7.0.jar,SparkSenti-0.1/lib/unfiltered-util_2.10-0.7.0.jar,SparkSenti-0.1/lib/xalan-2.7.0.jar,SparkSenti-0.1/lib/xercesImpl-2.8.0.jar,SparkSenti-0.1/lib/xml-apis-1.3.03.jar,SparkSenti-0.1/lib/xom-1.2.10.jar\r\n",
      "\u001b]0;fregosi1@bright73:~\u0007[fregosi1@bright73 ~]$ spark-submit --master yarn --conf spark.executorEnv.JAVA_ \r",
      "HOME=/usr/lib/jvm/jre-1.8.0-openjdk/ --class algo1_worksheet.test --jars SparkSe \r",
      "nti-0.1/lib/akka-actor_2.11-2.5.4.jar,SparkSenti-0.1/lib/akka-slf4j_2.11-2.5.4.j \r",
      "ar,SparkSenti-0.1/lib/antlr4-runtime-4.6.jar,SparkSenti-0.1/lib/args4j-2.0.23.ja \r",
      "r,SparkSenti-0.1/lib/async-http-client-1.7.16.jar,SparkSenti-0.1/lib/bioresource \r",
      "s-1.1.24.jar,SparkSenti-0.1/lib/clearnlp-2.0.2.jar,SparkSenti-0.1/lib/common_2.1 \r",
      "1-0.0.7.jar,SparkSenti-0.1/lib/common-scala_2.10-1.1.2.jar,SparkSenti-0.1/lib/co \r",
      "mmons-codec-1.4.jar,SparkSenti-0.1/lib/commons-io-2.5.jar,SparkSenti-0.1/lib/com \r",
      "mons-lang3-3.4.jar,SparkSenti-0.1/lib/config-1.3.1.jar,SparkSenti-0.1/lib/dispat \r",
      "ch-core_2.10-0.11.0.jar,SparkSenti-0.1/lib/ejml-0.23.jar,SparkSenti-0.1/lib/guav \r",
      "a-14.0.1.jar,SparkSenti-0.1/lib/hppc-0.5.2.jar,SparkSenti-0.1/lib/jackson-annota \r",
      "tions-2.8.9.jar,SparkSenti-0.1/lib/jackson-core-2.8.9.jar,SparkSenti-0.1/lib/jac \r",
      "kson-databind-2.8.9.jar,SparkSenti-0.1/lib/jackson-datatype-jdk8-2.8.9.jar,Spark \r",
      "Senti-0.1/lib/jackson-datatype-jsr310-2.8.9.jar,SparkSenti-0.1/lib/javax.json-ap \r",
      "i-1.0.jar,SparkSenti-0.1/lib/javax.servlet-2.5.0.v201103041518.jar,SparkSenti-0. \r",
      "1/lib/jaxb-api-2.2.7.jar,SparkSenti-0.1/lib/jetty-continuation-7.6.9.v20130131.j \r",
      "ar,SparkSenti-0.1/lib/jetty-http-7.6.9.v20130131.jar,SparkSenti-0.1/lib/jetty-io \r",
      "-7.6.9.v20130131.jar,SparkSenti-0.1/lib/jetty-security-7.6.9.v20130131.jar,Spark \r",
      "Senti-0.1/lib/jetty-server-7.6.9.v20130131.jar,SparkSenti-0.1/lib/jetty-servlet- \r",
      "7.6.9.v20130131.jar,SparkSenti-0.1/lib/jetty-util-7.6.9.v20130131.jar,SparkSenti \r",
      "-0.1/lib/jetty-webapp-7.6.9.v20130131.jar,SparkSenti-0.1/lib/jetty-xml-7.6.9.v20 \r",
      "130131.jar,SparkSenti-0.1/lib/jline-2.12.1.jar,SparkSenti-0.1/lib/joda-time-2.9. \r",
      "9.jar,SparkSenti-0.1/lib/jollyday-0.4.7.jar,SparkSenti-0.1/lib/jregex-1.2_01.jar \r",
      ",SparkSenti-0.1/lib/json4s-ast_2.11-3.5.2.jar,SparkSenti-0.1/lib/json4s-core_2.1 \r",
      "1-3.5.2.jar,SparkSenti-0.1/lib/json4s-jackson_2.11-3.5.2.jar,SparkSenti-0.1/lib/ \r",
      "json4s-scalap_2.11-3.5.2.jar,SparkSenti-0.1/lib/liblinear-1.94.jar,SparkSenti-0. \r",
      "1/lib/libsvm-3.17.jar,SparkSenti-0.1/lib/log4j-1.2.17.jar,SparkSenti-0.1/lib/log \r",
      "back-classic-1.0.10.jar,SparkSenti-0.1/lib/logback-core-1.0.10.jar,SparkSenti-0. \r",
      "1/lib/macro-compat_2.11-1.1.1.jar,SparkSenti-0.1/lib/maltparser-1.9.0.jar,SparkS \r",
      "enti-0.1/lib/morpha-stemmer-1.0.5.jar,SparkSenti-0.1/lib/netty-3.6.3.Final.jar,S \r",
      "parkSenti-0.1/lib/nlptools-core_2.10-2.4.5.jar,SparkSenti-0.1/lib/nlptools-stem- \r",
      "morpha_2.10-2.4.5.jar,SparkSenti-0.1/lib/paranamer-2.8.jar,SparkSenti-0.1/lib/pl \r",
      "ay-functional_2.11-2.6.7.jar,SparkSenti-0.1/lib/play-json_2.11-2.6.7.jar,SparkSe \r",
      "nti-0.1/lib/processors-corenlp_2.11-6.1.3.jar,SparkSenti-0.1/lib/processors-main \r",
      "_2.11-6.1.3.jar,SparkSenti-0.1/lib/processors-modelscorenlp_2.11-6.1.3.jar,Spark \r",
      "Senti-0.1/lib/processors-modelsmain_2.11-6.1.3.jar,SparkSenti-0.1/lib/processors \r",
      "-odin_2.11-6.1.3.jar,SparkSenti-0.1/lib/scala-java8-compat_2.11-0.7.0.jar,SparkS \r",
      "enti-0.1/lib/scala-logging_2.11-3.4.0.jar,SparkSenti-0.1/lib/scala-parser-combin \r",
      "ators_2.11-1.0.3.jar,SparkSenti-0.1/lib/scala-reflect-2.11.8.jar,SparkSenti-0.1/ \r",
      "lib/scala-xml_2.11-1.0.6.jar,SparkSenti-0.1/lib/scalaz-core_2.11-7.2.18.jar,Spar \r",
      "kSenti-0.1/lib/scopt_2.10-2.1.0.jar,SparkSenti-0.1/lib/slf4j-api-1.7.10.jar,Spar \r",
      "kSenti-0.1/lib/snakeyaml-1.14.jar,SparkSenti-0.1/lib/spark-corenlp-0.2.0-s_2.11. \r",
      "jar,SparkSenti-0.1/lib/sparksenti_2.11-0.1.jar,SparkSenti-0.1/lib/spark-sql_2.10 \r",
      "-1.0.0.jar,SparkSenti-0.1/lib/stanford-corenlp-3.3.0.jar,SparkSenti-0.1/lib/stan \r",
      "ford-corenlp-3.3.0-models.jar,SparkSenti-0.1/lib/stanford-corenlp-3.5.1.jar,Spar \r",
      "kSenti-0.1/lib/stanford-corenlp-3.5.1-models.jar,SparkSenti-0.1/lib/stanford-par \r",
      "ser-3.4.jar,SparkSenti-0.1/lib/unfiltered_2.10-0.7.0.jar,SparkSenti-0.1/lib/unfi \r",
      "ltered-filter_2.10-0.7.0.jar,SparkSenti-0.1/lib/unfiltered-jetty_2.10-0.7.0.jar, \r",
      "SparkSenti-0.1/lib/unfiltered-util_2.10-0.7.0.jar,SparkSenti-0.1/lib/xalan-2.7.0 \r",
      ".jar,SparkSenti-0.1/lib/xercesImpl-2.8.0.jar,SparkSenti-0.1/lib/xml-apis-1.3.03. \r",
      "jar,SparkSenti-0.1/lib/xom-1.2.10.jar SparkSenti-0.1/lib/sparksenti_2.11-0.1.jar \r",
      " input_tweet_1521130002.4700851.json > defaultoutput.json\r\n",
      "18/03/15 17:07:44 WARN NativeCodeLoader: Unable to load native-hadoop library for your platform... using builtin-java classes where applicable\r\n",
      "18/03/15 17:07:46 WARN Client: Neither spark.yarn.jars nor spark.yarn.archive is set, falling back to uploading libraries under SPARK_HOME.\r\n",
      "\r",
      "[Stage 0:>                                                          (0 + 1) / 2]\r",
      "[Stage 0:>                                                          (0 + 2) / 2]\r",
      "[Stage 0:=============================>                             (1 + 1) / 2]\r",
      "                                                                                \r",
      "\u001b]0;fregosi1@bright73:~\u0007[fregosi1@bright73 ~]$ \n",
      "\u001b[0m[\u001b[0m\u001b[32msuccess\u001b[0m] \u001b[0m\u001b[0mTotal time: 47 s, completed 15 mars 2018 17:08:29\u001b[0m\n"
     ]
    }
   ],
   "source": [
    "%%bash\n",
    "cd Algo1\n",
    "rm -rf $TWEET_JSON_FILENAME\n",
    "sbt \"submit $TWEET_JSON_FILENAME\""
   ]
  },
  {
   "cell_type": "markdown",
   "metadata": {},
   "source": [
    "Récupération du resultat de l'analyse : fichier text (id_tweet sentiment)"
   ]
  },
  {
   "cell_type": "code",
   "execution_count": 9,
   "metadata": {},
   "outputs": [
    {
     "name": "stdout",
     "output_type": "stream",
     "text": [
      "\u001b[0m[\u001b[0m\u001b[0minfo\u001b[0m] \u001b[0m\u001b[0mLoading settings from idea.sbt ...\u001b[0m\n",
      "\u001b[0m[\u001b[0m\u001b[0minfo\u001b[0m] \u001b[0m\u001b[0mLoading global plugins from /Users/Frego/.sbt/1.0/plugins\u001b[0m\n",
      "\u001b[0m[\u001b[0m\u001b[0minfo\u001b[0m] \u001b[0m\u001b[0mLoading settings from plugins.sbt ...\u001b[0m\n",
      "\u001b[0m[\u001b[0m\u001b[0minfo\u001b[0m] \u001b[0m\u001b[0mLoading project definition from /Users/Frego/Documents/Centrale/4A/OPTION/08_Projet/SparkSenti/Algo1/project\u001b[0m\n",
      "\u001b[0m[\u001b[0m\u001b[0minfo\u001b[0m] \u001b[0m\u001b[0mLoading settings from build.sbt ...\u001b[0m\n",
      "\u001b[0m[\u001b[0m\u001b[0minfo\u001b[0m] \u001b[0m\u001b[0mSet current project to SparkSenti (in build file:/Users/Frego/Documents/Centrale/4A/OPTION/08_Projet/SparkSenti/Algo1/)\u001b[0m\n",
      "spawn scp fregosi1@156.18.90.100:'defaultoutput.json' .\r\n",
      "fregosi1@156.18.90.100's password: \r\n",
      "\r",
      "defaultoutput.json                              0%    0     0.0KB/s   --:-- ETA\r",
      "defaultoutput.json                            100%  600KB   2.2MB/s   00:00    \r\n",
      "\n",
      "\u001b[0m[\u001b[0m\u001b[32msuccess\u001b[0m] \u001b[0m\u001b[0mTotal time: 1 s, completed 15 mars 2018 17:09:19\u001b[0m\n"
     ]
    }
   ],
   "source": [
    "%%bash\n",
    "cd Algo1\n",
    "sbt \"getOutput 'defaultoutput.json'\"\n",
    "cp defaultoutput.json ../tweets-database/$OUTPUT_TWEET_FILENAME\n",
    "rm -rf defaultoutput.json"
   ]
  },
  {
   "cell_type": "markdown",
   "metadata": {},
   "source": [
    "Pour test de viz (evite de lancer le workflow complet)"
   ]
  },
  {
   "cell_type": "code",
   "execution_count": 6,
   "metadata": {},
   "outputs": [
    {
     "name": "stdout",
     "output_type": "stream",
     "text": [
      "env: OUTPUT_TWEET_FILENAME=output_test.json\n",
      "env: TWEET_JSON_FILENAME=input_test.json\n"
     ]
    }
   ],
   "source": [
    "%env OUTPUT_TWEET_FILENAME=output_test.json\n",
    "%env TWEET_JSON_FILENAME=input_test.json"
   ]
  },
  {
   "cell_type": "code",
   "execution_count": 7,
   "metadata": {},
   "outputs": [],
   "source": [
    "file_json = open(\"tweets-database/\"+os.environ['OUTPUT_TWEET_FILENAME'],\"r\", encoding=\"utf8\");\n",
    "reader = json_lines.reader(file_json)\n",
    "\n"
   ]
  },
  {
   "cell_type": "code",
   "execution_count": 16,
   "metadata": {
    "scrolled": false
   },
   "outputs": [
    {
     "data": {
      "text/html": [
       "<div style=\"width:100%;\"><div style=\"position:relative;width:100%;height:0;padding-bottom:60%;\"><iframe src=\"data:text/html;charset=utf-8;base64,PCFET0NUWVBFIGh0bWw+CjxoZWFkPiAgICAKICAgIDxtZXRhIGh0dHAtZXF1aXY9ImNvbnRlbnQtdHlwZSIgY29udGVudD0idGV4dC9odG1sOyBjaGFyc2V0PVVURi04IiAvPgogICAgPHNjcmlwdD5MX1BSRUZFUl9DQU5WQVMgPSBmYWxzZTsgTF9OT19UT1VDSCA9IGZhbHNlOyBMX0RJU0FCTEVfM0QgPSBmYWxzZTs8L3NjcmlwdD4KICAgIDxzY3JpcHQgc3JjPSJodHRwczovL2Nkbi5qc2RlbGl2ci5uZXQvbnBtL2xlYWZsZXRAMS4yLjAvZGlzdC9sZWFmbGV0LmpzIj48L3NjcmlwdD4KICAgIDxzY3JpcHQgc3JjPSJodHRwczovL2FqYXguZ29vZ2xlYXBpcy5jb20vYWpheC9saWJzL2pxdWVyeS8xLjExLjEvanF1ZXJ5Lm1pbi5qcyI+PC9zY3JpcHQ+CiAgICA8c2NyaXB0IHNyYz0iaHR0cHM6Ly9tYXhjZG4uYm9vdHN0cmFwY2RuLmNvbS9ib290c3RyYXAvMy4yLjAvanMvYm9vdHN0cmFwLm1pbi5qcyI+PC9zY3JpcHQ+CiAgICA8c2NyaXB0IHNyYz0iaHR0cHM6Ly9jZG5qcy5jbG91ZGZsYXJlLmNvbS9hamF4L2xpYnMvTGVhZmxldC5hd2Vzb21lLW1hcmtlcnMvMi4wLjIvbGVhZmxldC5hd2Vzb21lLW1hcmtlcnMuanMiPjwvc2NyaXB0PgogICAgPGxpbmsgcmVsPSJzdHlsZXNoZWV0IiBocmVmPSJodHRwczovL2Nkbi5qc2RlbGl2ci5uZXQvbnBtL2xlYWZsZXRAMS4yLjAvZGlzdC9sZWFmbGV0LmNzcyIgLz4KICAgIDxsaW5rIHJlbD0ic3R5bGVzaGVldCIgaHJlZj0iaHR0cHM6Ly9tYXhjZG4uYm9vdHN0cmFwY2RuLmNvbS9ib290c3RyYXAvMy4yLjAvY3NzL2Jvb3RzdHJhcC5taW4uY3NzIiAvPgogICAgPGxpbmsgcmVsPSJzdHlsZXNoZWV0IiBocmVmPSJodHRwczovL21heGNkbi5ib290c3RyYXBjZG4uY29tL2Jvb3RzdHJhcC8zLjIuMC9jc3MvYm9vdHN0cmFwLXRoZW1lLm1pbi5jc3MiIC8+CiAgICA8bGluayByZWw9InN0eWxlc2hlZXQiIGhyZWY9Imh0dHBzOi8vbWF4Y2RuLmJvb3RzdHJhcGNkbi5jb20vZm9udC1hd2Vzb21lLzQuNi4zL2Nzcy9mb250LWF3ZXNvbWUubWluLmNzcyIgLz4KICAgIDxsaW5rIHJlbD0ic3R5bGVzaGVldCIgaHJlZj0iaHR0cHM6Ly9jZG5qcy5jbG91ZGZsYXJlLmNvbS9hamF4L2xpYnMvTGVhZmxldC5hd2Vzb21lLW1hcmtlcnMvMi4wLjIvbGVhZmxldC5hd2Vzb21lLW1hcmtlcnMuY3NzIiAvPgogICAgPGxpbmsgcmVsPSJzdHlsZXNoZWV0IiBocmVmPSJodHRwczovL3Jhd2dpdC5jb20vcHl0aG9uLXZpc3VhbGl6YXRpb24vZm9saXVtL21hc3Rlci9mb2xpdW0vdGVtcGxhdGVzL2xlYWZsZXQuYXdlc29tZS5yb3RhdGUuY3NzIiAvPgogICAgPHN0eWxlPmh0bWwsIGJvZHkge3dpZHRoOiAxMDAlO2hlaWdodDogMTAwJTttYXJnaW46IDA7cGFkZGluZzogMDt9PC9zdHlsZT4KICAgIDxzdHlsZT4jbWFwIHtwb3NpdGlvbjphYnNvbHV0ZTt0b3A6MDtib3R0b206MDtyaWdodDowO2xlZnQ6MDt9PC9zdHlsZT4KICAgIAogICAgICAgICAgICA8c3R5bGU+ICNtYXBfNzdlY2ZiYjVlZWMxNDA1YmI0ZDQ3OTQ3MTMwMjFlZjYgewogICAgICAgICAgICAgICAgcG9zaXRpb24gOiByZWxhdGl2ZTsKICAgICAgICAgICAgICAgIHdpZHRoIDogNjQwLjBweDsKICAgICAgICAgICAgICAgIGhlaWdodDogNDAwLjBweDsKICAgICAgICAgICAgICAgIGxlZnQ6IDAuMCU7CiAgICAgICAgICAgICAgICB0b3A6IDAuMCU7CiAgICAgICAgICAgICAgICB9CiAgICAgICAgICAgIDwvc3R5bGU+CiAgICAgICAgCjwvaGVhZD4KPGJvZHk+ICAgIAogICAgCiAgICAgICAgICAgIDxkaXYgY2xhc3M9ImZvbGl1bS1tYXAiIGlkPSJtYXBfNzdlY2ZiYjVlZWMxNDA1YmI0ZDQ3OTQ3MTMwMjFlZjYiID48L2Rpdj4KICAgICAgICAKPC9ib2R5Pgo8c2NyaXB0PiAgICAKICAgIAoKICAgICAgICAgICAgCiAgICAgICAgICAgICAgICB2YXIgYm91bmRzID0gbnVsbDsKICAgICAgICAgICAgCgogICAgICAgICAgICB2YXIgbWFwXzc3ZWNmYmI1ZWVjMTQwNWJiNGQ0Nzk0NzEzMDIxZWY2ID0gTC5tYXAoCiAgICAgICAgICAgICAgICAgICAgICAgICAgICAgICAgICAnbWFwXzc3ZWNmYmI1ZWVjMTQwNWJiNGQ0Nzk0NzEzMDIxZWY2JywKICAgICAgICAgICAgICAgICAgICAgICAgICAgICAgICAgIHtjZW50ZXI6IFszOSwtOTVdLAogICAgICAgICAgICAgICAgICAgICAgICAgICAgICAgICAgem9vbTogNCwKICAgICAgICAgICAgICAgICAgICAgICAgICAgICAgICAgIG1heEJvdW5kczogYm91bmRzLAogICAgICAgICAgICAgICAgICAgICAgICAgICAgICAgICAgbGF5ZXJzOiBbXSwKICAgICAgICAgICAgICAgICAgICAgICAgICAgICAgICAgIHdvcmxkQ29weUp1bXA6IGZhbHNlLAogICAgICAgICAgICAgICAgICAgICAgICAgICAgICAgICAgY3JzOiBMLkNSUy5FUFNHMzg1NwogICAgICAgICAgICAgICAgICAgICAgICAgICAgICAgICB9KTsKICAgICAgICAgICAgCiAgICAgICAgCiAgICAKICAgICAgICAgICAgdmFyIHRpbGVfbGF5ZXJfMzE1NTQ0NzlkMDVmNDUzN2FjMWRiZjg1MjA0ZDI4NjkgPSBMLnRpbGVMYXllcigKICAgICAgICAgICAgICAgICdodHRwczovL2NhcnRvZGItYmFzZW1hcHMte3N9Lmdsb2JhbC5zc2wuZmFzdGx5Lm5ldC9saWdodF9hbGwve3p9L3t4fS97eX0ucG5nJywKICAgICAgICAgICAgICAgIHsKICAiYXR0cmlidXRpb24iOiBudWxsLAogICJkZXRlY3RSZXRpbmEiOiBmYWxzZSwKICAibWF4Wm9vbSI6IDE4LAogICJtaW5ab29tIjogMSwKICAibm9XcmFwIjogZmFsc2UsCiAgInN1YmRvbWFpbnMiOiAiYWJjIgp9CiAgICAgICAgICAgICAgICApLmFkZFRvKG1hcF83N2VjZmJiNWVlYzE0MDViYjRkNDc5NDcxMzAyMWVmNik7CiAgICAgICAgCiAgICAKCiAgICAgICAgICAgIHZhciBtYXJrZXJfMzFhZjFjY2E5NmY0NDZlMGEzYjU1MTdiZWVjMTY2ZTIgPSBMLm1hcmtlcigKICAgICAgICAgICAgICAgIFszOC44NTYxNzIzNDI5ODQxMjQsLTc2Ljk0MjkzNjMyNDc4OTA2XSwKICAgICAgICAgICAgICAgIHsKICAgICAgICAgICAgICAgICAgICBpY29uOiBuZXcgTC5JY29uLkRlZmF1bHQoKQogICAgICAgICAgICAgICAgICAgIH0KICAgICAgICAgICAgICAgICkKICAgICAgICAgICAgICAgIC5hZGRUbyhtYXBfNzdlY2ZiYjVlZWMxNDA1YmI0ZDQ3OTQ3MTMwMjFlZjYpOwogICAgICAgICAgICAKICAgIAoKICAgICAgICAgICAgICAgIHZhciBpY29uXzFjNDZhM2RkYzQxOTRhZmI5ODQzOTZlNjNlYjNkMmY0ID0gTC5Bd2Vzb21lTWFya2Vycy5pY29uKHsKICAgICAgICAgICAgICAgICAgICBpY29uOiAnaW5mby1zaWduJywKICAgICAgICAgICAgICAgICAgICBpY29uQ29sb3I6ICd3aGl0ZScsCiAgICAgICAgICAgICAgICAgICAgbWFya2VyQ29sb3I6ICdyZWQnLAogICAgICAgICAgICAgICAgICAgIHByZWZpeDogJ2dseXBoaWNvbicsCiAgICAgICAgICAgICAgICAgICAgZXh0cmFDbGFzc2VzOiAnZmEtcm90YXRlLTAnCiAgICAgICAgICAgICAgICAgICAgfSk7CiAgICAgICAgICAgICAgICBtYXJrZXJfMzFhZjFjY2E5NmY0NDZlMGEzYjU1MTdiZWVjMTY2ZTIuc2V0SWNvbihpY29uXzFjNDZhM2RkYzQxOTRhZmI5ODQzOTZlNjNlYjNkMmY0KTsKICAgICAgICAgICAgCiAgICAKICAgICAgICAgICAgdmFyIHBvcHVwX2U2YjMxYjkwYWY5NTRkODdiY2JhNGI1MzA4MmUxNjA0ID0gTC5wb3B1cCh7bWF4V2lkdGg6ICczMDAnfSk7CgogICAgICAgICAgICAKICAgICAgICAgICAgICAgIHZhciBodG1sXzY4Zjk4ZDc3NTlhYzRlOWE5NzAyYWFlMTJhMjdmMDkwID0gJCgnPGRpdiBpZD0iaHRtbF82OGY5OGQ3NzU5YWM0ZTlhOTcwMmFhZTEyYTI3ZjA5MCIgc3R5bGU9IndpZHRoOiAxMDAuMCU7IGhlaWdodDogMTAwLjAlOyI+PGNlbnRlcj48aW1nIHNyYz0iaHR0cDovL3Bicy50d2ltZy5jb20vcHJvZmlsZV9pbWFnZXMvODc0Mjc2MTk3MzU3NTk2NjcyL2tVdWh0MDBtX25vcm1hbC5qcGciIGFsdD0icGljICIgLz48YnJcPjxiclw+PGI+RG9uYWxkIEouIFRydW1wPC9iPiB0d2VldGVkIDogPGk+VGhhbmsgeW91IEFkYW0gTGV2aW5lLCBUaGUgRmVkZXJhbGlzdCwgaW4gaW50ZXJ2aWV3IG9uIEBmb3hhbmRmcmllbmRzICDigJxEb25hbGQgVHJ1bXAgaXMgdGhlIGdyZWF0ZXN0IFByZXNpZGVudCBvdXIgQ291bnRyeSBoYXMgZXZlciBzZWVuLuKAnTwvaT48L2NlbnRlcj48L2Rpdj4nKVswXTsKICAgICAgICAgICAgICAgIHBvcHVwX2U2YjMxYjkwYWY5NTRkODdiY2JhNGI1MzA4MmUxNjA0LnNldENvbnRlbnQoaHRtbF82OGY5OGQ3NzU5YWM0ZTlhOTcwMmFhZTEyYTI3ZjA5MCk7CiAgICAgICAgICAgIAoKICAgICAgICAgICAgbWFya2VyXzMxYWYxY2NhOTZmNDQ2ZTBhM2I1NTE3YmVlYzE2NmUyLmJpbmRQb3B1cChwb3B1cF9lNmIzMWI5MGFmOTU0ZDg3YmNiYTRiNTMwODJlMTYwNCk7CgogICAgICAgICAgICAKICAgICAgICAKICAgIAoKICAgICAgICAgICAgdmFyIG1hcmtlcl9lNDhlNjc4YTkxNjg0ZWMyODFkYjBkNTg1ODk1NDc3NSA9IEwubWFya2VyKAogICAgICAgICAgICAgICAgWzM4Ljk1Mzc2OTY0MzYwNTg1LC03Ni45OTE3MTA1MTY0Nzg4OF0sCiAgICAgICAgICAgICAgICB7CiAgICAgICAgICAgICAgICAgICAgaWNvbjogbmV3IEwuSWNvbi5EZWZhdWx0KCkKICAgICAgICAgICAgICAgICAgICB9CiAgICAgICAgICAgICAgICApCiAgICAgICAgICAgICAgICAuYWRkVG8obWFwXzc3ZWNmYmI1ZWVjMTQwNWJiNGQ0Nzk0NzEzMDIxZWY2KTsKICAgICAgICAgICAgCiAgICAKCiAgICAgICAgICAgICAgICB2YXIgaWNvbl9lYmM2ZmI2M2IwYTc0YWFhOTUzMjkxMTZkOTY3NzNiYSA9IEwuQXdlc29tZU1hcmtlcnMuaWNvbih7CiAgICAgICAgICAgICAgICAgICAgaWNvbjogJ2luZm8tc2lnbicsCiAgICAgICAgICAgICAgICAgICAgaWNvbkNvbG9yOiAnd2hpdGUnLAogICAgICAgICAgICAgICAgICAgIG1hcmtlckNvbG9yOiAnbGlnaHRncmF5JywKICAgICAgICAgICAgICAgICAgICBwcmVmaXg6ICdnbHlwaGljb24nLAogICAgICAgICAgICAgICAgICAgIGV4dHJhQ2xhc3NlczogJ2ZhLXJvdGF0ZS0wJwogICAgICAgICAgICAgICAgICAgIH0pOwogICAgICAgICAgICAgICAgbWFya2VyX2U0OGU2NzhhOTE2ODRlYzI4MWRiMGQ1ODU4OTU0Nzc1LnNldEljb24oaWNvbl9lYmM2ZmI2M2IwYTc0YWFhOTUzMjkxMTZkOTY3NzNiYSk7CiAgICAgICAgICAgIAogICAgCiAgICAgICAgICAgIHZhciBwb3B1cF85MmIwNmU1MzIxMzk0ZjVhOTMwMzUyODM1N2I3OTY2ZiA9IEwucG9wdXAoe21heFdpZHRoOiAnMzAwJ30pOwoKICAgICAgICAgICAgCiAgICAgICAgICAgICAgICB2YXIgaHRtbF9hYmE3ZjJiODgzNDY0ZDlkYmY5M2M0NjUyNDA5ZDY1YiA9ICQoJzxkaXYgaWQ9Imh0bWxfYWJhN2YyYjg4MzQ2NGQ5ZGJmOTNjNDY1MjQwOWQ2NWIiIHN0eWxlPSJ3aWR0aDogMTAwLjAlOyBoZWlnaHQ6IDEwMC4wJTsiPjxjZW50ZXI+PGltZyBzcmM9Imh0dHA6Ly9wYnMudHdpbWcuY29tL3Byb2ZpbGVfaW1hZ2VzLzg3NDI3NjE5NzM1NzU5NjY3Mi9rVXVodDAwbV9ub3JtYWwuanBnIiBhbHQ9InBpYyAiIC8+PGJyXD48YnJcPjxiPkRvbmFsZCBKLiBUcnVtcDwvYj4gdHdlZXRlZCA6IDxpPlllc3RlcmRheSwgSSBzaWduZWQgdGhlICNJTlRFUkRJQ1RBY3QgKEguUi4gMjE0Mikgd2l0aCBiaXBhcnRpc2FuIG1lbWJlcnMgb2YgQ29uZ3Jlc3MgdG8gaGVscCBlbmQgdGhlIGZsb3cgb2YgZHJ1Z3MgaW50byBvdXIgY291bnRyeS4gVG9nZXRoZXIsIHdlIGFyZSBjb21taXR0ZWQgdG8gZG9pbmcgZXZlcnl0aGluZyB3ZSBjYW4gdG8gY29tYmF0IHRoZSBkZWFkbHkgc2NvdXJnZSBvZiBkcnVnIGFkZGljdGlvbiBhbmQgb3ZlcmRvc2UgaW4gdGhlIFVuaXRlZCBTdGF0ZXMhIGh0dHBzOi8vdC5jby9FTFp2Rm9sNUxvPC9pPjwvY2VudGVyPjwvZGl2PicpWzBdOwogICAgICAgICAgICAgICAgcG9wdXBfOTJiMDZlNTMyMTM5NGY1YTkzMDM1MjgzNTdiNzk2NmYuc2V0Q29udGVudChodG1sX2FiYTdmMmI4ODM0NjRkOWRiZjkzYzQ2NTI0MDlkNjViKTsKICAgICAgICAgICAgCgogICAgICAgICAgICBtYXJrZXJfZTQ4ZTY3OGE5MTY4NGVjMjgxZGIwZDU4NTg5NTQ3NzUuYmluZFBvcHVwKHBvcHVwXzkyYjA2ZTUzMjEzOTRmNWE5MzAzNTI4MzU3Yjc5NjZmKTsKCiAgICAgICAgICAgIAogICAgICAgIAogICAgCgogICAgICAgICAgICB2YXIgbWFya2VyXzRjMDk2NzJhODNhZjRhM2Q5NjVjYjA5NDg4NDI3NjE1ID0gTC5tYXJrZXIoCiAgICAgICAgICAgICAgICBbMzguOTEzMzEwMDE5Njg1MDE0LC03Ny4wNzgxNjg3NzA2MTcxNV0sCiAgICAgICAgICAgICAgICB7CiAgICAgICAgICAgICAgICAgICAgaWNvbjogbmV3IEwuSWNvbi5EZWZhdWx0KCkKICAgICAgICAgICAgICAgICAgICB9CiAgICAgICAgICAgICAgICApCiAgICAgICAgICAgICAgICAuYWRkVG8obWFwXzc3ZWNmYmI1ZWVjMTQwNWJiNGQ0Nzk0NzEzMDIxZWY2KTsKICAgICAgICAgICAgCiAgICAKCiAgICAgICAgICAgICAgICB2YXIgaWNvbl83NGI3NWU2MjZlNjA0ZjQ0OTMwYWFmMzY3YjljNzU1YyA9IEwuQXdlc29tZU1hcmtlcnMuaWNvbih7CiAgICAgICAgICAgICAgICAgICAgaWNvbjogJ2luZm8tc2lnbicsCiAgICAgICAgICAgICAgICAgICAgaWNvbkNvbG9yOiAnd2hpdGUnLAogICAgICAgICAgICAgICAgICAgIG1hcmtlckNvbG9yOiAnbGlnaHRncmF5JywKICAgICAgICAgICAgICAgICAgICBwcmVmaXg6ICdnbHlwaGljb24nLAogICAgICAgICAgICAgICAgICAgIGV4dHJhQ2xhc3NlczogJ2ZhLXJvdGF0ZS0wJwogICAgICAgICAgICAgICAgICAgIH0pOwogICAgICAgICAgICAgICAgbWFya2VyXzRjMDk2NzJhODNhZjRhM2Q5NjVjYjA5NDg4NDI3NjE1LnNldEljb24oaWNvbl83NGI3NWU2MjZlNjA0ZjQ0OTMwYWFmMzY3YjljNzU1Yyk7CiAgICAgICAgICAgIAogICAgCiAgICAgICAgICAgIHZhciBwb3B1cF9lZGViZDZhMDg2NTc0YmQ1Yjc3YWViYjA3MDNkYTk0YSA9IEwucG9wdXAoe21heFdpZHRoOiAnMzAwJ30pOwoKICAgICAgICAgICAgCiAgICAgICAgICAgICAgICB2YXIgaHRtbF8zZDVlOTE2ZTRkOTA0NWI1YmY4NDA2MTA5NDdmYjI5YyA9ICQoJzxkaXYgaWQ9Imh0bWxfM2Q1ZTkxNmU0ZDkwNDViNWJmODQwNjEwOTQ3ZmIyOWMiIHN0eWxlPSJ3aWR0aDogMTAwLjAlOyBoZWlnaHQ6IDEwMC4wJTsiPjxjZW50ZXI+PGltZyBzcmM9Imh0dHA6Ly9wYnMudHdpbWcuY29tL3Byb2ZpbGVfaW1hZ2VzLzg3NDI3NjE5NzM1NzU5NjY3Mi9rVXVodDAwbV9ub3JtYWwuanBnIiBhbHQ9InBpYyAiIC8+PGJyXD48YnJcPjxiPkRvbmFsZCBKLiBUcnVtcDwvYj4gdHdlZXRlZCA6IDxpPkdyZWF0IG5ld3MsIGFzIGEgcmVzdWx0IG9mIG91ciBUQVggQ1VUUyAmYW1wOyBKT0JTIEFDVCEgaHR0cHM6Ly90LmNvL1NMdmhMeFAzSmw8L2k+PC9jZW50ZXI+PC9kaXY+JylbMF07CiAgICAgICAgICAgICAgICBwb3B1cF9lZGViZDZhMDg2NTc0YmQ1Yjc3YWViYjA3MDNkYTk0YS5zZXRDb250ZW50KGh0bWxfM2Q1ZTkxNmU0ZDkwNDViNWJmODQwNjEwOTQ3ZmIyOWMpOwogICAgICAgICAgICAKCiAgICAgICAgICAgIG1hcmtlcl80YzA5NjcyYTgzYWY0YTNkOTY1Y2IwOTQ4ODQyNzYxNS5iaW5kUG9wdXAocG9wdXBfZWRlYmQ2YTA4NjU3NGJkNWI3N2FlYmIwNzAzZGE5NGEpOwoKICAgICAgICAgICAgCiAgICAgICAgCiAgICAKCiAgICAgICAgICAgIHZhciBtYXJrZXJfNTMxMWNmMTQwMzJjNDI3MzlmOWYyMGRmMTk2ZjA3MjUgPSBMLm1hcmtlcigKICAgICAgICAgICAgICAgIFszOC45ODA0MjY5Njg0MDM4NTQsLTc3LjA2MzA0Mzc0NDU0OF0sCiAgICAgICAgICAgICAgICB7CiAgICAgICAgICAgICAgICAgICAgaWNvbjogbmV3IEwuSWNvbi5EZWZhdWx0KCkKICAgICAgICAgICAgICAgICAgICB9CiAgICAgICAgICAgICAgICApCiAgICAgICAgICAgICAgICAuYWRkVG8obWFwXzc3ZWNmYmI1ZWVjMTQwNWJiNGQ0Nzk0NzEzMDIxZWY2KTsKICAgICAgICAgICAgCiAgICAKCiAgICAgICAgICAgICAgICB2YXIgaWNvbl80ZjE4MjhmZjljZTg0NDQwOGM3N2ZiOGNhNzUzNzFlYyA9IEwuQXdlc29tZU1hcmtlcnMuaWNvbih7CiAgICAgICAgICAgICAgICAgICAgaWNvbjogJ2luZm8tc2lnbicsCiAgICAgICAgICAgICAgICAgICAgaWNvbkNvbG9yOiAnd2hpdGUnLAogICAgICAgICAgICAgICAgICAgIG1hcmtlckNvbG9yOiAncmVkJywKICAgICAgICAgICAgICAgICAgICBwcmVmaXg6ICdnbHlwaGljb24nLAogICAgICAgICAgICAgICAgICAgIGV4dHJhQ2xhc3NlczogJ2ZhLXJvdGF0ZS0wJwogICAgICAgICAgICAgICAgICAgIH0pOwogICAgICAgICAgICAgICAgbWFya2VyXzUzMTFjZjE0MDMyYzQyNzM5ZjlmMjBkZjE5NmYwNzI1LnNldEljb24oaWNvbl80ZjE4MjhmZjljZTg0NDQwOGM3N2ZiOGNhNzUzNzFlYyk7CiAgICAgICAgICAgIAogICAgCiAgICAgICAgICAgIHZhciBwb3B1cF82NWZmNGMyZWVjOGM0NDYwODU1YzNkOWM2ZTIzNGQzYSA9IEwucG9wdXAoe21heFdpZHRoOiAnMzAwJ30pOwoKICAgICAgICAgICAgCiAgICAgICAgICAgICAgICB2YXIgaHRtbF85MWQ4YjI1OTRhYTE0NTI1ODQ4YjEzNWVkZTNjYmVmNyA9ICQoJzxkaXYgaWQ9Imh0bWxfOTFkOGIyNTk0YWExNDUyNTg0OGIxMzVlZGUzY2JlZjciIHN0eWxlPSJ3aWR0aDogMTAwLjAlOyBoZWlnaHQ6IDEwMC4wJTsiPjxjZW50ZXI+PGltZyBzcmM9Imh0dHA6Ly9wYnMudHdpbWcuY29tL3Byb2ZpbGVfaW1hZ2VzLzg3NDI3NjE5NzM1NzU5NjY3Mi9rVXVodDAwbV9ub3JtYWwuanBnIiBhbHQ9InBpYyAiIC8+PGJyXD48YnJcPjxiPkRvbmFsZCBKLiBUcnVtcDwvYj4gdHdlZXRlZCA6IDxpPuKAnDQ1IHllYXIgbG93IGluIGlsbGVnYWwgaW1taWdyYXRpb24gdGhpcyB5ZWFyLuKAnSBAZm94YW5kZnJpZW5kczwvaT48L2NlbnRlcj48L2Rpdj4nKVswXTsKICAgICAgICAgICAgICAgIHBvcHVwXzY1ZmY0YzJlZWM4YzQ0NjA4NTVjM2Q5YzZlMjM0ZDNhLnNldENvbnRlbnQoaHRtbF85MWQ4YjI1OTRhYTE0NTI1ODQ4YjEzNWVkZTNjYmVmNyk7CiAgICAgICAgICAgIAoKICAgICAgICAgICAgbWFya2VyXzUzMTFjZjE0MDMyYzQyNzM5ZjlmMjBkZjE5NmYwNzI1LmJpbmRQb3B1cChwb3B1cF82NWZmNGMyZWVjOGM0NDYwODU1YzNkOWM2ZTIzNGQzYSk7CgogICAgICAgICAgICAKICAgICAgICAKICAgIAoKICAgICAgICAgICAgdmFyIG1hcmtlcl8xMGVjMjgyNTU1ODk0N2IwYTk5NjkwN2NhNDhhMmNlZiA9IEwubWFya2VyKAogICAgICAgICAgICAgICAgWzM5LjA0NDY5MjY0MTAwMzA5LC03Ny4wMjg5NjcyOTEwNzc3Nl0sCiAgICAgICAgICAgICAgICB7CiAgICAgICAgICAgICAgICAgICAgaWNvbjogbmV3IEwuSWNvbi5EZWZhdWx0KCkKICAgICAgICAgICAgICAgICAgICB9CiAgICAgICAgICAgICAgICApCiAgICAgICAgICAgICAgICAuYWRkVG8obWFwXzc3ZWNmYmI1ZWVjMTQwNWJiNGQ0Nzk0NzEzMDIxZWY2KTsKICAgICAgICAgICAgCiAgICAKCiAgICAgICAgICAgICAgICB2YXIgaWNvbl9hYmZhMDJkMGU1ZmM0MTEzYTE4YWU0NTliNzZjNGNlZCA9IEwuQXdlc29tZU1hcmtlcnMuaWNvbih7CiAgICAgICAgICAgICAgICAgICAgaWNvbjogJ2luZm8tc2lnbicsCiAgICAgICAgICAgICAgICAgICAgaWNvbkNvbG9yOiAnd2hpdGUnLAogICAgICAgICAgICAgICAgICAgIG1hcmtlckNvbG9yOiAncmVkJywKICAgICAgICAgICAgICAgICAgICBwcmVmaXg6ICdnbHlwaGljb24nLAogICAgICAgICAgICAgICAgICAgIGV4dHJhQ2xhc3NlczogJ2ZhLXJvdGF0ZS0wJwogICAgICAgICAgICAgICAgICAgIH0pOwogICAgICAgICAgICAgICAgbWFya2VyXzEwZWMyODI1NTU4OTQ3YjBhOTk2OTA3Y2E0OGEyY2VmLnNldEljb24oaWNvbl9hYmZhMDJkMGU1ZmM0MTEzYTE4YWU0NTliNzZjNGNlZCk7CiAgICAgICAgICAgIAogICAgCiAgICAgICAgICAgIHZhciBwb3B1cF83YTE0NDk0MGE1YmE0NmQ5ODQ5ZDFkMTZhZWQ5MzgyMyA9IEwucG9wdXAoe21heFdpZHRoOiAnMzAwJ30pOwoKICAgICAgICAgICAgCiAgICAgICAgICAgICAgICB2YXIgaHRtbF9jZjY0ODc3NTFlMWU0NjcyYjYwMTc1YjgzNmE1MWE3MiA9ICQoJzxkaXYgaWQ9Imh0bWxfY2Y2NDg3NzUxZTFlNDY3MmI2MDE3NWI4MzZhNTFhNzIiIHN0eWxlPSJ3aWR0aDogMTAwLjAlOyBoZWlnaHQ6IDEwMC4wJTsiPjxjZW50ZXI+PGltZyBzcmM9Imh0dHA6Ly9wYnMudHdpbWcuY29tL3Byb2ZpbGVfaW1hZ2VzLzg3NDI3NjE5NzM1NzU5NjY3Mi9rVXVodDAwbV9ub3JtYWwuanBnIiBhbHQ9InBpYyAiIC8+PGJyXD48YnJcPjxiPkRvbmFsZCBKLiBUcnVtcDwvYj4gdHdlZXRlZCA6IDxpPuKAnEhvdXNlIHZvdGVzIG9uIGNvbnRyb3ZlcnNpYWwgRklTQSBBQ1QgdG9kYXku4oCdIFRoaXMgaXMgdGhlIGFjdCB0aGF0IG1heSBoYXZlIGJlZW4gdXNlZCwgd2l0aCB0aGUgaGVscCBvZiB0aGUgZGlzY3JlZGl0ZWQgYW5kIHBob255IERvc3NpZXIsIHRvIHNvIGJhZGx5IHN1cnZlaWwgYW5kIGFidXNlIHRoZSBUcnVtcCBDYW1wYWlnbiBieSB0aGUgcHJldmlvdXMgYWRtaW5pc3RyYXRpb24gYW5kIG90aGVycz88L2k+PC9jZW50ZXI+PC9kaXY+JylbMF07CiAgICAgICAgICAgICAgICBwb3B1cF83YTE0NDk0MGE1YmE0NmQ5ODQ5ZDFkMTZhZWQ5MzgyMy5zZXRDb250ZW50KGh0bWxfY2Y2NDg3NzUxZTFlNDY3MmI2MDE3NWI4MzZhNTFhNzIpOwogICAgICAgICAgICAKCiAgICAgICAgICAgIG1hcmtlcl8xMGVjMjgyNTU1ODk0N2IwYTk5NjkwN2NhNDhhMmNlZi5iaW5kUG9wdXAocG9wdXBfN2ExNDQ5NDBhNWJhNDZkOTg0OWQxZDE2YWVkOTM4MjMpOwoKICAgICAgICAgICAgCiAgICAgICAgCiAgICAKCiAgICAgICAgICAgIHZhciBtYXJrZXJfM2FkOGM3ZGI0ZDEyNGYxNGIzNmNiZDM3ZWNiNGY4ZGEgPSBMLm1hcmtlcigKICAgICAgICAgICAgICAgIFszOC44ODY2NDY5NzU2ODY0MjUsLTc3LjEwNzE3OTA4MjE2NzgzXSwKICAgICAgICAgICAgICAgIHsKICAgICAgICAgICAgICAgICAgICBpY29uOiBuZXcgTC5JY29uLkRlZmF1bHQoKQogICAgICAgICAgICAgICAgICAgIH0KICAgICAgICAgICAgICAgICkKICAgICAgICAgICAgICAgIC5hZGRUbyhtYXBfNzdlY2ZiYjVlZWMxNDA1YmI0ZDQ3OTQ3MTMwMjFlZjYpOwogICAgICAgICAgICAKICAgIAoKICAgICAgICAgICAgICAgIHZhciBpY29uX2JjMTAzNzc5NWM0YTRmY2RiZGRhMTFiM2U1ZDJiODU0ID0gTC5Bd2Vzb21lTWFya2Vycy5pY29uKHsKICAgICAgICAgICAgICAgICAgICBpY29uOiAnaW5mby1zaWduJywKICAgICAgICAgICAgICAgICAgICBpY29uQ29sb3I6ICd3aGl0ZScsCiAgICAgICAgICAgICAgICAgICAgbWFya2VyQ29sb3I6ICdsaWdodGdyYXknLAogICAgICAgICAgICAgICAgICAgIHByZWZpeDogJ2dseXBoaWNvbicsCiAgICAgICAgICAgICAgICAgICAgZXh0cmFDbGFzc2VzOiAnZmEtcm90YXRlLTAnCiAgICAgICAgICAgICAgICAgICAgfSk7CiAgICAgICAgICAgICAgICBtYXJrZXJfM2FkOGM3ZGI0ZDEyNGYxNGIzNmNiZDM3ZWNiNGY4ZGEuc2V0SWNvbihpY29uX2JjMTAzNzc5NWM0YTRmY2RiZGRhMTFiM2U1ZDJiODU0KTsKICAgICAgICAgICAgCiAgICAKICAgICAgICAgICAgdmFyIHBvcHVwX2RkMGNlYzhmNjNlMDQxNzNiMGE4YmVhZmJmMDJiOGU0ID0gTC5wb3B1cCh7bWF4V2lkdGg6ICczMDAnfSk7CgogICAgICAgICAgICAKICAgICAgICAgICAgICAgIHZhciBodG1sXzk3ZjYxM2NiZDgzNDRmMWU5M2RiOWU2MzNjZWI1NjJlID0gJCgnPGRpdiBpZD0iaHRtbF85N2Y2MTNjYmQ4MzQ0ZjFlOTNkYjllNjMzY2ViNTYyZSIgc3R5bGU9IndpZHRoOiAxMDAuMCU7IGhlaWdodDogMTAwLjAlOyI+PGNlbnRlcj48aW1nIHNyYz0iaHR0cDovL3Bicy50d2ltZy5jb20vcHJvZmlsZV9pbWFnZXMvODc0Mjc2MTk3MzU3NTk2NjcyL2tVdWh0MDBtX25vcm1hbC5qcGciIGFsdD0icGljICIgLz48YnJcPjxiclw+PGI+RG9uYWxkIEouIFRydW1wPC9iPiB0d2VldGVkIDogPGk+SW4gbmV3IFF1aW5uaXBpYWMgUG9sbCwgNjYlIG9mIHBlb3BsZSBmZWVsIHRoZSBlY29ub215IGlzIOKAnEV4Y2VsbGVudCBvciBHb29kLuKAnSBUaGF0IGlzIHRoZSBoaWdoZXN0IG51bWJlciBldmVyIHJlY29yZGVkIGJ5IHRoaXMgcG9sbC48L2k+PC9jZW50ZXI+PC9kaXY+JylbMF07CiAgICAgICAgICAgICAgICBwb3B1cF9kZDBjZWM4ZjYzZTA0MTczYjBhOGJlYWZiZjAyYjhlNC5zZXRDb250ZW50KGh0bWxfOTdmNjEzY2JkODM0NGYxZTkzZGI5ZTYzM2NlYjU2MmUpOwogICAgICAgICAgICAKCiAgICAgICAgICAgIG1hcmtlcl8zYWQ4YzdkYjRkMTI0ZjE0YjM2Y2JkMzdlY2I0ZjhkYS5iaW5kUG9wdXAocG9wdXBfZGQwY2VjOGY2M2UwNDE3M2IwYThiZWFmYmYwMmI4ZTQpOwoKICAgICAgICAgICAgCiAgICAgICAgCiAgICAKCiAgICAgICAgICAgIHZhciBtYXJrZXJfNWU1YTZiMjkwZTk1NDVjYWFkODYxNzdjNmI5YTIwNWUgPSBMLm1hcmtlcigKICAgICAgICAgICAgICAgIFszOC44Njg3NDcwOTgzMjc3MSwtNzYuOTI2NTc5MzkxMzY3MDddLAogICAgICAgICAgICAgICAgewogICAgICAgICAgICAgICAgICAgIGljb246IG5ldyBMLkljb24uRGVmYXVsdCgpCiAgICAgICAgICAgICAgICAgICAgfQogICAgICAgICAgICAgICAgKQogICAgICAgICAgICAgICAgLmFkZFRvKG1hcF83N2VjZmJiNWVlYzE0MDViYjRkNDc5NDcxMzAyMWVmNik7CiAgICAgICAgICAgIAogICAgCgogICAgICAgICAgICAgICAgdmFyIGljb25fN2JkOGFmMWUwZjU5NDIzZGI4MjgzM2FkZjM4ZmU1NWMgPSBMLkF3ZXNvbWVNYXJrZXJzLmljb24oewogICAgICAgICAgICAgICAgICAgIGljb246ICdpbmZvLXNpZ24nLAogICAgICAgICAgICAgICAgICAgIGljb25Db2xvcjogJ3doaXRlJywKICAgICAgICAgICAgICAgICAgICBtYXJrZXJDb2xvcjogJ3JlZCcsCiAgICAgICAgICAgICAgICAgICAgcHJlZml4OiAnZ2x5cGhpY29uJywKICAgICAgICAgICAgICAgICAgICBleHRyYUNsYXNzZXM6ICdmYS1yb3RhdGUtMCcKICAgICAgICAgICAgICAgICAgICB9KTsKICAgICAgICAgICAgICAgIG1hcmtlcl81ZTVhNmIyOTBlOTU0NWNhYWQ4NjE3N2M2YjlhMjA1ZS5zZXRJY29uKGljb25fN2JkOGFmMWUwZjU5NDIzZGI4MjgzM2FkZjM4ZmU1NWMpOwogICAgICAgICAgICAKICAgIAogICAgICAgICAgICB2YXIgcG9wdXBfZWJlY2I4MWU1MTkwNGUxMWI2NjQxMDY0OTU5NWQ2MDEgPSBMLnBvcHVwKHttYXhXaWR0aDogJzMwMCd9KTsKCiAgICAgICAgICAgIAogICAgICAgICAgICAgICAgdmFyIGh0bWxfYWEyMzljZWUxMzRhNDhjZjhiMzczNzUxNTllNGIzZTQgPSAkKCc8ZGl2IGlkPSJodG1sX2FhMjM5Y2VlMTM0YTQ4Y2Y4YjM3Mzc1MTU5ZTRiM2U0IiBzdHlsZT0id2lkdGg6IDEwMC4wJTsgaGVpZ2h0OiAxMDAuMCU7Ij48Y2VudGVyPjxpbWcgc3JjPSJodHRwOi8vcGJzLnR3aW1nLmNvbS9wcm9maWxlX2ltYWdlcy84NzQyNzYxOTczNTc1OTY2NzIva1V1aHQwMG1fbm9ybWFsLmpwZyIgYWx0PSJwaWMgIiAvPjxiclw+PGJyXD48Yj5Eb25hbGQgSi4gVHJ1bXA8L2I+IHR3ZWV0ZWQgOiA8aT5EaXNwcm92ZW4gYW5kIHBhaWQgZm9yIGJ5IERlbW9jcmF0cyDigJxEb3NzaWVyIHVzZWQgdG8gc3B5IG9uIFRydW1wIENhbXBhaWduLiBEaWQgRkJJIHVzZSBJbnRlbCB0b29sIHRvIGluZmx1ZW5jZSB0aGUgRWxlY3Rpb24/4oCdIEBmb3hhbmRmcmllbmRzICBEaWQgRGVtcyBvciBDbGludG9uIGFsc28gcGF5IFJ1c3NpYW5zPyBXaGVyZSBhcmUgaGlkZGVuIGFuZCBzbWFzaGVkIEROQyBzZXJ2ZXJzPyBXaGVyZSBhcmUgQ3Jvb2tlZCBIaWxsYXJ5IEVtYWlscz8gIFdoYXQgYSBtZXNzITwvaT48L2NlbnRlcj48L2Rpdj4nKVswXTsKICAgICAgICAgICAgICAgIHBvcHVwX2ViZWNiODFlNTE5MDRlMTFiNjY0MTA2NDk1OTVkNjAxLnNldENvbnRlbnQoaHRtbF9hYTIzOWNlZTEzNGE0OGNmOGIzNzM3NTE1OWU0YjNlNCk7CiAgICAgICAgICAgIAoKICAgICAgICAgICAgbWFya2VyXzVlNWE2YjI5MGU5NTQ1Y2FhZDg2MTc3YzZiOWEyMDVlLmJpbmRQb3B1cChwb3B1cF9lYmVjYjgxZTUxOTA0ZTExYjY2NDEwNjQ5NTk1ZDYwMSk7CgogICAgICAgICAgICAKICAgICAgICAKICAgIAoKICAgICAgICAgICAgdmFyIG1hcmtlcl8zNjZjZDg0OTUwMGU0N2FjYjliZWJkZDUyOWNlMTMzZCA9IEwubWFya2VyKAogICAgICAgICAgICAgICAgWzM4LjY5MzQyMzk2MzIxMDQ3LC03Ny4wMTAwNTAzNDQwMjA5MV0sCiAgICAgICAgICAgICAgICB7CiAgICAgICAgICAgICAgICAgICAgaWNvbjogbmV3IEwuSWNvbi5EZWZhdWx0KCkKICAgICAgICAgICAgICAgICAgICB9CiAgICAgICAgICAgICAgICApCiAgICAgICAgICAgICAgICAuYWRkVG8obWFwXzc3ZWNmYmI1ZWVjMTQwNWJiNGQ0Nzk0NzEzMDIxZWY2KTsKICAgICAgICAgICAgCiAgICAKCiAgICAgICAgICAgICAgICB2YXIgaWNvbl83OGRhMTk1MzFjNDM0ZGU3YmU4MTRhZWRiMjRhMzM2NyA9IEwuQXdlc29tZU1hcmtlcnMuaWNvbih7CiAgICAgICAgICAgICAgICAgICAgaWNvbjogJ2luZm8tc2lnbicsCiAgICAgICAgICAgICAgICAgICAgaWNvbkNvbG9yOiAnd2hpdGUnLAogICAgICAgICAgICAgICAgICAgIG1hcmtlckNvbG9yOiAncmVkJywKICAgICAgICAgICAgICAgICAgICBwcmVmaXg6ICdnbHlwaGljb24nLAogICAgICAgICAgICAgICAgICAgIGV4dHJhQ2xhc3NlczogJ2ZhLXJvdGF0ZS0wJwogICAgICAgICAgICAgICAgICAgIH0pOwogICAgICAgICAgICAgICAgbWFya2VyXzM2NmNkODQ5NTAwZTQ3YWNiOWJlYmRkNTI5Y2UxMzNkLnNldEljb24oaWNvbl83OGRhMTk1MzFjNDM0ZGU3YmU4MTRhZWRiMjRhMzM2Nyk7CiAgICAgICAgICAgIAogICAgCiAgICAgICAgICAgIHZhciBwb3B1cF9jM2Q0Y2FlMjBjMTY0M2I0OGFhYjRkNjc3Zjg5OWJmOCA9IEwucG9wdXAoe21heFdpZHRoOiAnMzAwJ30pOwoKICAgICAgICAgICAgCiAgICAgICAgICAgICAgICB2YXIgaHRtbF8wOGUzNWYwZDBlM2Q0M2YwYTZhMDQzYzFiMzdkY2E4MSA9ICQoJzxkaXYgaWQ9Imh0bWxfMDhlMzVmMGQwZTNkNDNmMGE2YTA0M2MxYjM3ZGNhODEiIHN0eWxlPSJ3aWR0aDogMTAwLjAlOyBoZWlnaHQ6IDEwMC4wJTsiPjxjZW50ZXI+PGltZyBzcmM9Imh0dHA6Ly9wYnMudHdpbWcuY29tL3Byb2ZpbGVfaW1hZ2VzLzg3NDI3NjE5NzM1NzU5NjY3Mi9rVXVodDAwbV9ub3JtYWwuanBnIiBhbHQ9InBpYyAiIC8+PGJyXD48YnJcPjxiPkRvbmFsZCBKLiBUcnVtcDwvYj4gdHdlZXRlZCA6IDxpPkdvb2QgbmV3czogVG95b3RhIGFuZCBNYXpkYSBhbm5vdW5jZSBnaWFudCBuZXcgSHVudHN2aWxsZSwgQWxhYmFtYSwgcGxhbnQgd2hpY2ggd2lsbCBwcm9kdWNlIG92ZXIgMzAwLDAwMCBjYXJzIGFuZCBTVVbigJlzIGEgeWVhciBhbmQgZW1wbG95IDQwMDAgcGVvcGxlLiBDb21wYW5pZXMgYXJlIGNvbWluZyBiYWNrIHRvIHRoZSBVLlMuIGluIGEgdmVyeSBiaWcgd2F5LiBDb25ncmF0dWxhdGlvbnMgQWxhYmFtYSE8L2k+PC9jZW50ZXI+PC9kaXY+JylbMF07CiAgICAgICAgICAgICAgICBwb3B1cF9jM2Q0Y2FlMjBjMTY0M2I0OGFhYjRkNjc3Zjg5OWJmOC5zZXRDb250ZW50KGh0bWxfMDhlMzVmMGQwZTNkNDNmMGE2YTA0M2MxYjM3ZGNhODEpOwogICAgICAgICAgICAKCiAgICAgICAgICAgIG1hcmtlcl8zNjZjZDg0OTUwMGU0N2FjYjliZWJkZDUyOWNlMTMzZC5iaW5kUG9wdXAocG9wdXBfYzNkNGNhZTIwYzE2NDNiNDhhYWI0ZDY3N2Y4OTliZjgpOwoKICAgICAgICAgICAgCiAgICAgICAgCiAgICAKCiAgICAgICAgICAgIHZhciBtYXJrZXJfYTE2NmRiOTczYzcyNGQ0OWJmMjg2YjI5MTE2MDNlNGUgPSBMLm1hcmtlcigKICAgICAgICAgICAgICAgIFszOC45MjUxMDc2MTUzOTA2NywtNzYuOTc2NjQ1NzIwNTg2OTldLAogICAgICAgICAgICAgICAgewogICAgICAgICAgICAgICAgICAgIGljb246IG5ldyBMLkljb24uRGVmYXVsdCgpCiAgICAgICAgICAgICAgICAgICAgfQogICAgICAgICAgICAgICAgKQogICAgICAgICAgICAgICAgLmFkZFRvKG1hcF83N2VjZmJiNWVlYzE0MDViYjRkNDc5NDcxMzAyMWVmNik7CiAgICAgICAgICAgIAogICAgCgogICAgICAgICAgICAgICAgdmFyIGljb25fZDY0N2IxNGI4YTFlNDRiOTlkYTdmNzFkNWFjM2JmN2EgPSBMLkF3ZXNvbWVNYXJrZXJzLmljb24oewogICAgICAgICAgICAgICAgICAgIGljb246ICdpbmZvLXNpZ24nLAogICAgICAgICAgICAgICAgICAgIGljb25Db2xvcjogJ3doaXRlJywKICAgICAgICAgICAgICAgICAgICBtYXJrZXJDb2xvcjogJ2xpZ2h0Z3JheScsCiAgICAgICAgICAgICAgICAgICAgcHJlZml4OiAnZ2x5cGhpY29uJywKICAgICAgICAgICAgICAgICAgICBleHRyYUNsYXNzZXM6ICdmYS1yb3RhdGUtMCcKICAgICAgICAgICAgICAgICAgICB9KTsKICAgICAgICAgICAgICAgIG1hcmtlcl9hMTY2ZGI5NzNjNzI0ZDQ5YmYyODZiMjkxMTYwM2U0ZS5zZXRJY29uKGljb25fZDY0N2IxNGI4YTFlNDRiOTlkYTdmNzFkNWFjM2JmN2EpOwogICAgICAgICAgICAKICAgIAogICAgICAgICAgICB2YXIgcG9wdXBfNGFmYWZkOTQxNGM4NGIwMTg3MmZlZWFlODBlZjVhNTcgPSBMLnBvcHVwKHttYXhXaWR0aDogJzMwMCd9KTsKCiAgICAgICAgICAgIAogICAgICAgICAgICAgICAgdmFyIGh0bWxfN2E2NzEzMTFhODUyNDQ2ZmJmMzE0ZDJiZTUwODIyOTkgPSAkKCc8ZGl2IGlkPSJodG1sXzdhNjcxMzExYTg1MjQ0NmZiZjMxNGQyYmU1MDgyMjk5IiBzdHlsZT0id2lkdGg6IDEwMC4wJTsgaGVpZ2h0OiAxMDAuMCU7Ij48Y2VudGVyPjxpbWcgc3JjPSJodHRwOi8vcGJzLnR3aW1nLmNvbS9wcm9maWxlX2ltYWdlcy84NzQyNzYxOTczNTc1OTY2NzIva1V1aHQwMG1fbm9ybWFsLmpwZyIgYWx0PSJwaWMgIiAvPjxiclw+PGJyXD48Yj5Eb25hbGQgSi4gVHJ1bXA8L2I+IHR3ZWV0ZWQgOiA8aT5DdXR0aW5nIHRheGVzIGFuZCBzaW1wbGlmeWluZyByZWd1bGF0aW9ucyBtYWtlcyBBbWVyaWNhIHRoZSBwbGFjZSB0byBpbnZlc3QhIEdyZWF0IG5ld3MgYXMgVG95b3RhIGFuZCBNYXpkYSBhbm5vdW5jZSB0aGV5IGFyZSBicmluZ2luZyA0LDAwMCBKT0JTIGFuZCBpbnZlc3RpbmcgJDEuNiBCSUxMSU9OIGluIEFsYWJhbWEsIGhlbHBpbmcgdG8gZnVydGhlciBncm93IG91ciBlY29ub215ISBodHRwczovL3QuY28vS2NnOElWSDZpQTwvaT48L2NlbnRlcj48L2Rpdj4nKVswXTsKICAgICAgICAgICAgICAgIHBvcHVwXzRhZmFmZDk0MTRjODRiMDE4NzJmZWVhZTgwZWY1YTU3LnNldENvbnRlbnQoaHRtbF83YTY3MTMxMWE4NTI0NDZmYmYzMTRkMmJlNTA4MjI5OSk7CiAgICAgICAgICAgIAoKICAgICAgICAgICAgbWFya2VyX2ExNjZkYjk3M2M3MjRkNDliZjI4NmIyOTExNjAzZTRlLmJpbmRQb3B1cChwb3B1cF80YWZhZmQ5NDE0Yzg0YjAxODcyZmVlYWU4MGVmNWE1Nyk7CgogICAgICAgICAgICAKICAgICAgICAKICAgIAoKICAgICAgICAgICAgdmFyIG1hcmtlcl80YmMxMDM5Zjg4MzA0NGUzYjkyN2QzYzY0ZTQ4ZTJmNiA9IEwubWFya2VyKAogICAgICAgICAgICAgICAgWzM5LjA0NjM1NzI4MTQ1NzEwNSwtNzcuMTkwNzMyNzEyMzM3N10sCiAgICAgICAgICAgICAgICB7CiAgICAgICAgICAgICAgICAgICAgaWNvbjogbmV3IEwuSWNvbi5EZWZhdWx0KCkKICAgICAgICAgICAgICAgICAgICB9CiAgICAgICAgICAgICAgICApCiAgICAgICAgICAgICAgICAuYWRkVG8obWFwXzc3ZWNmYmI1ZWVjMTQwNWJiNGQ0Nzk0NzEzMDIxZWY2KTsKICAgICAgICAgICAgCiAgICAKCiAgICAgICAgICAgICAgICB2YXIgaWNvbl82MWExNmJmMTVmNWM0N2ZhYWNiNGY1MjAwNDgzN2FlOCA9IEwuQXdlc29tZU1hcmtlcnMuaWNvbih7CiAgICAgICAgICAgICAgICAgICAgaWNvbjogJ2luZm8tc2lnbicsCiAgICAgICAgICAgICAgICAgICAgaWNvbkNvbG9yOiAnd2hpdGUnLAogICAgICAgICAgICAgICAgICAgIG1hcmtlckNvbG9yOiAncmVkJywKICAgICAgICAgICAgICAgICAgICBwcmVmaXg6ICdnbHlwaGljb24nLAogICAgICAgICAgICAgICAgICAgIGV4dHJhQ2xhc3NlczogJ2ZhLXJvdGF0ZS0wJwogICAgICAgICAgICAgICAgICAgIH0pOwogICAgICAgICAgICAgICAgbWFya2VyXzRiYzEwMzlmODgzMDQ0ZTNiOTI3ZDNjNjRlNDhlMmY2LnNldEljb24oaWNvbl82MWExNmJmMTVmNWM0N2ZhYWNiNGY1MjAwNDgzN2FlOCk7CiAgICAgICAgICAgIAogICAgCiAgICAgICAgICAgIHZhciBwb3B1cF8yMmMyMzIzNTEyZWM0ODU2YTQ0OGMxN2I4YzYyYTg5NSA9IEwucG9wdXAoe21heFdpZHRoOiAnMzAwJ30pOwoKICAgICAgICAgICAgCiAgICAgICAgICAgICAgICB2YXIgaHRtbF81OTNhZDI3MTZkMjM0ZDBmYmJmMzA1MjRmYzdiNmJiMyA9ICQoJzxkaXYgaWQ9Imh0bWxfNTkzYWQyNzE2ZDIzNGQwZmJiZjMwNTI0ZmM3YjZiYjMiIHN0eWxlPSJ3aWR0aDogMTAwLjAlOyBoZWlnaHQ6IDEwMC4wJTsiPjxjZW50ZXI+PGltZyBzcmM9Imh0dHA6Ly9wYnMudHdpbWcuY29tL3Byb2ZpbGVfaW1hZ2VzLzg3NDI3NjE5NzM1NzU5NjY3Mi9rVXVodDAwbV9ub3JtYWwuanBnIiBhbHQ9InBpYyAiIC8+PGJyXD48YnJcPjxiPkRvbmFsZCBKLiBUcnVtcDwvYj4gdHdlZXRlZCA6IDxpPlRoZSBVbml0ZWQgU3RhdGVzIG5lZWRzIHRoZSBzZWN1cml0eSBvZiB0aGUgV2FsbCBvbiB0aGUgU291dGhlcm4gQm9yZGVyLCB3aGljaCBtdXN0IGJlIHBhcnQgb2YgYW55IERBQ0EgYXBwcm92YWwuIFRoZSBzYWZldHkgYW5kIHNlY3VyaXR5IG9mIG91ciBjb3VudHJ5IGlzICMxISBodHRwczovL3QuY28vNENGelFYYjVhUzwvaT48L2NlbnRlcj48L2Rpdj4nKVswXTsKICAgICAgICAgICAgICAgIHBvcHVwXzIyYzIzMjM1MTJlYzQ4NTZhNDQ4YzE3YjhjNjJhODk1LnNldENvbnRlbnQoaHRtbF81OTNhZDI3MTZkMjM0ZDBmYmJmMzA1MjRmYzdiNmJiMyk7CiAgICAgICAgICAgIAoKICAgICAgICAgICAgbWFya2VyXzRiYzEwMzlmODgzMDQ0ZTNiOTI3ZDNjNjRlNDhlMmY2LmJpbmRQb3B1cChwb3B1cF8yMmMyMzIzNTEyZWM0ODU2YTQ0OGMxN2I4YzYyYTg5NSk7CgogICAgICAgICAgICAKICAgICAgICAKPC9zY3JpcHQ+\" style=\"position:absolute;width:100%;height:100%;left:0;top:0;border:none !important;\" allowfullscreen webkitallowfullscreen mozallowfullscreen></iframe></div></div>"
      ],
      "text/plain": [
       "<folium.folium.Map at 0x2b879655080>"
      ]
     },
     "execution_count": 16,
     "metadata": {},
     "output_type": "execute_result"
    }
   ],
   "source": [
    "import folium\n",
    "import random\n",
    "from geopy.geocoders import Nominatim\n",
    "geolocator = Nominatim(timeout=3)\n",
    "\n",
    "\n",
    "\n",
    "WASH_COORD = [38.8949549, -77.0366456]\n",
    "NYC_COORD = [40.7128, -74.0059]\n",
    "LYON_COORD = [45.750000,4.850000]\n",
    "CHICAGO_COORD = [41.850033, -87.6500523]\n",
    "US_COORD = [39,-95]\n",
    "\n",
    "# Build map \n",
    "map_main = folium.Map(location=US_COORD, \n",
    "                      zoom_start=4, \n",
    "                      tiles='cartodbpositron', \n",
    "                      width=640, \n",
    "                      height=400)\n",
    "\n",
    "\n",
    "\n",
    "import itertools           #  ======> sert à limiter le nombre de tweets afficher sur la carte\n",
    "#for tweet in itertools.islice(reader, 30):\n",
    "# for tweet in reader       # =======> sert à afficher tout les tweets\n",
    "\n",
    "for tweet in itertools.islice(reader, 10):\n",
    "    if (tweet['tweet']!= ''):\n",
    "        location = geolocator.geocode(tweet['tweet']['user']['location'])\n",
    "        popup_image ='''<img src=\"''' + tweet['tweet']['user']['profile_image_url'] + '''\" alt=\"pic \" />'''\n",
    "        popup_text = '<b>'+tweet['tweet']['user']['name']+'</b>' + ' tweeted : '+ '<i>' + tweet['tweet']['full_text'] + '</i>'\n",
    "        popup = '<center>' + popup_image + '<br\\><br\\>' + popup_text + '</center>'\n",
    "        location = [location.latitude + random.gauss(0,0000.1), location.longitude + random.gauss(0,000.1)]\n",
    "        if tweet['result'] == 'Positif':\n",
    "            folium.Marker(location,                               \n",
    "                          popup= popup,\n",
    "                          #popup= folium.Popup(test, max_width=2650),\n",
    "                          icon=folium.Icon(color='green')\n",
    "                         ).add_to(map_main)\n",
    "        elif tweet['result'] == 'Negatif':\n",
    "            folium.Marker(location,   \n",
    "                          popup= popup,\n",
    "                          icon=folium.Icon(color='red')\n",
    "                         ).add_to(map_main)            \n",
    "        elif tweet['result'] == 'Neutre':\n",
    "            folium.Marker(location,   \n",
    "                          popup= popup,\n",
    "                          icon=folium.Icon(color='lightgray')\n",
    "                         ).add_to(map_main)                    \n",
    "\n",
    "\n",
    "\n",
    "\n",
    "# Display map in Jupyter\n",
    "map_main"
   ]
  },
  {
   "cell_type": "code",
   "execution_count": null,
   "metadata": {},
   "outputs": [],
   "source": []
  },
  {
   "cell_type": "code",
   "execution_count": null,
   "metadata": {},
   "outputs": [],
   "source": []
  }
 ],
 "metadata": {
  "kernelspec": {
   "display_name": "Python 3",
   "language": "python",
   "name": "python3"
  },
  "language_info": {
   "codemirror_mode": {
    "name": "ipython",
    "version": 3
   },
   "file_extension": ".py",
   "mimetype": "text/x-python",
   "name": "python",
   "nbconvert_exporter": "python",
   "pygments_lexer": "ipython3",
   "version": "3.6.4"
  }
 },
 "nbformat": 4,
 "nbformat_minor": 2
}
