{
 "cells": [
  {
   "cell_type": "code",
   "execution_count": 1,
   "metadata": {
    "scrolled": true
   },
   "outputs": [],
   "source": [
    "import matplotlib.pyplot as plt; plt.rcdefaults()\n",
    "import numpy as np\n",
    "import matplotlib.pyplot as plt\n",
    "import squarify  \n",
    "file=open(\"defaultoutput.txt\",\"r\");"
   ]
  },
  {
   "cell_type": "code",
   "execution_count": 2,
   "metadata": {},
   "outputs": [
    {
     "name": "stdout",
     "output_type": "stream",
     "text": [
      "['', '/Users/Frego/anaconda3/lib/python36.zip', '/Users/Frego/anaconda3/lib/python3.6', '/Users/Frego/anaconda3/lib/python3.6/lib-dynload', '/Users/Frego/anaconda3/lib/python3.6/site-packages', '/Users/Frego/anaconda3/lib/python3.6/site-packages/aeosa', '/Users/Frego/anaconda3/lib/python3.6/site-packages/IPython/extensions', '/Users/Frego/.ipython', '/Library/Frameworks/Python.framework/Versions/3.6/lib/python3.6/site-packages']\n"
     ]
    }
   ],
   "source": [
    "import sys \n",
    "print(sys.path)"
   ]
  },
  {
   "cell_type": "code",
   "execution_count": 3,
   "metadata": {},
   "outputs": [],
   "source": [
    "def parser(file):\n",
    "    lines=[];\n",
    "    for line in file:\n",
    "         foo = line.strip('\\n')\n",
    "         if foo!=\"\":\n",
    "            lines.append(foo)\n",
    "    return lines"
   ]
  },
  {
   "cell_type": "code",
   "execution_count": 4,
   "metadata": {},
   "outputs": [],
   "source": [
    "def format_to_plot(data):\n",
    "    pos=0;\n",
    "    neg=0;\n",
    "    neu=0;\n",
    "    for line in data:\n",
    "        if line==\"Score: Positif\":\n",
    "            pos+=1\n",
    "        elif line==\"Score: Négatif\":\n",
    "            neg+=1\n",
    "        elif line==\"Score: Neutre\":\n",
    "            neu+=1\n",
    "    tot=pos+neg+neu\n",
    "    return [100.0*pos/tot,100.0*neg/tot,100.0*neu/tot]"
   ]
  },
  {
   "cell_type": "code",
   "execution_count": 5,
   "metadata": {},
   "outputs": [],
   "source": [
    "def barchart(x,y):\n",
    "    if len(y)!=len(x):\n",
    "        return \"dimensions must agreed\"\n",
    "    else:\n",
    "        x_pos = np.arange(len(x))\n",
    "        plt.bar(x_pos, y, align='center', alpha=0.5)\n",
    "        plt.xticks(x_pos, x)\n",
    "        plt.ylabel('Frequence(%)')\n",
    "        plt.title('Score')\n",
    "\n",
    "        plt.show()\n",
    "    "
   ]
  },
  {
   "cell_type": "code",
   "execution_count": 6,
   "metadata": {},
   "outputs": [
    {
     "data": {
      "image/png": "[encoded data removed]",
      "text/plain": [
       "<matplotlib.figure.Figure at 0x110c54cf8>"
      ]
     },
     "metadata": {},
     "output_type": "display_data"
    }
   ],
   "source": [
    "x=[\"positif\",\"negatif\",\"neutre\"];\n",
    "y=format_to_plot(parser(file));\n",
    "barchart(x,y)"
   ]
  },
  {
   "cell_type": "code",
   "execution_count": 7,
   "metadata": {},
   "outputs": [],
   "source": [
    "#https://python-graph-gallery.com/treemap/\n",
    "def treemap(x,y):\n",
    "    if len(y)!=len(x):\n",
    "        return \"dimensions must agreed\"\n",
    "    else:\n",
    "        squarify.plot(sizes=y, label=x, alpha=.7 )\n",
    "        plt.axis('off')\n",
    "        plt.show()\n"
   ]
  },
  {
   "cell_type": "code",
   "execution_count": 8,
   "metadata": {},
   "outputs": [
    {
     "name": "stdout",
     "output_type": "stream",
     "text": [
      "[39.017341040462426, 36.127167630057805, 24.85549132947977]\n"
     ]
    },
    {
     "data": {
      "image/png": "[encoded data removed]",
      "text/plain": [
       "<matplotlib.figure.Figure at 0x112d9af60>"
      ]
     },
     "metadata": {},
     "output_type": "display_data"
    }
   ],
   "source": [
    "print(y)\n",
    "treemap(x,y)"
   ]
  },
  {
   "cell_type": "code",
   "execution_count": null,
   "metadata": {},
   "outputs": [],
   "source": []
  },
  {
   "cell_type": "code",
   "execution_count": null,
   "metadata": {},
   "outputs": [],
   "source": []
  },
  {
   "cell_type": "code",
   "execution_count": null,
   "metadata": {},
   "outputs": [],
   "source": []
  }
 ],
 "metadata": {
  "kernelspec": {
   "display_name": "Python 3",
   "language": "python",
   "name": "python3"
  },
  "language_info": {
   "codemirror_mode": {
    "name": "ipython",
    "version": 3
   },
   "file_extension": ".py",
   "mimetype": "text/x-python",
   "name": "python",
   "nbconvert_exporter": "python",
   "pygments_lexer": "ipython3",
   "version": "3.6.0"
  }
 },
 "nbformat": 4,
 "nbformat_minor": 2
}
