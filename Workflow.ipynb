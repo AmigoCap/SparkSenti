{
 "cells": [
  {
   "cell_type": "markdown",
   "metadata": {},
   "source": [
    "Import des différentes librairies"
   ]
  },
  {
   "cell_type": "code",
   "execution_count": 1,
   "metadata": {},
   "outputs": [],
   "source": [
    "#import pixiedust\n",
    "import tweepy\n",
    "import squarify \n",
    "from geopy.geocoders import Nominatim\n",
    "import folium\n",
    "import json_lines\n",
    "import json\n",
    "import time\n",
    "import datetime\n",
    "import random\n",
    "import itertools\n",
    "import os\n",
    "import matplotlib.pyplot as plt\n",
    "\n",
    "# pip install tweepy json_lines squarify folium geopy"
   ]
  },
  {
   "cell_type": "code",
   "execution_count": 2,
   "metadata": {},
   "outputs": [],
   "source": [
    "count_tweets = 1                                         # Number of tweets returned\n",
    "keyword = \"#Trump\"                                       # Keyword\n",
    "language = \"en\"                                          # Language, must be ISO 639-1 code\n",
    "since = None                                             # Start date\n",
    "until = datetime.datetime.now().strftime(\"%Y-%m-%d\")     # End date\n",
    "result_type = \"recent\"                                   # recent, popular, or mixed\n",
    "geocode = None                                           # Geocode"
   ]
  },
  {
   "cell_type": "markdown",
   "metadata": {},
   "source": [
    "Configuration du nom du fichier utilisé"
   ]
  },
  {
   "cell_type": "code",
   "execution_count": 3,
   "metadata": {},
   "outputs": [
    {
     "name": "stdout",
     "output_type": "stream",
     "text": [
      "env: TIME=1521702685.3024828\n",
      "env: OUTPUT_TWEET_FILENAME=output_tweet_1521702685.3024828.json\n",
      "env: TWEET_JSON_FILENAME=input_tweet_1521702685.3024828.json\n"
     ]
    }
   ],
   "source": [
    "%env TIME={time.time()}\n",
    "%env OUTPUT_TWEET_FILENAME=output_tweet_{os.environ['TIME']}.json\n",
    "%env TWEET_JSON_FILENAME=input_tweet_{os.environ['TIME']}.json\n"
   ]
  },
  {
   "cell_type": "raw",
   "metadata": {},
   "source": [
    "Collect des données twitter et stockage dans un json 'tweets_time.json'"
   ]
  },
  {
   "cell_type": "code",
   "execution_count": 4,
   "metadata": {},
   "outputs": [],
   "source": [
    "with_geo=False\n",
    "API_key = json.load(open(\"API_key.txt\", \"r\"))\n",
    "\n",
    "auth = tweepy.OAuthHandler(API_key[\"consumer_key\"], API_key[\"consumer_secret\"])\n",
    "auth.set_access_token(API_key[\"access_token\"], API_key[\"access_token_secret\"])\n",
    "api = tweepy.API(auth)\n",
    "\n",
    "tweets = api.search(q=keyword, \n",
    "                    until=until, \n",
    "                    since=since, \n",
    "                    count=count_tweets, \n",
    "                    language=language, \n",
    "                    result_type=result_type, \n",
    "                    geocode=geocode\n",
    "                   )\n",
    "\n",
    "tweets = api.search( q=keyword,tweet_mode='extended',include_rts=False,count=2000)\n",
    "\n",
    "json_tweets=[]\n",
    "for tweet in tweets:\n",
    "    json_tweets.append(json.dumps(tweet._json))\n",
    "\n",
    "json_str = \"\\n\".join(json_tweets)\n",
    "\n",
    "filename = \"tweets-database/\"+os.environ['TWEET_JSON_FILENAME']\n",
    "with open(filename, \"w\") as f:\n",
    "    f.write(json_str)"
   ]
  },
  {
   "cell_type": "markdown",
   "metadata": {},
   "source": [
    "Envoie des tweets collectés sur le datacenter et lancement de l'analyse"
   ]
  },
  {
   "cell_type": "code",
   "execution_count": 5,
   "metadata": {},
   "outputs": [
    {
     "name": "stdout",
     "output_type": "stream",
     "text": [
      "\u001b[0m[\u001b[0m\u001b[0minfo\u001b[0m] \u001b[0m\u001b[0mLoading settings from idea.sbt ...\u001b[0m\n",
      "\u001b[0m[\u001b[0m\u001b[0minfo\u001b[0m] \u001b[0m\u001b[0mLoading global plugins from /Users/Frego/.sbt/1.0/plugins\u001b[0m\n",
      "\u001b[0m[\u001b[0m\u001b[0minfo\u001b[0m] \u001b[0m\u001b[0mLoading settings from plugins.sbt ...\u001b[0m\n",
      "\u001b[0m[\u001b[0m\u001b[0minfo\u001b[0m] \u001b[0m\u001b[0mLoading project definition from /Users/Frego/Documents/Centrale/4A/OPTION/08_Projet/SparkSenti/Algo1/project\u001b[0m\n",
      "\u001b[0m[\u001b[0m\u001b[0minfo\u001b[0m] \u001b[0m\u001b[0mLoading settings from build.sbt ...\u001b[0m\n",
      "\u001b[0m[\u001b[0m\u001b[0minfo\u001b[0m] \u001b[0m\u001b[0mSet current project to SparkSenti (in build file:/Users/Frego/Documents/Centrale/4A/OPTION/08_Projet/SparkSenti/Algo1/)\u001b[0m\n",
      "spawn scp input_tweet_1521702685.3024828.json fregosi1@sparksenti:.\r\n",
      "fregosi1@sparksenti's password: \r\n",
      "\r",
      "input_tweet_1521702685.3024828.json             0%    0     0.0KB/s   --:-- ETA\r",
      "input_tweet_1521702685.3024828.json           100%  580KB   5.7MB/s   00:00    \r\n",
      "spawn ssh fregosi1@sparksenti\r\n",
      "fregosi1@sparksenti's password: \r\n",
      "Last login: Thu Mar 22 08:07:54 2018 from wfgw.wifietud.ec-lyon.fr\r",
      "\r\n",
      "Welcome to Bright release         7.3\r\n",
      "\r\n",
      "                                                        Based on CentOS Linux 7\r\n",
      "                                                                    ID: #000002\r\n",
      "\r\n",
      "Use the following commands to adjust your environment:\r\n",
      "\r\n",
      "'module avail'            - show available modules\r\n",
      "'module add <module>'     - adds a module to your environment for this session\r\n",
      "'module initadd <module>' - configure module to be loaded at every login\r\n",
      "\r\n",
      "-------------------------------------------------------------------------------\r\n",
      "\u001b]0;fregosi1@bright73:~\u0007[fregosi1@bright73 ~]$ hdfs dfs -put input_tweet_1521702685.3024828.json\r\n",
      "\u001b]0;fregosi1@bright73:~\u0007[fregosi1@bright73 ~]$ \n",
      "\u001b[0m[\u001b[0m\u001b[32msuccess\u001b[0m] \u001b[0m\u001b[0mTotal time: 4 s, completed 22 mars 2018 08:11:54\u001b[0m\n",
      "\u001b[0m[\u001b[0m\u001b[0minfo\u001b[0m] \u001b[0m\u001b[0mLoading settings from idea.sbt ...\u001b[0m\n",
      "\u001b[0m[\u001b[0m\u001b[0minfo\u001b[0m] \u001b[0m\u001b[0mLoading global plugins from /Users/Frego/.sbt/1.0/plugins\u001b[0m\n",
      "\u001b[0m[\u001b[0m\u001b[0minfo\u001b[0m] \u001b[0m\u001b[0mLoading settings from plugins.sbt ...\u001b[0m\n",
      "\u001b[0m[\u001b[0m\u001b[0minfo\u001b[0m] \u001b[0m\u001b[0mLoading project definition from /Users/Frego/Documents/Centrale/4A/OPTION/08_Projet/SparkSenti/Algo1/project\u001b[0m\n",
      "\u001b[0m[\u001b[0m\u001b[0minfo\u001b[0m] \u001b[0m\u001b[0mLoading settings from build.sbt ...\u001b[0m\n",
      "\u001b[0m[\u001b[0m\u001b[0minfo\u001b[0m] \u001b[0m\u001b[0mSet current project to SparkSenti (in build file:/Users/Frego/Documents/Centrale/4A/OPTION/08_Projet/SparkSenti/Algo1/)\u001b[0m\n",
      "spawn ssh fregosi1@sparksenti\r\n",
      "fregosi1@sparksenti's password: \r\n",
      "Last login: Thu Mar 22 08:11:51 2018 from wfgw.wifietud.ec-lyon.fr\r",
      "\r\n",
      "Welcome to Bright release         7.3\r\n",
      "\r\n",
      "                                                        Based on CentOS Linux 7\r\n",
      "                                                                    ID: #000002\r\n",
      "\r\n",
      "Use the following commands to adjust your environment:\r\n",
      "\r\n",
      "'module avail'            - show available modules\r\n",
      "'module add <module>'     - adds a module to your environment for this session\r\n",
      "'module initadd <module>' - configure module to be loaded at every login\r\n",
      "\r\n",
      "-------------------------------------------------------------------------------\r\n",
      "\u001b]0;fregosi1@bright73:~\u0007[fregosi1@bright73 ~]$ echo SparkSenti-0.1/lib/*.jar | tr \" \" \",\"\r\n",
      "SparkSenti-0.1/lib/akka-actor_2.11-2.5.4.jar,SparkSenti-0.1/lib/akka-slf4j_2.11-2.5.4.jar,SparkSenti-0.1/lib/antlr4-runtime-4.6.jar,SparkSenti-0.1/lib/args4j-2.0.23.jar,SparkSenti-0.1/lib/async-http-client-1.7.16.jar,SparkSenti-0.1/lib/bioresources-1.1.24.jar,SparkSenti-0.1/lib/clearnlp-2.0.2.jar,SparkSenti-0.1/lib/common_2.11-0.0.7.jar,SparkSenti-0.1/lib/common-scala_2.10-1.1.2.jar,SparkSenti-0.1/lib/commons-codec-1.4.jar,SparkSenti-0.1/lib/commons-io-2.5.jar,SparkSenti-0.1/lib/commons-lang3-3.4.jar,SparkSenti-0.1/lib/config-1.3.1.jar,SparkSenti-0.1/lib/dispatch-core_2.10-0.11.0.jar,SparkSenti-0.1/lib/ejml-0.23.jar,SparkSenti-0.1/lib/guava-14.0.1.jar,SparkSenti-0.1/lib/hppc-0.5.2.jar,SparkSenti-0.1/lib/jackson-annotations-2.8.9.jar,SparkSenti-0.1/lib/jackson-core-2.8.9.jar,SparkSenti-0.1/lib/jackson-databind-2.8.9.jar,SparkSenti-0.1/lib/jackson-datatype-jdk8-2.8.9.jar,SparkSenti-0.1/lib/jackson-datatype-jsr310-2.8.9.jar,SparkSenti-0.1/lib/javax.json-api-1.0.jar,SparkSenti-0.1/lib/javax.servlet-2.5.0.v201103041518.jar,SparkSenti-0.1/lib/jaxb-api-2.2.7.jar,SparkSenti-0.1/lib/jetty-continuation-7.6.9.v20130131.jar,SparkSenti-0.1/lib/jetty-http-7.6.9.v20130131.jar,SparkSenti-0.1/lib/jetty-io-7.6.9.v20130131.jar,SparkSenti-0.1/lib/jetty-security-7.6.9.v20130131.jar,SparkSenti-0.1/lib/jetty-server-7.6.9.v20130131.jar,SparkSenti-0.1/lib/jetty-servlet-7.6.9.v20130131.jar,SparkSenti-0.1/lib/jetty-util-7.6.9.v20130131.jar,SparkSenti-0.1/lib/jetty-webapp-7.6.9.v20130131.jar,SparkSenti-0.1/lib/jetty-xml-7.6.9.v20130131.jar,SparkSenti-0.1/lib/jline-2.12.1.jar,SparkSenti-0.1/lib/joda-time-2.9.9.jar,SparkSenti-0.1/lib/jollyday-0.4.7.jar,SparkSenti-0.1/lib/jregex-1.2_01.jar,SparkSenti-0.1/lib/json4s-ast_2.11-3.5.2.jar,SparkSenti-0.1/lib/json4s-core_2.11-3.5.2.jar,SparkSenti-0.1/lib/json4s-jackson_2.11-3.5.2.jar,SparkSenti-0.1/lib/json4s-scalap_2.11-3.5.2.jar,SparkSenti-0.1/lib/liblinear-1.94.jar,SparkSenti-0.1/lib/libsvm-3.17.jar,SparkSenti-0.1/lib/log4j-1.2.17.jar,SparkSenti-0.1/lib/logback-classic-1.0.10.jar,SparkSenti-0.1/lib/logback-core-1.0.10.jar,SparkSenti-0.1/lib/macro-compat_2.11-1.1.1.jar,SparkSenti-0.1/lib/maltparser-1.9.0.jar,SparkSenti-0.1/lib/morpha-stemmer-1.0.5.jar,SparkSenti-0.1/lib/netty-3.6.3.Final.jar,SparkSenti-0.1/lib/nlptools-core_2.10-2.4.5.jar,SparkSenti-0.1/lib/nlptools-stem-morpha_2.10-2.4.5.jar,SparkSenti-0.1/lib/paranamer-2.8.jar,SparkSenti-0.1/lib/play-functional_2.11-2.6.7.jar,SparkSenti-0.1/lib/play-json_2.11-2.6.7.jar,SparkSenti-0.1/lib/processors-corenlp_2.11-6.1.3.jar,SparkSenti-0.1/lib/processors-main_2.11-6.1.3.jar,SparkSenti-0.1/lib/processors-modelscorenlp_2.11-6.1.3.jar,SparkSenti-0.1/lib/processors-modelsmain_2.11-6.1.3.jar,SparkSenti-0.1/lib/processors-odin_2.11-6.1.3.jar,SparkSenti-0.1/lib/scala-java8-compat_2.11-0.7.0.jar,SparkSenti-0.1/lib/scala-logging_2.11-3.4.0.jar,SparkSenti-0.1/lib/scala-parser-combinators_2.11-1.0.3.jar,SparkSenti-0.1/lib/scala-reflect-2.11.8.jar,SparkSenti-0.1/lib/scala-xml_2.11-1.0.6.jar,SparkSenti-0.1/lib/scalaz-core_2.11-7.2.18.jar,SparkSenti-0.1/lib/scopt_2.10-2.1.0.jar,SparkSenti-0.1/lib/slf4j-api-1.7.10.jar,SparkSenti-0.1/lib/snakeyaml-1.14.jar,SparkSenti-0.1/lib/spark-corenlp-0.2.0-s_2.11.jar,SparkSenti-0.1/lib/sparksenti_2.11-0.1.jar,SparkSenti-0.1/lib/spark-sql_2.10-1.0.0.jar,SparkSenti-0.1/lib/stanford-corenlp-3.3.0.jar,SparkSenti-0.1/lib/stanford-corenlp-3.3.0-models.jar,SparkSenti-0.1/lib/stanford-corenlp-3.5.1.jar,SparkSenti-0.1/lib/stanford-corenlp-3.5.1-models.jar,SparkSenti-0.1/lib/stanford-parser-3.4.jar,SparkSenti-0.1/lib/unfiltered_2.10-0.7.0.jar,SparkSenti-0.1/lib/unfiltered-filter_2.10-0.7.0.jar,SparkSenti-0.1/lib/unfiltered-jetty_2.10-0.7.0.jar,SparkSenti-0.1/lib/unfiltered-util_2.10-0.7.0.jar,SparkSenti-0.1/lib/xalan-2.7.0.jar,SparkSenti-0.1/lib/xercesImpl-2.8.0.jar,SparkSenti-0.1/lib/xml-apis-1.3.03.jar,SparkSenti-0.1/lib/xom-1.2.10.jar\r\n",
      "\u001b]0;fregosi1@bright73:~\u0007[fregosi1@bright73 ~]$ spark-submit --master yarn --conf spark.executorEnv.JAVA_ \r",
      "HOME=/usr/lib/jvm/jre-1.8.0-openjdk/ --class algo1_worksheet.test --jars SparkSe \r",
      "nti-0.1/lib/akka-actor_2.11-2.5.4.jar,SparkSenti-0.1/lib/akka-slf4j_2.11-2.5.4.j \r",
      "ar,SparkSenti-0.1/lib/antlr4-runtime-4.6.jar,SparkSenti-0.1/lib/args4j-2.0.23.ja \r",
      "r,SparkSenti-0.1/lib/async-http-client-1.7.16.jar,SparkSenti-0.1/lib/bioresource \r",
      "s-1.1.24.jar,SparkSenti-0.1/lib/clearnlp-2.0.2.jar,SparkSenti-0.1/lib/common_2.1 \r",
      "1-0.0.7.jar,SparkSenti-0.1/lib/common-scala_2.10-1.1.2.jar,SparkSenti-0.1/lib/co \r",
      "mmons-codec-1.4.jar,SparkSenti-0.1/lib/commons-io-2.5.jar,SparkSenti-0.1/lib/com \r",
      "mons-lang3-3.4.jar,SparkSenti-0.1/lib/config-1.3.1.jar,SparkSenti-0.1/lib/dispat \r",
      "ch-core_2.10-0.11.0.jar,SparkSenti-0.1/lib/ejml-0.23.jar,SparkSenti-0.1/lib/guav \r",
      "a-14.0.1.jar,SparkSenti-0.1/lib/hppc-0.5.2.jar,SparkSenti-0.1/lib/jackson-annota \r",
      "tions-2.8.9.jar,SparkSenti-0.1/lib/jackson-core-2.8.9.jar,SparkSenti-0.1/lib/jac \r",
      "kson-databind-2.8.9.jar,SparkSenti-0.1/lib/jackson-datatype-jdk8-2.8.9.jar,Spark \r",
      "Senti-0.1/lib/jackson-datatype-jsr310-2.8.9.jar,SparkSenti-0.1/lib/javax.json-ap \r",
      "i-1.0.jar,SparkSenti-0.1/lib/javax.servlet-2.5.0.v201103041518.jar,SparkSenti-0. \r",
      "1/lib/jaxb-api-2.2.7.jar,SparkSenti-0.1/lib/jetty-continuation-7.6.9.v20130131.j \r",
      "ar,SparkSenti-0.1/lib/jetty-http-7.6.9.v20130131.jar,SparkSenti-0.1/lib/jetty-io \r",
      "-7.6.9.v20130131.jar,SparkSenti-0.1/lib/jetty-security-7.6.9.v20130131.jar,Spark \r",
      "Senti-0.1/lib/jetty-server-7.6.9.v20130131.jar,SparkSenti-0.1/lib/jetty-servlet- \r",
      "7.6.9.v20130131.jar,SparkSenti-0.1/lib/jetty-util-7.6.9.v20130131.jar,SparkSenti \r",
      "-0.1/lib/jetty-webapp-7.6.9.v20130131.jar,SparkSenti-0.1/lib/jetty-xml-7.6.9.v20 \r",
      "130131.jar,SparkSenti-0.1/lib/jline-2.12.1.jar,SparkSenti-0.1/lib/joda-time-2.9. \r",
      "9.jar,SparkSenti-0.1/lib/jollyday-0.4.7.jar,SparkSenti-0.1/lib/jregex-1.2_01.jar \r",
      ",SparkSenti-0.1/lib/json4s-ast_2.11-3.5.2.jar,SparkSenti-0.1/lib/json4s-core_2.1 \r",
      "1-3.5.2.jar,SparkSenti-0.1/lib/json4s-jackson_2.11-3.5.2.jar,SparkSenti-0.1/lib/ \r",
      "json4s-scalap_2.11-3.5.2.jar,SparkSenti-0.1/lib/liblinear-1.94.jar,SparkSenti-0. \r",
      "1/lib/libsvm-3.17.jar,SparkSenti-0.1/lib/log4j-1.2.17.jar,SparkSenti-0.1/lib/log \r",
      "back-classic-1.0.10.jar,SparkSenti-0.1/lib/logback-core-1.0.10.jar,SparkSenti-0. \r",
      "1/lib/macro-compat_2.11-1.1.1.jar,SparkSenti-0.1/lib/maltparser-1.9.0.jar,SparkS \r",
      "enti-0.1/lib/morpha-stemmer-1.0.5.jar,SparkSenti-0.1/lib/netty-3.6.3.Final.jar,S \r",
      "parkSenti-0.1/lib/nlptools-core_2.10-2.4.5.jar,SparkSenti-0.1/lib/nlptools-stem- \r",
      "morpha_2.10-2.4.5.jar,SparkSenti-0.1/lib/paranamer-2.8.jar,SparkSenti-0.1/lib/pl \r",
      "ay-functional_2.11-2.6.7.jar,SparkSenti-0.1/lib/play-json_2.11-2.6.7.jar,SparkSe \r",
      "nti-0.1/lib/processors-corenlp_2.11-6.1.3.jar,SparkSenti-0.1/lib/processors-main \r",
      "_2.11-6.1.3.jar,SparkSenti-0.1/lib/processors-modelscorenlp_2.11-6.1.3.jar,Spark \r",
      "Senti-0.1/lib/processors-modelsmain_2.11-6.1.3.jar,SparkSenti-0.1/lib/processors \r",
      "-odin_2.11-6.1.3.jar,SparkSenti-0.1/lib/scala-java8-compat_2.11-0.7.0.jar,SparkS \r",
      "enti-0.1/lib/scala-logging_2.11-3.4.0.jar,SparkSenti-0.1/lib/scala-parser-combin \r",
      "ators_2.11-1.0.3.jar,SparkSenti-0.1/lib/scala-reflect-2.11.8.jar,SparkSenti-0.1/ \r",
      "lib/scala-xml_2.11-1.0.6.jar,SparkSenti-0.1/lib/scalaz-core_2.11-7.2.18.jar,Spar \r",
      "kSenti-0.1/lib/scopt_2.10-2.1.0.jar,SparkSenti-0.1/lib/slf4j-api-1.7.10.jar,Spar \r",
      "kSenti-0.1/lib/snakeyaml-1.14.jar,SparkSenti-0.1/lib/spark-corenlp-0.2.0-s_2.11. \r",
      "jar,SparkSenti-0.1/lib/sparksenti_2.11-0.1.jar,SparkSenti-0.1/lib/spark-sql_2.10 \r",
      "-1.0.0.jar,SparkSenti-0.1/lib/stanford-corenlp-3.3.0.jar,SparkSenti-0.1/lib/stan \r",
      "ford-corenlp-3.3.0-models.jar,SparkSenti-0.1/lib/stanford-corenlp-3.5.1.jar,Spar \r",
      "kSenti-0.1/lib/stanford-corenlp-3.5.1-models.jar,SparkSenti-0.1/lib/stanford-par \r",
      "ser-3.4.jar,SparkSenti-0.1/lib/unfiltered_2.10-0.7.0.jar,SparkSenti-0.1/lib/unfi \r",
      "ltered-filter_2.10-0.7.0.jar,SparkSenti-0.1/lib/unfiltered-jetty_2.10-0.7.0.jar, \r",
      "SparkSenti-0.1/lib/unfiltered-util_2.10-0.7.0.jar,SparkSenti-0.1/lib/xalan-2.7.0 \r",
      ".jar,SparkSenti-0.1/lib/xercesImpl-2.8.0.jar,SparkSenti-0.1/lib/xml-apis-1.3.03. \r",
      "jar,SparkSenti-0.1/lib/xom-1.2.10.jar SparkSenti-0.1/lib/sparksenti_2.11-0.1.jar \r",
      " input_tweet_1521702685.3024828.json > defaultoutput.json\r\n",
      "18/03/22 08:12:18 WARN NativeCodeLoader: Unable to load native-hadoop library for your platform... using builtin-java classes where applicable\r\n",
      "18/03/22 08:12:20 WARN Client: Neither spark.yarn.jars nor spark.yarn.archive is set, falling back to uploading libraries under SPARK_HOME.\r\n",
      "\r",
      "[Stage 0:>                                                          (0 + 1) / 2]\r",
      "[Stage 0:>                                                          (0 + 2) / 2]\r",
      "[Stage 0:=============================>                             (1 + 1) / 2]\r",
      "                                                                                \r",
      "\u001b]0;fregosi1@bright73:~\u0007[fregosi1@bright73 ~]$ \n",
      "\u001b[0m[\u001b[0m\u001b[32msuccess\u001b[0m] \u001b[0m\u001b[0mTotal time: 44 s, completed 22 mars 2018 08:12:59\u001b[0m\n",
      "\u001b[0m[\u001b[0m\u001b[0minfo\u001b[0m] \u001b[0m\u001b[0mLoading settings from idea.sbt ...\u001b[0m\n",
      "\u001b[0m[\u001b[0m\u001b[0minfo\u001b[0m] \u001b[0m\u001b[0mLoading global plugins from /Users/Frego/.sbt/1.0/plugins\u001b[0m\n",
      "\u001b[0m[\u001b[0m\u001b[0minfo\u001b[0m] \u001b[0m\u001b[0mLoading settings from plugins.sbt ...\u001b[0m\n",
      "\u001b[0m[\u001b[0m\u001b[0minfo\u001b[0m] \u001b[0m\u001b[0mLoading project definition from /Users/Frego/Documents/Centrale/4A/OPTION/08_Projet/SparkSenti/Algo1/project\u001b[0m\n",
      "\u001b[0m[\u001b[0m\u001b[0minfo\u001b[0m] \u001b[0m\u001b[0mLoading settings from build.sbt ...\u001b[0m\n",
      "\u001b[0m[\u001b[0m\u001b[0minfo\u001b[0m] \u001b[0m\u001b[0mSet current project to SparkSenti (in build file:/Users/Frego/Documents/Centrale/4A/OPTION/08_Projet/SparkSenti/Algo1/)\u001b[0m\n",
      "spawn scp fregosi1@sparksenti:'defaultoutput.json' .\r\n",
      "fregosi1@sparksenti's password: \r\n",
      "\r",
      "defaultoutput.json                              0%    0     0.0KB/s   --:-- ETA\r",
      "defaultoutput.json                            100%  583KB   2.8MB/s   00:00    \r\n",
      "\n",
      "\u001b[0m[\u001b[0m\u001b[32msuccess\u001b[0m] \u001b[0m\u001b[0mTotal time: 1 s, completed 22 mars 2018 08:13:18\u001b[0m\n"
     ]
    }
   ],
   "source": [
    "%%bash\n",
    "cp tweets-database/$TWEET_JSON_FILENAME Algo1/$TWEET_JSON_FILENAME\n",
    "cd Algo1\n",
    "sbt \"put $TWEET_JSON_FILENAME\"\n",
    "rm -rf $TWEET_JSON_FILENAME\n",
    "sbt \"submit $TWEET_JSON_FILENAME\"\n",
    "sbt \"getOutput 'defaultoutput.json'\"\n",
    "cp defaultoutput.json ../tweets-database/$OUTPUT_TWEET_FILENAME\n",
    "rm -rf defaultoutput.json"
   ]
  },
  {
   "cell_type": "markdown",
   "metadata": {},
   "source": [
    "Pour test de viz (evite de lancer le workflow complet)"
   ]
  },
  {
   "cell_type": "code",
   "execution_count": 8,
   "metadata": {},
   "outputs": [
    {
     "name": "stdout",
     "output_type": "stream",
     "text": [
      "env: OUTPUT_TWEET_FILENAME=output_test.json\n",
      "env: TWEET_JSON_FILENAME=input_test.json\n"
     ]
    }
   ],
   "source": [
    "#%env OUTPUT_TWEET_FILENAME=output_test.json\n",
    "#%env TWEET_JSON_FILENAME=input_test.json"
   ]
  },
  {
   "cell_type": "code",
   "execution_count": 21,
   "metadata": {},
   "outputs": [],
   "source": [
    "file_json = open(\"tweets-database/\"+os.environ['OUTPUT_TWEET_FILENAME'],\"r\", encoding=\"utf8\");\n",
    "reader = json_lines.reader(file_json)\n"
   ]
  },
  {
   "cell_type": "code",
   "execution_count": 22,
   "metadata": {
    "scrolled": false
   },
   "outputs": [
    {
     "ename": "GeocoderServiceError",
     "evalue": "[SSL: CERTIFICATE_VERIFY_FAILED] certificate verify failed (_ssl.c:749)",
     "output_type": "error",
     "traceback": [
      "\u001b[0;31m---------------------------------------------------------------------------\u001b[0m",
      "\u001b[0;31mSSLError\u001b[0m                                  Traceback (most recent call last)",
      "\u001b[0;32m/Library/Frameworks/Python.framework/Versions/3.6/lib/python3.6/urllib/request.py\u001b[0m in \u001b[0;36mdo_open\u001b[0;34m(self, http_class, req, **http_conn_args)\u001b[0m\n\u001b[1;32m   1317\u001b[0m                 h.request(req.get_method(), req.selector, req.data, headers,\n\u001b[0;32m-> 1318\u001b[0;31m                           encode_chunked=req.has_header('Transfer-encoding'))\n\u001b[0m\u001b[1;32m   1319\u001b[0m             \u001b[0;32mexcept\u001b[0m \u001b[0mOSError\u001b[0m \u001b[0;32mas\u001b[0m \u001b[0merr\u001b[0m\u001b[0;34m:\u001b[0m \u001b[0;31m# timeout error\u001b[0m\u001b[0;34m\u001b[0m\u001b[0m\n",
      "\u001b[0;32m/Library/Frameworks/Python.framework/Versions/3.6/lib/python3.6/http/client.py\u001b[0m in \u001b[0;36mrequest\u001b[0;34m(self, method, url, body, headers, encode_chunked)\u001b[0m\n\u001b[1;32m   1238\u001b[0m         \u001b[0;34m\"\"\"Send a complete request to the server.\"\"\"\u001b[0m\u001b[0;34m\u001b[0m\u001b[0m\n\u001b[0;32m-> 1239\u001b[0;31m         \u001b[0mself\u001b[0m\u001b[0;34m.\u001b[0m\u001b[0m_send_request\u001b[0m\u001b[0;34m(\u001b[0m\u001b[0mmethod\u001b[0m\u001b[0;34m,\u001b[0m \u001b[0murl\u001b[0m\u001b[0;34m,\u001b[0m \u001b[0mbody\u001b[0m\u001b[0;34m,\u001b[0m \u001b[0mheaders\u001b[0m\u001b[0;34m,\u001b[0m \u001b[0mencode_chunked\u001b[0m\u001b[0;34m)\u001b[0m\u001b[0;34m\u001b[0m\u001b[0m\n\u001b[0m\u001b[1;32m   1240\u001b[0m \u001b[0;34m\u001b[0m\u001b[0m\n",
      "\u001b[0;32m/Library/Frameworks/Python.framework/Versions/3.6/lib/python3.6/http/client.py\u001b[0m in \u001b[0;36m_send_request\u001b[0;34m(self, method, url, body, headers, encode_chunked)\u001b[0m\n\u001b[1;32m   1284\u001b[0m             \u001b[0mbody\u001b[0m \u001b[0;34m=\u001b[0m \u001b[0m_encode\u001b[0m\u001b[0;34m(\u001b[0m\u001b[0mbody\u001b[0m\u001b[0;34m,\u001b[0m \u001b[0;34m'body'\u001b[0m\u001b[0;34m)\u001b[0m\u001b[0;34m\u001b[0m\u001b[0m\n\u001b[0;32m-> 1285\u001b[0;31m         \u001b[0mself\u001b[0m\u001b[0;34m.\u001b[0m\u001b[0mendheaders\u001b[0m\u001b[0;34m(\u001b[0m\u001b[0mbody\u001b[0m\u001b[0;34m,\u001b[0m \u001b[0mencode_chunked\u001b[0m\u001b[0;34m=\u001b[0m\u001b[0mencode_chunked\u001b[0m\u001b[0;34m)\u001b[0m\u001b[0;34m\u001b[0m\u001b[0m\n\u001b[0m\u001b[1;32m   1286\u001b[0m \u001b[0;34m\u001b[0m\u001b[0m\n",
      "\u001b[0;32m/Library/Frameworks/Python.framework/Versions/3.6/lib/python3.6/http/client.py\u001b[0m in \u001b[0;36mendheaders\u001b[0;34m(self, message_body, encode_chunked)\u001b[0m\n\u001b[1;32m   1233\u001b[0m             \u001b[0;32mraise\u001b[0m \u001b[0mCannotSendHeader\u001b[0m\u001b[0;34m(\u001b[0m\u001b[0;34m)\u001b[0m\u001b[0;34m\u001b[0m\u001b[0m\n\u001b[0;32m-> 1234\u001b[0;31m         \u001b[0mself\u001b[0m\u001b[0;34m.\u001b[0m\u001b[0m_send_output\u001b[0m\u001b[0;34m(\u001b[0m\u001b[0mmessage_body\u001b[0m\u001b[0;34m,\u001b[0m \u001b[0mencode_chunked\u001b[0m\u001b[0;34m=\u001b[0m\u001b[0mencode_chunked\u001b[0m\u001b[0;34m)\u001b[0m\u001b[0;34m\u001b[0m\u001b[0m\n\u001b[0m\u001b[1;32m   1235\u001b[0m \u001b[0;34m\u001b[0m\u001b[0m\n",
      "\u001b[0;32m/Library/Frameworks/Python.framework/Versions/3.6/lib/python3.6/http/client.py\u001b[0m in \u001b[0;36m_send_output\u001b[0;34m(self, message_body, encode_chunked)\u001b[0m\n\u001b[1;32m   1025\u001b[0m         \u001b[0;32mdel\u001b[0m \u001b[0mself\u001b[0m\u001b[0;34m.\u001b[0m\u001b[0m_buffer\u001b[0m\u001b[0;34m[\u001b[0m\u001b[0;34m:\u001b[0m\u001b[0;34m]\u001b[0m\u001b[0;34m\u001b[0m\u001b[0m\n\u001b[0;32m-> 1026\u001b[0;31m         \u001b[0mself\u001b[0m\u001b[0;34m.\u001b[0m\u001b[0msend\u001b[0m\u001b[0;34m(\u001b[0m\u001b[0mmsg\u001b[0m\u001b[0;34m)\u001b[0m\u001b[0;34m\u001b[0m\u001b[0m\n\u001b[0m\u001b[1;32m   1027\u001b[0m \u001b[0;34m\u001b[0m\u001b[0m\n",
      "\u001b[0;32m/Library/Frameworks/Python.framework/Versions/3.6/lib/python3.6/http/client.py\u001b[0m in \u001b[0;36msend\u001b[0;34m(self, data)\u001b[0m\n\u001b[1;32m    963\u001b[0m             \u001b[0;32mif\u001b[0m \u001b[0mself\u001b[0m\u001b[0;34m.\u001b[0m\u001b[0mauto_open\u001b[0m\u001b[0;34m:\u001b[0m\u001b[0;34m\u001b[0m\u001b[0m\n\u001b[0;32m--> 964\u001b[0;31m                 \u001b[0mself\u001b[0m\u001b[0;34m.\u001b[0m\u001b[0mconnect\u001b[0m\u001b[0;34m(\u001b[0m\u001b[0;34m)\u001b[0m\u001b[0;34m\u001b[0m\u001b[0m\n\u001b[0m\u001b[1;32m    965\u001b[0m             \u001b[0;32melse\u001b[0m\u001b[0;34m:\u001b[0m\u001b[0;34m\u001b[0m\u001b[0m\n",
      "\u001b[0;32m/Library/Frameworks/Python.framework/Versions/3.6/lib/python3.6/http/client.py\u001b[0m in \u001b[0;36mconnect\u001b[0;34m(self)\u001b[0m\n\u001b[1;32m   1399\u001b[0m             self.sock = self._context.wrap_socket(self.sock,\n\u001b[0;32m-> 1400\u001b[0;31m                                                   server_hostname=server_hostname)\n\u001b[0m\u001b[1;32m   1401\u001b[0m             \u001b[0;32mif\u001b[0m \u001b[0;32mnot\u001b[0m \u001b[0mself\u001b[0m\u001b[0;34m.\u001b[0m\u001b[0m_context\u001b[0m\u001b[0;34m.\u001b[0m\u001b[0mcheck_hostname\u001b[0m \u001b[0;32mand\u001b[0m \u001b[0mself\u001b[0m\u001b[0;34m.\u001b[0m\u001b[0m_check_hostname\u001b[0m\u001b[0;34m:\u001b[0m\u001b[0;34m\u001b[0m\u001b[0m\n",
      "\u001b[0;32m/Library/Frameworks/Python.framework/Versions/3.6/lib/python3.6/ssl.py\u001b[0m in \u001b[0;36mwrap_socket\u001b[0;34m(self, sock, server_side, do_handshake_on_connect, suppress_ragged_eofs, server_hostname, session)\u001b[0m\n\u001b[1;32m    400\u001b[0m                          \u001b[0mserver_hostname\u001b[0m\u001b[0;34m=\u001b[0m\u001b[0mserver_hostname\u001b[0m\u001b[0;34m,\u001b[0m\u001b[0;34m\u001b[0m\u001b[0m\n\u001b[0;32m--> 401\u001b[0;31m                          _context=self, _session=session)\n\u001b[0m\u001b[1;32m    402\u001b[0m \u001b[0;34m\u001b[0m\u001b[0m\n",
      "\u001b[0;32m/Library/Frameworks/Python.framework/Versions/3.6/lib/python3.6/ssl.py\u001b[0m in \u001b[0;36m__init__\u001b[0;34m(self, sock, keyfile, certfile, server_side, cert_reqs, ssl_version, ca_certs, do_handshake_on_connect, family, type, proto, fileno, suppress_ragged_eofs, npn_protocols, ciphers, server_hostname, _context, _session)\u001b[0m\n\u001b[1;32m    807\u001b[0m                         \u001b[0;32mraise\u001b[0m \u001b[0mValueError\u001b[0m\u001b[0;34m(\u001b[0m\u001b[0;34m\"do_handshake_on_connect should not be specified for non-blocking sockets\"\u001b[0m\u001b[0;34m)\u001b[0m\u001b[0;34m\u001b[0m\u001b[0m\n\u001b[0;32m--> 808\u001b[0;31m                     \u001b[0mself\u001b[0m\u001b[0;34m.\u001b[0m\u001b[0mdo_handshake\u001b[0m\u001b[0;34m(\u001b[0m\u001b[0;34m)\u001b[0m\u001b[0;34m\u001b[0m\u001b[0m\n\u001b[0m\u001b[1;32m    809\u001b[0m \u001b[0;34m\u001b[0m\u001b[0m\n",
      "\u001b[0;32m/Library/Frameworks/Python.framework/Versions/3.6/lib/python3.6/ssl.py\u001b[0m in \u001b[0;36mdo_handshake\u001b[0;34m(self, block)\u001b[0m\n\u001b[1;32m   1060\u001b[0m                 \u001b[0mself\u001b[0m\u001b[0;34m.\u001b[0m\u001b[0msettimeout\u001b[0m\u001b[0;34m(\u001b[0m\u001b[0;32mNone\u001b[0m\u001b[0;34m)\u001b[0m\u001b[0;34m\u001b[0m\u001b[0m\n\u001b[0;32m-> 1061\u001b[0;31m             \u001b[0mself\u001b[0m\u001b[0;34m.\u001b[0m\u001b[0m_sslobj\u001b[0m\u001b[0;34m.\u001b[0m\u001b[0mdo_handshake\u001b[0m\u001b[0;34m(\u001b[0m\u001b[0;34m)\u001b[0m\u001b[0;34m\u001b[0m\u001b[0m\n\u001b[0m\u001b[1;32m   1062\u001b[0m         \u001b[0;32mfinally\u001b[0m\u001b[0;34m:\u001b[0m\u001b[0;34m\u001b[0m\u001b[0m\n",
      "\u001b[0;32m/Library/Frameworks/Python.framework/Versions/3.6/lib/python3.6/ssl.py\u001b[0m in \u001b[0;36mdo_handshake\u001b[0;34m(self)\u001b[0m\n\u001b[1;32m    682\u001b[0m         \u001b[0;34m\"\"\"Start the SSL/TLS handshake.\"\"\"\u001b[0m\u001b[0;34m\u001b[0m\u001b[0m\n\u001b[0;32m--> 683\u001b[0;31m         \u001b[0mself\u001b[0m\u001b[0;34m.\u001b[0m\u001b[0m_sslobj\u001b[0m\u001b[0;34m.\u001b[0m\u001b[0mdo_handshake\u001b[0m\u001b[0;34m(\u001b[0m\u001b[0;34m)\u001b[0m\u001b[0;34m\u001b[0m\u001b[0m\n\u001b[0m\u001b[1;32m    684\u001b[0m         \u001b[0;32mif\u001b[0m \u001b[0mself\u001b[0m\u001b[0;34m.\u001b[0m\u001b[0mcontext\u001b[0m\u001b[0;34m.\u001b[0m\u001b[0mcheck_hostname\u001b[0m\u001b[0;34m:\u001b[0m\u001b[0;34m\u001b[0m\u001b[0m\n",
      "\u001b[0;31mSSLError\u001b[0m: [SSL: CERTIFICATE_VERIFY_FAILED] certificate verify failed (_ssl.c:749)",
      "\nDuring handling of the above exception, another exception occurred:\n",
      "\u001b[0;31mURLError\u001b[0m                                  Traceback (most recent call last)",
      "\u001b[0;32m/Library/Frameworks/Python.framework/Versions/3.6/lib/python3.6/site-packages/geopy/geocoders/base.py\u001b[0m in \u001b[0;36m_call_geocoder\u001b[0;34m(self, url, timeout, raw, requester, deserializer, **kwargs)\u001b[0m\n\u001b[1;32m    149\u001b[0m         \u001b[0;32mtry\u001b[0m\u001b[0;34m:\u001b[0m\u001b[0;34m\u001b[0m\u001b[0m\n\u001b[0;32m--> 150\u001b[0;31m             \u001b[0mpage\u001b[0m \u001b[0;34m=\u001b[0m \u001b[0mrequester\u001b[0m\u001b[0;34m(\u001b[0m\u001b[0mreq\u001b[0m\u001b[0;34m,\u001b[0m \u001b[0mtimeout\u001b[0m\u001b[0;34m=\u001b[0m\u001b[0;34m(\u001b[0m\u001b[0mtimeout\u001b[0m \u001b[0;32mor\u001b[0m \u001b[0mself\u001b[0m\u001b[0;34m.\u001b[0m\u001b[0mtimeout\u001b[0m\u001b[0;34m)\u001b[0m\u001b[0;34m,\u001b[0m \u001b[0;34m**\u001b[0m\u001b[0mkwargs\u001b[0m\u001b[0;34m)\u001b[0m\u001b[0;34m\u001b[0m\u001b[0m\n\u001b[0m\u001b[1;32m    151\u001b[0m         \u001b[0;32mexcept\u001b[0m \u001b[0mException\u001b[0m \u001b[0;32mas\u001b[0m \u001b[0merror\u001b[0m\u001b[0;34m:\u001b[0m \u001b[0;31m# pylint: disable=W0703\u001b[0m\u001b[0;34m\u001b[0m\u001b[0m\n",
      "\u001b[0;32m/Library/Frameworks/Python.framework/Versions/3.6/lib/python3.6/urllib/request.py\u001b[0m in \u001b[0;36murlopen\u001b[0;34m(url, data, timeout, cafile, capath, cadefault, context)\u001b[0m\n\u001b[1;32m    222\u001b[0m         \u001b[0mopener\u001b[0m \u001b[0;34m=\u001b[0m \u001b[0m_opener\u001b[0m\u001b[0;34m\u001b[0m\u001b[0m\n\u001b[0;32m--> 223\u001b[0;31m     \u001b[0;32mreturn\u001b[0m \u001b[0mopener\u001b[0m\u001b[0;34m.\u001b[0m\u001b[0mopen\u001b[0m\u001b[0;34m(\u001b[0m\u001b[0murl\u001b[0m\u001b[0;34m,\u001b[0m \u001b[0mdata\u001b[0m\u001b[0;34m,\u001b[0m \u001b[0mtimeout\u001b[0m\u001b[0;34m)\u001b[0m\u001b[0;34m\u001b[0m\u001b[0m\n\u001b[0m\u001b[1;32m    224\u001b[0m \u001b[0;34m\u001b[0m\u001b[0m\n",
      "\u001b[0;32m/Library/Frameworks/Python.framework/Versions/3.6/lib/python3.6/urllib/request.py\u001b[0m in \u001b[0;36mopen\u001b[0;34m(self, fullurl, data, timeout)\u001b[0m\n\u001b[1;32m    525\u001b[0m \u001b[0;34m\u001b[0m\u001b[0m\n\u001b[0;32m--> 526\u001b[0;31m         \u001b[0mresponse\u001b[0m \u001b[0;34m=\u001b[0m \u001b[0mself\u001b[0m\u001b[0;34m.\u001b[0m\u001b[0m_open\u001b[0m\u001b[0;34m(\u001b[0m\u001b[0mreq\u001b[0m\u001b[0;34m,\u001b[0m \u001b[0mdata\u001b[0m\u001b[0;34m)\u001b[0m\u001b[0;34m\u001b[0m\u001b[0m\n\u001b[0m\u001b[1;32m    527\u001b[0m \u001b[0;34m\u001b[0m\u001b[0m\n",
      "\u001b[0;32m/Library/Frameworks/Python.framework/Versions/3.6/lib/python3.6/urllib/request.py\u001b[0m in \u001b[0;36m_open\u001b[0;34m(self, req, data)\u001b[0m\n\u001b[1;32m    543\u001b[0m         result = self._call_chain(self.handle_open, protocol, protocol +\n\u001b[0;32m--> 544\u001b[0;31m                                   '_open', req)\n\u001b[0m\u001b[1;32m    545\u001b[0m         \u001b[0;32mif\u001b[0m \u001b[0mresult\u001b[0m\u001b[0;34m:\u001b[0m\u001b[0;34m\u001b[0m\u001b[0m\n",
      "\u001b[0;32m/Library/Frameworks/Python.framework/Versions/3.6/lib/python3.6/urllib/request.py\u001b[0m in \u001b[0;36m_call_chain\u001b[0;34m(self, chain, kind, meth_name, *args)\u001b[0m\n\u001b[1;32m    503\u001b[0m             \u001b[0mfunc\u001b[0m \u001b[0;34m=\u001b[0m \u001b[0mgetattr\u001b[0m\u001b[0;34m(\u001b[0m\u001b[0mhandler\u001b[0m\u001b[0;34m,\u001b[0m \u001b[0mmeth_name\u001b[0m\u001b[0;34m)\u001b[0m\u001b[0;34m\u001b[0m\u001b[0m\n\u001b[0;32m--> 504\u001b[0;31m             \u001b[0mresult\u001b[0m \u001b[0;34m=\u001b[0m \u001b[0mfunc\u001b[0m\u001b[0;34m(\u001b[0m\u001b[0;34m*\u001b[0m\u001b[0margs\u001b[0m\u001b[0;34m)\u001b[0m\u001b[0;34m\u001b[0m\u001b[0m\n\u001b[0m\u001b[1;32m    505\u001b[0m             \u001b[0;32mif\u001b[0m \u001b[0mresult\u001b[0m \u001b[0;32mis\u001b[0m \u001b[0;32mnot\u001b[0m \u001b[0;32mNone\u001b[0m\u001b[0;34m:\u001b[0m\u001b[0;34m\u001b[0m\u001b[0m\n",
      "\u001b[0;32m/Library/Frameworks/Python.framework/Versions/3.6/lib/python3.6/urllib/request.py\u001b[0m in \u001b[0;36mhttps_open\u001b[0;34m(self, req)\u001b[0m\n\u001b[1;32m   1360\u001b[0m             return self.do_open(http.client.HTTPSConnection, req,\n\u001b[0;32m-> 1361\u001b[0;31m                 context=self._context, check_hostname=self._check_hostname)\n\u001b[0m\u001b[1;32m   1362\u001b[0m \u001b[0;34m\u001b[0m\u001b[0m\n",
      "\u001b[0;32m/Library/Frameworks/Python.framework/Versions/3.6/lib/python3.6/urllib/request.py\u001b[0m in \u001b[0;36mdo_open\u001b[0;34m(self, http_class, req, **http_conn_args)\u001b[0m\n\u001b[1;32m   1319\u001b[0m             \u001b[0;32mexcept\u001b[0m \u001b[0mOSError\u001b[0m \u001b[0;32mas\u001b[0m \u001b[0merr\u001b[0m\u001b[0;34m:\u001b[0m \u001b[0;31m# timeout error\u001b[0m\u001b[0;34m\u001b[0m\u001b[0m\n\u001b[0;32m-> 1320\u001b[0;31m                 \u001b[0;32mraise\u001b[0m \u001b[0mURLError\u001b[0m\u001b[0;34m(\u001b[0m\u001b[0merr\u001b[0m\u001b[0;34m)\u001b[0m\u001b[0;34m\u001b[0m\u001b[0m\n\u001b[0m\u001b[1;32m   1321\u001b[0m             \u001b[0mr\u001b[0m \u001b[0;34m=\u001b[0m \u001b[0mh\u001b[0m\u001b[0;34m.\u001b[0m\u001b[0mgetresponse\u001b[0m\u001b[0;34m(\u001b[0m\u001b[0;34m)\u001b[0m\u001b[0;34m\u001b[0m\u001b[0m\n",
      "\u001b[0;31mURLError\u001b[0m: <urlopen error [SSL: CERTIFICATE_VERIFY_FAILED] certificate verify failed (_ssl.c:749)>",
      "\nDuring handling of the above exception, another exception occurred:\n",
      "\u001b[0;31mGeocoderServiceError\u001b[0m                      Traceback (most recent call last)",
      "\u001b[0;32m<ipython-input-22-ee175f855c49>\u001b[0m in \u001b[0;36m<module>\u001b[0;34m()\u001b[0m\n\u001b[1;32m     22\u001b[0m \u001b[0;32mfor\u001b[0m \u001b[0mtweet\u001b[0m \u001b[0;32min\u001b[0m \u001b[0mitertools\u001b[0m\u001b[0;34m.\u001b[0m\u001b[0mislice\u001b[0m\u001b[0;34m(\u001b[0m\u001b[0mreader\u001b[0m\u001b[0;34m,\u001b[0m \u001b[0;36m10\u001b[0m\u001b[0;34m)\u001b[0m\u001b[0;34m:\u001b[0m\u001b[0;34m\u001b[0m\u001b[0m\n\u001b[1;32m     23\u001b[0m     \u001b[0;32mif\u001b[0m \u001b[0;34m(\u001b[0m\u001b[0mtweet\u001b[0m\u001b[0;34m[\u001b[0m\u001b[0;34m'tweet'\u001b[0m\u001b[0;34m]\u001b[0m\u001b[0;34m!=\u001b[0m \u001b[0;34m''\u001b[0m\u001b[0;34m)\u001b[0m\u001b[0;34m:\u001b[0m\u001b[0;34m\u001b[0m\u001b[0m\n\u001b[0;32m---> 24\u001b[0;31m         \u001b[0mlocation\u001b[0m \u001b[0;34m=\u001b[0m \u001b[0mgeolocator\u001b[0m\u001b[0;34m.\u001b[0m\u001b[0mgeocode\u001b[0m\u001b[0;34m(\u001b[0m\u001b[0mtweet\u001b[0m\u001b[0;34m[\u001b[0m\u001b[0;34m'tweet'\u001b[0m\u001b[0;34m]\u001b[0m\u001b[0;34m[\u001b[0m\u001b[0;34m'user'\u001b[0m\u001b[0;34m]\u001b[0m\u001b[0;34m[\u001b[0m\u001b[0;34m'location'\u001b[0m\u001b[0;34m]\u001b[0m\u001b[0;34m)\u001b[0m\u001b[0;34m\u001b[0m\u001b[0m\n\u001b[0m\u001b[1;32m     25\u001b[0m         \u001b[0mpopup_image\u001b[0m \u001b[0;34m=\u001b[0m\u001b[0;34m'''<img src=\"'''\u001b[0m \u001b[0;34m+\u001b[0m \u001b[0mtweet\u001b[0m\u001b[0;34m[\u001b[0m\u001b[0;34m'tweet'\u001b[0m\u001b[0;34m]\u001b[0m\u001b[0;34m[\u001b[0m\u001b[0;34m'user'\u001b[0m\u001b[0;34m]\u001b[0m\u001b[0;34m[\u001b[0m\u001b[0;34m'profile_image_url'\u001b[0m\u001b[0;34m]\u001b[0m \u001b[0;34m+\u001b[0m \u001b[0;34m'''\" alt=\"pic \" />'''\u001b[0m\u001b[0;34m\u001b[0m\u001b[0m\n\u001b[1;32m     26\u001b[0m         \u001b[0mpopup_text\u001b[0m \u001b[0;34m=\u001b[0m \u001b[0;34m'<b>'\u001b[0m\u001b[0;34m+\u001b[0m\u001b[0mtweet\u001b[0m\u001b[0;34m[\u001b[0m\u001b[0;34m'tweet'\u001b[0m\u001b[0;34m]\u001b[0m\u001b[0;34m[\u001b[0m\u001b[0;34m'user'\u001b[0m\u001b[0;34m]\u001b[0m\u001b[0;34m[\u001b[0m\u001b[0;34m'name'\u001b[0m\u001b[0;34m]\u001b[0m\u001b[0;34m+\u001b[0m\u001b[0;34m'</b>'\u001b[0m \u001b[0;34m+\u001b[0m \u001b[0;34m' tweeted : '\u001b[0m\u001b[0;34m+\u001b[0m \u001b[0;34m'<i>'\u001b[0m \u001b[0;34m+\u001b[0m \u001b[0mtweet\u001b[0m\u001b[0;34m[\u001b[0m\u001b[0;34m'tweet'\u001b[0m\u001b[0;34m]\u001b[0m\u001b[0;34m[\u001b[0m\u001b[0;34m'full_text'\u001b[0m\u001b[0;34m]\u001b[0m \u001b[0;34m+\u001b[0m \u001b[0;34m'</i>'\u001b[0m\u001b[0;34m\u001b[0m\u001b[0m\n",
      "\u001b[0;32m/Library/Frameworks/Python.framework/Versions/3.6/lib/python3.6/site-packages/geopy/geocoders/osm.py\u001b[0m in \u001b[0;36mgeocode\u001b[0;34m(self, query, exactly_one, timeout, addressdetails, language, geometry)\u001b[0m\n\u001b[1;32m    201\u001b[0m         \u001b[0mlogger\u001b[0m\u001b[0;34m.\u001b[0m\u001b[0mdebug\u001b[0m\u001b[0;34m(\u001b[0m\u001b[0;34m\"%s.geocode: %s\"\u001b[0m\u001b[0;34m,\u001b[0m \u001b[0mself\u001b[0m\u001b[0;34m.\u001b[0m\u001b[0m__class__\u001b[0m\u001b[0;34m.\u001b[0m\u001b[0m__name__\u001b[0m\u001b[0;34m,\u001b[0m \u001b[0murl\u001b[0m\u001b[0;34m)\u001b[0m\u001b[0;34m\u001b[0m\u001b[0m\n\u001b[1;32m    202\u001b[0m         return self._parse_json(\n\u001b[0;32m--> 203\u001b[0;31m             \u001b[0mself\u001b[0m\u001b[0;34m.\u001b[0m\u001b[0m_call_geocoder\u001b[0m\u001b[0;34m(\u001b[0m\u001b[0murl\u001b[0m\u001b[0;34m,\u001b[0m \u001b[0mtimeout\u001b[0m\u001b[0;34m=\u001b[0m\u001b[0mtimeout\u001b[0m\u001b[0;34m)\u001b[0m\u001b[0;34m,\u001b[0m \u001b[0mexactly_one\u001b[0m\u001b[0;34m\u001b[0m\u001b[0m\n\u001b[0m\u001b[1;32m    204\u001b[0m         )\n\u001b[1;32m    205\u001b[0m \u001b[0;34m\u001b[0m\u001b[0m\n",
      "\u001b[0;32m/Library/Frameworks/Python.framework/Versions/3.6/lib/python3.6/site-packages/geopy/geocoders/base.py\u001b[0m in \u001b[0;36m_call_geocoder\u001b[0;34m(self, url, timeout, raw, requester, deserializer, **kwargs)\u001b[0m\n\u001b[1;32m    176\u001b[0m                 \u001b[0;32mif\u001b[0m \u001b[0;34m\"timed out\"\u001b[0m \u001b[0;32min\u001b[0m \u001b[0mmessage\u001b[0m\u001b[0;34m:\u001b[0m\u001b[0;34m\u001b[0m\u001b[0m\n\u001b[1;32m    177\u001b[0m                     \u001b[0;32mraise\u001b[0m \u001b[0mGeocoderTimedOut\u001b[0m\u001b[0;34m(\u001b[0m\u001b[0;34m'Service timed out'\u001b[0m\u001b[0;34m)\u001b[0m\u001b[0;34m\u001b[0m\u001b[0m\n\u001b[0;32m--> 178\u001b[0;31m             \u001b[0;32mraise\u001b[0m \u001b[0mGeocoderServiceError\u001b[0m\u001b[0;34m(\u001b[0m\u001b[0mmessage\u001b[0m\u001b[0;34m)\u001b[0m\u001b[0;34m\u001b[0m\u001b[0m\n\u001b[0m\u001b[1;32m    179\u001b[0m \u001b[0;34m\u001b[0m\u001b[0m\n\u001b[1;32m    180\u001b[0m         \u001b[0;32mif\u001b[0m \u001b[0mhasattr\u001b[0m\u001b[0;34m(\u001b[0m\u001b[0mpage\u001b[0m\u001b[0;34m,\u001b[0m \u001b[0;34m'getcode'\u001b[0m\u001b[0;34m)\u001b[0m\u001b[0;34m:\u001b[0m\u001b[0;34m\u001b[0m\u001b[0m\n",
      "\u001b[0;31mGeocoderServiceError\u001b[0m: [SSL: CERTIFICATE_VERIFY_FAILED] certificate verify failed (_ssl.c:749)"
     ]
    }
   ],
   "source": [
    "geolocator = Nominatim(timeout=3)\n",
    "\n",
    "WASH_COORD = [38.8949549, -77.0366456]\n",
    "NYC_COORD = [40.7128, -74.0059]\n",
    "LYON_COORD = [45.750000,4.850000]\n",
    "CHICAGO_COORD = [41.850033, -87.6500523]\n",
    "US_COORD = [39,-95]\n",
    "\n",
    "# Build map \n",
    "map_main = folium.Map(location=US_COORD, \n",
    "                      zoom_start=4, \n",
    "                      tiles='cartodbpositron', \n",
    "                      width=640, \n",
    "                      height=400)\n",
    "\n",
    "\n",
    "\n",
    "           #  ======> sert à limiter le nombre de tweets afficher sur la carte\n",
    "#for tweet in itertools.islice(reader, 30):\n",
    "#for tweet in reader :      # =======> sert à afficher tout les tweets\n",
    "\n",
    "for tweet in itertools.islice(reader, 10):\n",
    "    if (tweet['tweet']!= ''):\n",
    "        location = geolocator.geocode(tweet['tweet']['user']['location'])\n",
    "        popup_image ='''<img src=\"''' + tweet['tweet']['user']['profile_image_url'] + '''\" alt=\"pic \" />'''\n",
    "        popup_text = '<b>'+tweet['tweet']['user']['name']+'</b>' + ' tweeted : '+ '<i>' + tweet['tweet']['full_text'] + '</i>'\n",
    "        popup = '<center>' + popup_image + '<br\\><br\\>' + popup_text + '</center>'\n",
    "        location = [location.latitude + random.gauss(0,0000.1), location.longitude + random.gauss(0,000.1)]\n",
    "        if tweet['result'] == 'Positif':\n",
    "            folium.Marker(location,                               \n",
    "                          popup= popup,\n",
    "                          #popup= folium.Popup(test, max_width=2650),\n",
    "                          icon=folium.Icon(color='green')\n",
    "                         ).add_to(map_main)\n",
    "        elif tweet['result'] == 'Negatif':\n",
    "            folium.Marker(location,   \n",
    "                          popup= popup,\n",
    "                          icon=folium.Icon(color='red')\n",
    "                         ).add_to(map_main)            \n",
    "        elif tweet['result'] == 'Neutre':\n",
    "            folium.Marker(location,   \n",
    "                          popup= popup,\n",
    "                          icon=folium.Icon(color='lightgray')\n",
    "                         ).add_to(map_main)                    \n",
    "\n",
    "\n",
    "\n",
    "\n",
    "# Display map in Jupyter\n",
    "map_main"
   ]
  },
  {
   "cell_type": "markdown",
   "metadata": {},
   "source": [
    "Treemap chart"
   ]
  },
  {
   "cell_type": "code",
   "execution_count": 26,
   "metadata": {},
   "outputs": [
    {
     "data": {
      "image/png": "[encoded data removed]",
      "text/plain": [
       "<Figure size 432x288 with 1 Axes>"
      ]
     },
     "metadata": {},
     "output_type": "display_data"
    }
   ],
   "source": [
    "y=[0,0,0];\n",
    "with open(\"tweets-database/\"+os.environ['OUTPUT_TWEET_FILENAME'], 'rb') as f:\n",
    "    for tweet in json_lines.reader(f):\n",
    "        if tweet['result'] == 'Positif':\n",
    "            y[0]+=1\n",
    "        elif tweet['result'] == 'Negatif':\n",
    "            y[1]+=1\n",
    "        elif tweet['result'] == 'Neutre':\n",
    "            y[2]+=1\n",
    "x=[\"positif\",\"negatif\",\"neutre\"];   \n",
    "squarify.plot(sizes=y, label=x, alpha=.7 ,color=[\"#87AF41\",\"#F63E02\",\"#FAA613\"])\n",
    "plt.axis('off')\n",
    "plt.show()"
   ]
  },
  {
   "cell_type": "code",
   "execution_count": null,
   "metadata": {},
   "outputs": [],
   "source": []
  }
 ],
 "metadata": {
  "kernelspec": {
   "display_name": "Python with Pixiedust (Spark 2.2)",
   "language": "python",
   "name": "pythonwithpixiedustspark22"
  },
  "language_info": {
   "codemirror_mode": {
    "name": "ipython",
    "version": 3
   },
   "file_extension": ".py",
   "mimetype": "text/x-python",
   "name": "python",
   "nbconvert_exporter": "python",
   "pygments_lexer": "ipython3",
   "version": "3.6.0"
  }
 },
 "nbformat": 4,
 "nbformat_minor": 2
}
