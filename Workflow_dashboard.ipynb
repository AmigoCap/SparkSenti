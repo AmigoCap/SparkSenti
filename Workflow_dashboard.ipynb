{
 "cells": [
  {
   "cell_type": "markdown",
   "metadata": {
    "extensions": {
     "jupyter_dashboards": {
      "version": 1,
      "views": {
       "grid_default": {
        "col": 0,
        "height": 4,
        "hidden": true,
        "row": 8,
        "width": 4
       },
       "report_default": {}
      }
     }
    }
   },
   "source": [
    "Import des différentes librairies et configuration des widgets"
   ]
  },
  {
   "cell_type": "code",
   "execution_count": 1,
   "metadata": {
    "extensions": {
     "jupyter_dashboards": {
      "version": 1,
      "views": {
       "grid_default": {
        "col": 4,
        "height": 15,
        "hidden": true,
        "row": 8,
        "width": 4
       },
       "report_default": {}
      }
     }
    }
   },
   "outputs": [],
   "source": [
    "import tweepy\n",
    "import squarify \n",
    "from geopy.geocoders import Nominatim\n",
    "import folium\n",
    "import json_lines\n",
    "import json\n",
    "import time\n",
    "import datetime\n",
    "import random\n",
    "import itertools\n",
    "import os\n",
    "import matplotlib.pyplot as plt\n",
    "from texttable import Texttable\n",
    "import jsonpickle\n",
    "from ipywidgets import widgets\n",
    "from IPython.display import display\n",
    "import pandas as pd, requests\n",
    "import certifi\n",
    "import subprocess\n",
    "from IPython.display import clear_output\n",
    "# pip install tweepy json_lines squarify folium geopy panda\n",
    "\n",
    "def main(b):\n",
    "    #try:\n",
    "        w_progress_bar.value = 1\n",
    "        w_progress_legend.value = \"Performing API query\"\n",
    "        global TIME, OUTPUT_TWEET_FILENAME, TWEET_JSON_FILENAME\n",
    "        TIME=time.time()\n",
    "        OUTPUT_TWEET_FILENAME = \"output_tweet_{}.json\".format(TIME)\n",
    "        TWEET_JSON_FILENAME = \"input_tweet_{}.json\".format(TIME)\n",
    "        download_tweets()\n",
    "        run_bash()\n",
    "        w_progress_bar.value += 1\n",
    "        w_progress_legend.value = \"Processing data for map ...\"\n",
    "        format_to_map()\n",
    "        w_progress_bar.value += 1\n",
    "        w_progress_legend.value = \"Done !\"\n",
    "    #except Exception as e:\n",
    "       # w_progress_legend.value = \"There was a mistake. Interruption\"\n",
    "       # print(str(e))\n",
    "# Define all widgets\n",
    "w_type = widgets.ToggleButtons(\n",
    "    options=[\"recent\", \"popular\", \"mixed\"],\n",
    "    value=\"recent\",\n",
    "    description=\"Tweet type\",\n",
    "    tooltips=['Only the most recent tweets', 'Select the most popular tweets', 'Both recent and popular tweets'],\n",
    "    button_style='danger', # 'success', 'info', 'warning', 'danger' or ''\n",
    "    disabled=False,\n",
    ")\n",
    "\n",
    "w_keyword = widgets.Text(\n",
    "    value='#Trump',\n",
    "    placeholder='keyword or hashtag',\n",
    "    description='Keyword',\n",
    "    disabled=False   \n",
    ")\n",
    "\n",
    "w_language = widgets.ToggleButtons(\n",
    "    options=[\"en\", \"fr\", \"de\"],\n",
    "    value=\"en\",\n",
    "    description=\"Language\",\n",
    "    tooltips=[\"English\", \"French\", \"German\"],\n",
    "    button_style='danger', # 'success', 'info', 'warning', 'danger' or ''\n",
    "    disabled=False,\n",
    ")\n",
    "\n",
    "w_rts = widgets.Checkbox(\n",
    "    value=False,\n",
    "    description='Exclude retweets ?',\n",
    "    disabled=False\n",
    ")\n",
    "\n",
    "w_count = widgets.IntSlider(\n",
    "    value=100,\n",
    "    max=1000,\n",
    "    description='Nb of tweets',\n",
    ")\n",
    "\n",
    "w_coordinates = widgets.Text(\n",
    "    placeholder='Coordinates',\n",
    "    description='Coordinates',\n",
    "    disabled=False   \n",
    ")\n",
    "\n",
    "w_radius = widgets.IntText(\n",
    "    value=100,\n",
    "    placeholder='Number if kilometers',\n",
    "    description= 'Radius (km)',\n",
    "    disabled=False   \n",
    ")\n",
    "\n",
    "today = datetime.datetime.now()\n",
    "dates = [today - datetime.timedelta(days=10-i) for i in range(10)]\n",
    "options = [(date.strftime('%d/%m')) for date in dates]\n",
    "w_dates = widgets.SelectionRangeSlider(\n",
    "    options=options,\n",
    "    index=(0,9),\n",
    "    description='Date range',\n",
    "    disabled=False\n",
    ")\n",
    "\n",
    "button_query = widgets.Button(description=\"Perform the query and the analysis\")\n",
    "button_query.on_click(main)\n",
    "    \n",
    "w_progress_bar = widgets.IntProgress(\n",
    "    value=0,\n",
    "    min=0,\n",
    "    max=7,\n",
    "    step=1,\n",
    "    description='Loading:',\n",
    "    bar_style='', # 'success', 'info', 'warning', 'danger' or ''\n",
    "    orientation='horizontal'\n",
    ")\n",
    "\n",
    "w_progress_legend = widgets.HTML(\n",
    "    value=\"Waiting for input ... \",\n",
    "    placeholder='Some HTML',\n",
    "    description='Action : ',\n",
    ")\n"
   ]
  },
  {
   "cell_type": "markdown",
   "metadata": {
    "extensions": {
     "jupyter_dashboards": {
      "version": 1,
      "views": {
       "grid_default": {
        "col": 8,
        "height": 4,
        "hidden": true,
        "row": 0,
        "width": 4
       },
       "report_default": {}
      }
     }
    }
   },
   "source": [
    "Configuration des noms de fichiers utilisés par défaut"
   ]
  },
  {
   "cell_type": "code",
   "execution_count": 2,
   "metadata": {
    "extensions": {
     "jupyter_dashboards": {
      "version": 1,
      "views": {
       "grid_default": {
        "hidden": true
       },
       "report_default": {}
      }
     }
    }
   },
   "outputs": [],
   "source": [
    "OUTPUT_TWEET_FILENAME=\"output_test.json\"\n",
    "TWEET_JSON_FILENAME=\"input_test.json\""
   ]
  },
  {
   "cell_type": "markdown",
   "metadata": {
    "extensions": {
     "jupyter_dashboards": {
      "version": 1,
      "views": {
       "grid_default": {
        "hidden": true
       },
       "report_default": {}
      }
     }
    }
   },
   "source": [
    "Collecte des données twitter et stockage dans un json 'tweets_time.json'"
   ]
  },
  {
   "cell_type": "code",
   "execution_count": 3,
   "metadata": {
    "extensions": {
     "jupyter_dashboards": {
      "version": 1,
      "views": {
       "grid_default": {
        "col": 8,
        "height": 4,
        "hidden": true,
        "row": 0,
        "width": 4
       },
       "report_default": {}
      }
     }
    }
   },
   "outputs": [],
   "source": [
    "def download_tweets():\n",
    "    # Set API_key\n",
    "    API_key = json.load(open(\"API_key.txt\", \"r\"))\n",
    "    auth = tweepy.OAuthHandler(API_key[\"consumer_key\"], API_key[\"consumer_secret\"])\n",
    "    auth.set_access_token(API_key[\"access_token\"], API_key[\"access_token_secret\"])\n",
    "    api = tweepy.API(auth)\n",
    "\n",
    "    # If results from a specific ID onwards are reqd, set since_id to that ID.\n",
    "    # else default to no lower limit, go as far back as API allows\n",
    "    sinceId = None\n",
    "\n",
    "    # If results only below a specific ID are, set max_id to that ID.\n",
    "    # else default to no upper limit, start from the most recent tweet matching the search query.\n",
    "    max_id = -1\n",
    "\n",
    "    # Get values from widgets\n",
    "    maxTweets = w_count.value\n",
    "    searchQuery = w_keyword.value\n",
    "    language = w_language.value\n",
    "    year = str(datetime.datetime.now().year)\n",
    "    rts = \" -filter:retweets\" if w_rts.value else \"\"\n",
    "\n",
    "    since_date = datetime.datetime.strptime(w_dates.value[0], '%d/%m')\n",
    "    until_date = datetime.datetime.strptime(w_dates.value[1], '%d/%m')\n",
    "    since = year + \"-\" + since_date.strftime('%m-%d')\n",
    "    until = year + \"-\" + until_date.strftime('%m-%d')\n",
    "\n",
    "    tweetsPerQry = 100\n",
    "    result_type = w_type.value\n",
    "    tweet_mode = \"extended\"\n",
    "\n",
    "    args= {\n",
    "        \"q\" : searchQuery + rts + \" -filter:replies\",\n",
    "        \"until\" : until,\n",
    "        \"since\" : since,\n",
    "        \"lang\" : language,\n",
    "        \"result_type\" : result_type,\n",
    "        \"tweet_mode\" : tweet_mode,\n",
    "    }\n",
    "    if sinceId:\n",
    "        args[\"since_id\"] = sinceId\n",
    "    if w_coordinates.value and w_radius.value:\n",
    "        args[\"geocode\"] = str(w_coordinates.value) + \" \" + str(w_radius.value) + \"km\"\n",
    "\n",
    "    tweetCount = 0\n",
    "    #print(\"Downloading max {0} tweets\".format(maxTweets))\n",
    "\n",
    "    filename = \"tweets-database/\" + TWEET_JSON_FILENAME\n",
    "    with open(filename, 'w') as f:\n",
    "        while tweetCount < maxTweets:\n",
    "            args[\"count\"] =  min(tweetsPerQry, maxTweets-tweetCount)\n",
    "            if (max_id > 0):\n",
    "                args[\"max_id\"] = str(max_id - 1)\n",
    "            try:\n",
    "                new_tweets = api.search(**args)\n",
    "                if not new_tweets:\n",
    "                    #print(\"No more tweets found\")\n",
    "                    break\n",
    "                for tweet in new_tweets:\n",
    "                    f.write(jsonpickle.encode(tweet._json, unpicklable=False) + '\\n')\n",
    "                tweetCount += len(new_tweets)\n",
    "                #print(\"Downloaded {0} tweets\".format(tweetCount))\n",
    "                max_id = new_tweets[-1].id\n",
    "            except tweepy.TweepError as e:\n",
    "                # Just exit if any error\n",
    "                print(\"some error : \" + str(e))\n",
    "                break\n",
    "\n",
    "    #print (\"Downloaded {0} tweets, Saved to {1}\".format(tweetCount, filename))"
   ]
  },
  {
   "cell_type": "markdown",
   "metadata": {
    "extensions": {
     "jupyter_dashboards": {
      "version": 1,
      "views": {
       "grid_default": {
        "col": 0,
        "height": 4,
        "hidden": true,
        "row": 8,
        "width": 4
       },
       "report_default": {}
      }
     }
    }
   },
   "source": [
    "Envoie des tweets collectés sur le datacenter et lancement de l'analyse"
   ]
  },
  {
   "cell_type": "code",
   "execution_count": 4,
   "metadata": {
    "extensions": {
     "jupyter_dashboards": {
      "version": 1,
      "views": {
       "grid_default": {
        "hidden": true
       },
       "report_default": {}
      }
     }
    }
   },
   "outputs": [],
   "source": [
    "def run_bash():\n",
    "    commands = [\n",
    "'''cp tweets-database/{input} Algo1/{input}\n",
    "cd Algo1\n",
    "sbt \"put {input}\"''',\n",
    "        \n",
    "'''cd Algo1\n",
    "rm -rf {input}\n",
    "sbt \"submit {input}\"''',\n",
    "        \n",
    "'''cd Algo1\n",
    "sbt \"getOutput 'defaultoutput.json'\"''',\n",
    "        \n",
    "'''cd Algo1\n",
    "cp defaultoutput.json ../tweets-database/{output}\n",
    "rm -rf defaultoutput.json'''\n",
    "    ]\n",
    "    \n",
    "    actions = [\"Uploading tweets file...\", \n",
    "               \"Submitting file...\", \n",
    "               \"Running algorithm...\",\n",
    "               \"Saving output...\"]\n",
    "    commands = [string.format(input=TWEET_JSON_FILENAME, output=OUTPUT_TWEET_FILENAME) for string in commands]\n",
    "    for i, cmd in enumerate(commands):\n",
    "        w_progress_bar.value += 1\n",
    "        w_progress_legend.value = actions[i]\n",
    "        subprocess.call(cmd, shell=True) \n",
    "    \n",
    "    #\"\"\" Do not remove this line, this corrects a bug in Jupyter core"
   ]
  },
  {
   "cell_type": "markdown",
   "metadata": {
    "extensions": {
     "jupyter_dashboards": {
      "version": 1,
      "views": {
       "grid_default": {
        "col": 0,
        "height": 4,
        "hidden": true,
        "row": 69,
        "width": 4
       },
       "report_default": {}
      }
     }
    }
   },
   "source": [
    "Formatting data for map"
   ]
  },
  {
   "cell_type": "code",
   "execution_count": 5,
   "metadata": {
    "extensions": {
     "jupyter_dashboards": {
      "version": 1,
      "views": {
       "grid_default": {
        "hidden": true
       },
       "report_default": {}
      }
     }
    }
   },
   "outputs": [],
   "source": [
    "def format_to_map():\n",
    "    global map_main, map_color\n",
    "    file_json = open(\"tweets-database/\" + OUTPUT_TWEET_FILENAME,\"r\", encoding=\"utf8\");\n",
    "    reader = json_lines.reader(file_json)\n",
    "    reader = list(reader)\n",
    "    d = {\"af\":\"AFG\",\t\"al\":\"ALB\",\t\"dz\":\"DZA\",\t\"as\":\"ASM\",\t\"ad\":\"AND\",\t\"ao\":\"AGO\",\t\"ai\":\"AIA\",\t\"aq\":\"ATA\",\t\"ag\":\"ATG\",\t\"ar\":\"ARG\",\t\"am\":\"ARM\",\t\"aw\":\"ABW\",\t\"au\":\"AUS\",\t\"at\":\"AUT\",\t\"az\":\"AZE\",\t\"bs\":\"BHS\",\t\"bh\":\"BHR\",\t\"bd\":\"BGD\",\t\"bb\":\"BRB\",\t\"by\":\"BLR\",\t\"be\":\"BEL\",\t\"bz\":\"BLZ\",\t\"bj\":\"BEN\",\t\"bm\":\"BMU\",\t\"bt\":\"BTN\",\t\"bo\":\"BOL\",\t\"bq\":\"BES\",\t\"ba\":\"BIH\",\t\"bw\":\"BWA\",\t\"bv\":\"BVT\",\t\"br\":\"BRA\",\t\"io\":\"IOT\",\t\"bn\":\"BRN\",\t\"bg\":\"BGR\",\t\"bf\":\"BFA\",\t\"bi\":\"BDI\",\t\"kh\":\"KHM\",\t\"cm\":\"CMR\",\t\"ca\":\"CAN\",\t\"cv\":\"CPV\",\t\"ky\":\"CYM\",\t\"cf\":\"CAF\",\t\"td\":\"TCD\",\t\"cl\":\"CHL\",\t\"cn\":\"CHN\",\t\"cx\":\"CXR\",\t\"cc\":\"CCK\",\t\"co\":\"COL\",\t\"km\":\"COM\",\t\"cg\":\"COG\",\t\"cd\":\"COD\",\t\"ck\":\"COK\",\t\"cr\":\"CRI\",\t\"hr\":\"HRV\",\t\"cu\":\"CUB\",\t\"cw\":\"CUW\",\t\"cy\":\"CYP\",\t\"cz\":\"CZE\",\t\"ci\":\"CIV\",\t\"dk\":\"DNK\",\t\"dj\":\"DJI\",\t\"dm\":\"DMA\",\t\"do\":\"DOM\",\t\"ec\":\"ECU\",\t\"eg\":\"EGY\",\t\"sv\":\"SLV\",\t\"gq\":\"GNQ\",\t\"er\":\"ERI\",\t\"ee\":\"EST\",\t\"et\":\"ETH\",\t\"fk\":\"FLK\",\t\"fo\":\"FRO\",\t\"fj\":\"FJI\",\t\"fi\":\"FIN\",\t\"fr\":\"FRA\",\t\"gf\":\"GUF\",\t\"pf\":\"PYF\",\t\"tf\":\"ATF\",\t\"ga\":\"GAB\",\t\"gm\":\"GMB\",\t\"ge\":\"GEO\",\t\"de\":\"DEU\",\t\"gh\":\"GHA\",\t\"gi\":\"GIB\",\t\"gr\":\"GRC\",\t\"gl\":\"GRL\",\t\"gd\":\"GRD\",\t\"gp\":\"GLP\",\t\"gu\":\"GUM\",\t\"gt\":\"GTM\",\t\"gg\":\"GGY\",\t\"gn\":\"GIN\",\t\"gw\":\"GNB\",\t\"gy\":\"GUY\",\t\"ht\":\"HTI\",\t\"hm\":\"HMD\",\t\"va\":\"VAT\",\t\"hn\":\"HND\",\t\"hk\":\"HKG\",\t\"hu\":\"HUN\",\t\"is\":\"ISL\",\t\"in\":\"IND\",\t\"id\":\"IDN\",\t\"ir\":\"IRN\",\t\"iq\":\"IRQ\",\t\"ie\":\"IRL\",\t\"im\":\"IMN\",\t\"il\":\"ISR\",\t\"it\":\"ITA\",\t\"jm\":\"JAM\",\t\"jp\":\"JPN\",\t\"je\":\"JEY\",\t\"jo\":\"JOR\",\t\"kz\":\"KAZ\",\t\"ke\":\"KEN\",\t\"ki\":\"KIR\",\t\"kp\":\"PRK\",\t\"kr\":\"KOR\",\t\"kw\":\"KWT\",\t\"kg\":\"KGZ\",\t\"la\":\"LAO\",\t\"lv\":\"LVA\",\t\"lb\":\"LBN\",\t\"ls\":\"LSO\",\t\"lr\":\"LBR\",\t\"ly\":\"LBY\",\t\"li\":\"LIE\",\t\"lt\":\"LTU\",\t\"lu\":\"LUX\",\t\"mo\":\"MAC\",\t\"mk\":\"MKD\",\t\"mg\":\"MDG\",\t\"mw\":\"MWI\",\t\"my\":\"MYS\",\t\"mv\":\"MDV\",\t\"ml\":\"MLI\",\t\"mt\":\"MLT\",\t\"mh\":\"MHL\",\t\"mq\":\"MTQ\",\t\"mr\":\"MRT\",\t\"mu\":\"MUS\",\t\"yt\":\"MYT\",\t\"mx\":\"MEX\",\t\"fm\":\"FSM\",\t\"md\":\"MDA\",\t\"mc\":\"MCO\",\t\"mn\":\"MNG\",\t\"me\":\"MNE\",\t\"ms\":\"MSR\",\t\"ma\":\"MAR\",\t\"mz\":\"MOZ\",\t\"mm\":\"MMR\",\t\"na\":\"NAM\",\t\"nr\":\"NRU\",\t\"np\":\"NPL\",\t\"nl\":\"NLD\",\t\"nc\":\"NCL\",\t\"nz\":\"NZL\",\t\"ni\":\"NIC\",\t\"ne\":\"NER\",\t\"ng\":\"NGA\",\t\"nu\":\"NIU\",\t\"nf\":\"NFK\",\t\"mp\":\"MNP\",\t\"no\":\"NOR\",\t\"om\":\"OMN\",\t\"pk\":\"PAK\",\t\"pw\":\"PLW\",\t\"ps\":\"PSE\",\t\"pa\":\"PAN\",\t\"pg\":\"PNG\",\t\"py\":\"PRY\",\t\"pe\":\"PER\",\t\"ph\":\"PHL\",\t\"pn\":\"PCN\",\t\"pl\":\"POL\",\t\"pt\":\"PRT\",\t\"pr\":\"PRI\",\t\"qa\":\"QAT\",\t\"ro\":\"ROU\",\t\"ru\":\"RUS\",\t\"rw\":\"RWA\",\t\"re\":\"REU\",\t\"bl\":\"BLM\",\t\"sh\":\"SHN\",\t\"kn\":\"KNA\",\t\"lc\":\"LCA\",\t\"mf\":\"MAF\",\t\"pm\":\"SPM\",\t\"vc\":\"VCT\",\t\"ws\":\"WSM\",\t\"sm\":\"SMR\",\t\"st\":\"STP\",\t\"sa\":\"SAU\",\t\"sn\":\"SEN\",\t\"rs\":\"SRB\",\t\"sc\":\"SYC\",\t\"sl\":\"SLE\",\t\"sg\":\"SGP\",\t\"sx\":\"SXM\",\t\"sk\":\"SVK\",\t\"si\":\"SVN\",\t\"sb\":\"SLB\",\t\"so\":\"SOM\",\t\"za\":\"ZAF\",\t\"gs\":\"SGS\",\t\"ss\":\"SSD\",\t\"es\":\"ESP\",\t\"lk\":\"LKA\",\t\"sd\":\"SDN\",\t\"sr\":\"SUR\",\t\"sj\":\"SJM\",\t\"sz\":\"SWZ\",\t\"se\":\"SWE\",\t\"ch\":\"CHE\",\t\"sy\":\"SYR\",\t\"tw\":\"TWN\",\t\"tj\":\"TJK\",\t\"tz\":\"TZA\",\t\"th\":\"THA\",\t\"tl\":\"TLS\",\t\"tg\":\"TGO\",\t\"tk\":\"TKL\",\t\"to\":\"TON\",\t\"tt\":\"TTO\",\t\"tn\":\"TUN\",\t\"tr\":\"TUR\",\t\"tm\":\"TKM\",\t\"tc\":\"TCA\",\t\"tv\":\"TUV\",\t\"ug\":\"UGA\",\t\"ua\":\"UKR\",\t\"ae\":\"ARE\",\t\"gb\":\"GBR\",\t\"us\":\"USA\",\t\"um\":\"UMI\",\t\"uy\":\"URY\",\t\"uz\":\"UZB\",\t\"vu\":\"VUT\",\t\"ve\":\"VEN\",\t\"vn\":\"VNM\",\t\"vg\":\"VGB\",\t\"vi\":\"VIR\",\t\"wf\":\"WLF\",\t\"eh\":\"ESH\",\t\"ye\":\"YEM\",\t\"zm\":\"ZMB\",\t\"zw\":\"ZWE\"}\n",
    "    geolocator = Nominatim(timeout=3)\n",
    "    #location to be chosen so map will zoom on it \n",
    "    US_COORD = [39,-95]\n",
    "\n",
    "    # Build map \n",
    "    map_main = folium.Map(location=US_COORD,\n",
    "                          zoom_start=2, \n",
    "                          tiles='cartodbpositron', \n",
    "                          width=900, \n",
    "                          height=500)         \n",
    "\n",
    "\n",
    "    location_list=[]\n",
    "    location_score_list=[]\n",
    "    location_tweet_count=[]\n",
    "    country_sentiment=[]\n",
    "\n",
    "    for i, tweet in enumerate(reader):\n",
    "        w_progress_bar.value += 1/len(reader)\n",
    "        location_json = tweet['tweet']['user']['location']\n",
    "        #print(\"location_json : {0}\".format(location_json)) #affichage pour debug\n",
    "        if (location_json!= ''):\n",
    "            geolocation = geolocator.geocode(location_json)\n",
    "            if geolocation != None:\n",
    "\n",
    "                popup_image ='''<img src=\"''' + tweet['tweet']['user']['profile_image_url'] + '''\" alt=\"pic \" />'''\n",
    "                popup_text = '<b>'+tweet['tweet']['user']['name'].replace(\"'\", r'\\\"')+'</b>' + ' tweeted : '+ '<i>' + tweet['tweet']['full_text'].replace(\"'\", r'\\\"') + '</i>'\n",
    "                popup = '<center>' + popup_image + '<br\\><br\\>' + popup_text + '</center>'\n",
    "                location_lat_long = [geolocation.latitude + random.gauss(0,0000.1), geolocation.longitude + random.gauss(0,000.1)]\n",
    "                reverse=geolocator.reverse(location_lat_long)\n",
    "                country=d[reverse.raw['address']['country_code']]\n",
    "\n",
    "                note=0\n",
    "                if tweet['result'] == 'Positif':\n",
    "                    folium.Marker(location_lat_long,                               \n",
    "                                  popup= popup,\n",
    "                                  #popup= folium.Popup(test, max_width=2650),\n",
    "                                  icon=folium.Icon(color='green')\n",
    "                                 ).add_to(map_main)\n",
    "                    note+=1\n",
    "                elif tweet['result'] == 'Negatif':\n",
    "                    folium.Marker(location_lat_long,   \n",
    "                                  popup= popup_text,\n",
    "                                  icon=folium.Icon(color='red')\n",
    "                                 ).add_to(map_main)  \n",
    "                    note-=1\n",
    "                elif tweet['result'] == 'Neutre':\n",
    "                    folium.Marker(location_lat_long,   \n",
    "                                  popup= popup,\n",
    "                                  icon=folium.Icon(color='lightgray')\n",
    "                                 ).add_to(map_main)\n",
    "                if (country != None)&(country in location_list):\n",
    "                    location_score_list[location_list.index(country)]+=note\n",
    "                    location_tweet_count[location_list.index(country)]+=1\n",
    "                if (country not in location_list)&(country != None):\n",
    "                    location_list.append(country)\n",
    "                    location_score_list.append(0)\n",
    "                    location_tweet_count.append(0)\n",
    "\n",
    "    for i in range(len(location_tweet_count)):\n",
    "        if (location_tweet_count[i]!=0):\n",
    "            location_score_list[i] =location_score_list[i]/location_tweet_count[i]\n",
    "    #Define heat_map (aka map_color)\n",
    "    country_geo = os.path.join('countries.geo.json')\n",
    "    country_sentiment=pd.DataFrame(\n",
    "        {'Country': location_list,\n",
    "         'Sentiment': location_score_list,\n",
    "        })\n",
    "\n",
    "    map_color = folium.Map(location=US_COORD, \n",
    "                          zoom_start=2, \n",
    "                          tiles='cartodbpositron', \n",
    "                          width=900, \n",
    "                          height=500)     \n",
    "    map_color.choropleth(\n",
    "     geo_data=country_geo,\n",
    "     name='Sentiment',\n",
    "     data=country_sentiment,\n",
    "     columns=['Country', 'Sentiment'],\n",
    "     key_on='feature.id',\n",
    "     fill_color='PuBuGn',\n",
    "     fill_opacity=0.9,\n",
    "     line_opacity=0.2,\n",
    "     legend_name='Sentiment'\n",
    "    )\n",
    "    folium.LayerControl().add_to(map_color)"
   ]
  },
  {
   "cell_type": "markdown",
   "metadata": {
    "extensions": {
     "jupyter_dashboards": {
      "version": 1,
      "views": {
       "grid_default": {
        "col": 4,
        "height": 4,
        "hidden": true,
        "row": 23,
        "width": 4
       },
       "report_default": {}
      }
     }
    }
   },
   "source": [
    "Visualisation des tweets sur carte"
   ]
  },
  {
   "cell_type": "code",
   "execution_count": 6,
   "metadata": {
    "extensions": {
     "jupyter_dashboards": {
      "version": 1,
      "views": {
       "grid_default": {
        "hidden": true
       },
       "report_default": {}
      }
     }
    }
   },
   "outputs": [],
   "source": [
    "def plot_map(b):\n",
    "    clear_output()\n",
    "    display(w_button_map)\n",
    "    display(map_main)"
   ]
  },
  {
   "cell_type": "markdown",
   "metadata": {
    "extensions": {
     "jupyter_dashboards": {
      "version": 1,
      "views": {
       "grid_default": {
        "col": 4,
        "height": 4,
        "hidden": true,
        "row": 23,
        "width": 4
       },
       "report_default": {}
      }
     }
    }
   },
   "source": [
    "Echelle de pays par sentiments"
   ]
  },
  {
   "cell_type": "code",
   "execution_count": 7,
   "metadata": {
    "extensions": {
     "jupyter_dashboards": {
      "version": 1,
      "views": {
       "grid_default": {
        "hidden": true
       },
       "report_default": {}
      }
     }
    }
   },
   "outputs": [],
   "source": [
    "def plot_heatmap(b):\n",
    "    clear_output()\n",
    "    display(w_button_heatmap)\n",
    "    display(map_color)"
   ]
  },
  {
   "cell_type": "markdown",
   "metadata": {
    "extensions": {
     "jupyter_dashboards": {
      "version": 1,
      "views": {
       "grid_default": {
        "col": 0,
        "height": 4,
        "hidden": true,
        "row": 8,
        "width": 4
       },
       "report_default": {}
      }
     }
    }
   },
   "source": [
    "Treemap chart"
   ]
  },
  {
   "cell_type": "code",
   "execution_count": 8,
   "metadata": {
    "extensions": {
     "jupyter_dashboards": {
      "version": 1,
      "views": {
       "grid_default": {
        "col": 0,
        "height": 9,
        "hidden": true,
        "row": 8,
        "width": 4
       },
       "report_default": {}
      }
     }
    }
   },
   "outputs": [],
   "source": [
    "def plot_treemap(b):\n",
    "    clear_output()\n",
    "    display(w_button_treemap)\n",
    "    y=[0,0,0];\n",
    "    with open(\"tweets-database/\" + OUTPUT_TWEET_FILENAME, 'rb') as f:\n",
    "        for tweet in json_lines.reader(f):\n",
    "            if tweet['result'] == 'Positif':\n",
    "                y[0]+=1\n",
    "            elif tweet['result'] == 'Negatif':\n",
    "                y[1]+=1\n",
    "            elif tweet['result'] == 'Neutre':\n",
    "                y[2]+=1\n",
    "\n",
    "    x = [\"Positif\", \"Négatif\", \"Neutre\"];\n",
    "    x = [x[i] + \" (\" + str(y[i]) + \")\" for i in range(3)]\n",
    "\n",
    "    colors=[\"#87AF41\",\"#F63E02\",\"#FAA613\"];\n",
    "    if 0 in y:\n",
    "        k=y.index(0)\n",
    "        del x[k]\n",
    "        del y[k]\n",
    "        del colors[k]\n",
    "    if 0 in y:\n",
    "        k=y.index(0)\n",
    "        del x[k]\n",
    "        del y[k]\n",
    "        del colors[k]\n",
    "\n",
    "    squarify.plot(sizes=y, label=x, alpha=.7 ,color=colors)\n",
    "    plt.axis('off')\n",
    "    plt.show()"
   ]
  },
  {
   "cell_type": "markdown",
   "metadata": {
    "extensions": {
     "jupyter_dashboards": {
      "version": 1,
      "views": {
       "grid_default": {
        "col": 4,
        "height": 4,
        "hidden": true,
        "row": 23,
        "width": 4
       },
       "report_default": {}
      }
     }
    }
   },
   "source": [
    "Liste des tweets"
   ]
  },
  {
   "cell_type": "code",
   "execution_count": 9,
   "metadata": {
    "extensions": {
     "jupyter_dashboards": {
      "version": 1,
      "views": {
       "grid_default": {
        "col": 4,
        "height": 12,
        "hidden": true,
        "row": 23,
        "width": 4
       },
       "report_default": {}
      }
     }
    }
   },
   "outputs": [],
   "source": [
    "def plot_tweet_list(b):\n",
    "    clear_output()\n",
    "    display(w_button_tweet_list)\n",
    "    data=[[\"Score\",\"Tweet\"]]\n",
    "    with open(\"tweets-database/\" + OUTPUT_TWEET_FILENAME, 'rb') as f:\n",
    "        for tweet in json_lines.reader(f):\n",
    "            data.append([tweet[\"result\"],tweet[\"tweet\"][\"full_text\"]])\n",
    "    t = Texttable()\n",
    "    t.add_rows(data)\n",
    "    print (t.draw())"
   ]
  },
  {
   "cell_type": "code",
   "execution_count": 10,
   "metadata": {
    "extensions": {
     "jupyter_dashboards": {
      "version": 1,
      "views": {
       "grid_default": {
        "hidden": true
       },
       "report_default": {}
      }
     }
    }
   },
   "outputs": [],
   "source": [
    "w_button_list = widgets.Button(description=\"Display list of tweets\")\n",
    "w_button_list.on_click(plot_tweet_list)\n",
    "\n",
    "w_button_map = widgets.Button(description=\"Plot map\")\n",
    "w_button_map.on_click(plot_map)\n",
    "\n",
    "w_button_heatmap = widgets.Button(description=\"Plot heat map\")\n",
    "w_button_heatmap.on_click(plot_heatmap)\n",
    "\n",
    "w_button_treemap = widgets.Button(description=\"Plot treemap\")\n",
    "w_button_treemap.on_click(plot_treemap)"
   ]
  },
  {
   "cell_type": "code",
   "execution_count": 11,
   "metadata": {
    "extensions": {
     "jupyter_dashboards": {
      "version": 1,
      "views": {
       "grid_default": {
        "col": 0,
        "height": 17,
        "hidden": false,
        "row": 0,
        "width": 6
       },
       "report_default": {}
      }
     }
    }
   },
   "outputs": [
    {
     "data": {
      "application/vnd.jupyter.widget-view+json": {
       "model_id": "2437d49829bc40a190a9cba51785aa0f",
       "version_major": 2,
       "version_minor": 0
      },
      "text/html": [
       "<p>Failed to display Jupyter Widget of type <code>IntSlider</code>.</p>\n",
       "<p>\n",
       "  If you're reading this message in the Jupyter Notebook or JupyterLab Notebook, it may mean\n",
       "  that the widgets JavaScript is still loading. If this message persists, it\n",
       "  likely means that the widgets JavaScript library is either not installed or\n",
       "  not enabled. See the <a href=\"https://ipywidgets.readthedocs.io/en/stable/user_install.html\">Jupyter\n",
       "  Widgets Documentation</a> for setup instructions.\n",
       "</p>\n",
       "<p>\n",
       "  If you're reading this message in another frontend (for example, a static\n",
       "  rendering on GitHub or <a href=\"https://nbviewer.jupyter.org/\">NBViewer</a>),\n",
       "  it may mean that your frontend doesn't currently support widgets.\n",
       "</p>\n"
      ],
      "text/plain": [
       "IntSlider(value=100, description='Nb of tweets', max=1000)"
      ]
     },
     "metadata": {},
     "output_type": "display_data"
    },
    {
     "data": {
      "application/vnd.jupyter.widget-view+json": {
       "model_id": "9a89be992c8b47eb98d41581ab8b8163",
       "version_major": 2,
       "version_minor": 0
      },
      "text/html": [
       "<p>Failed to display Jupyter Widget of type <code>SelectionRangeSlider</code>.</p>\n",
       "<p>\n",
       "  If you're reading this message in the Jupyter Notebook or JupyterLab Notebook, it may mean\n",
       "  that the widgets JavaScript is still loading. If this message persists, it\n",
       "  likely means that the widgets JavaScript library is either not installed or\n",
       "  not enabled. See the <a href=\"https://ipywidgets.readthedocs.io/en/stable/user_install.html\">Jupyter\n",
       "  Widgets Documentation</a> for setup instructions.\n",
       "</p>\n",
       "<p>\n",
       "  If you're reading this message in another frontend (for example, a static\n",
       "  rendering on GitHub or <a href=\"https://nbviewer.jupyter.org/\">NBViewer</a>),\n",
       "  it may mean that your frontend doesn't currently support widgets.\n",
       "</p>\n"
      ],
      "text/plain": [
       "SelectionRangeSlider(description='Date range', index=(0, 9), options=('18/03', '19/03', '20/03', '21/03', '22/03', '23/03', '24/03', '25/03', '26/03', '27/03'), value=('18/03', '27/03'))"
      ]
     },
     "metadata": {},
     "output_type": "display_data"
    },
    {
     "data": {
      "application/vnd.jupyter.widget-view+json": {
       "model_id": "039debc4e68c4eb2be63082951565c45",
       "version_major": 2,
       "version_minor": 0
      },
      "text/html": [
       "<p>Failed to display Jupyter Widget of type <code>Text</code>.</p>\n",
       "<p>\n",
       "  If you're reading this message in the Jupyter Notebook or JupyterLab Notebook, it may mean\n",
       "  that the widgets JavaScript is still loading. If this message persists, it\n",
       "  likely means that the widgets JavaScript library is either not installed or\n",
       "  not enabled. See the <a href=\"https://ipywidgets.readthedocs.io/en/stable/user_install.html\">Jupyter\n",
       "  Widgets Documentation</a> for setup instructions.\n",
       "</p>\n",
       "<p>\n",
       "  If you're reading this message in another frontend (for example, a static\n",
       "  rendering on GitHub or <a href=\"https://nbviewer.jupyter.org/\">NBViewer</a>),\n",
       "  it may mean that your frontend doesn't currently support widgets.\n",
       "</p>\n"
      ],
      "text/plain": [
       "Text(value='#Trump', description='Keyword', placeholder='keyword or hashtag')"
      ]
     },
     "metadata": {},
     "output_type": "display_data"
    },
    {
     "data": {
      "application/vnd.jupyter.widget-view+json": {
       "model_id": "5044a63d78b94fd5a16b811087ebbc5a",
       "version_major": 2,
       "version_minor": 0
      },
      "text/html": [
       "<p>Failed to display Jupyter Widget of type <code>Checkbox</code>.</p>\n",
       "<p>\n",
       "  If you're reading this message in the Jupyter Notebook or JupyterLab Notebook, it may mean\n",
       "  that the widgets JavaScript is still loading. If this message persists, it\n",
       "  likely means that the widgets JavaScript library is either not installed or\n",
       "  not enabled. See the <a href=\"https://ipywidgets.readthedocs.io/en/stable/user_install.html\">Jupyter\n",
       "  Widgets Documentation</a> for setup instructions.\n",
       "</p>\n",
       "<p>\n",
       "  If you're reading this message in another frontend (for example, a static\n",
       "  rendering on GitHub or <a href=\"https://nbviewer.jupyter.org/\">NBViewer</a>),\n",
       "  it may mean that your frontend doesn't currently support widgets.\n",
       "</p>\n"
      ],
      "text/plain": [
       "Checkbox(value=False, description='Exclude retweets ?')"
      ]
     },
     "metadata": {},
     "output_type": "display_data"
    },
    {
     "data": {
      "application/vnd.jupyter.widget-view+json": {
       "model_id": "ca09f72d89714183a55a0c5cd5f6b4a9",
       "version_major": 2,
       "version_minor": 0
      },
      "text/html": [
       "<p>Failed to display Jupyter Widget of type <code>ToggleButtons</code>.</p>\n",
       "<p>\n",
       "  If you're reading this message in the Jupyter Notebook or JupyterLab Notebook, it may mean\n",
       "  that the widgets JavaScript is still loading. If this message persists, it\n",
       "  likely means that the widgets JavaScript library is either not installed or\n",
       "  not enabled. See the <a href=\"https://ipywidgets.readthedocs.io/en/stable/user_install.html\">Jupyter\n",
       "  Widgets Documentation</a> for setup instructions.\n",
       "</p>\n",
       "<p>\n",
       "  If you're reading this message in another frontend (for example, a static\n",
       "  rendering on GitHub or <a href=\"https://nbviewer.jupyter.org/\">NBViewer</a>),\n",
       "  it may mean that your frontend doesn't currently support widgets.\n",
       "</p>\n"
      ],
      "text/plain": [
       "ToggleButtons(button_style='danger', description='Language', options=('en', 'fr', 'de'), tooltips=['English', 'French', 'German'], value='en')"
      ]
     },
     "metadata": {},
     "output_type": "display_data"
    },
    {
     "data": {
      "application/vnd.jupyter.widget-view+json": {
       "model_id": "311c5b148557468ea97409d72b230896",
       "version_major": 2,
       "version_minor": 0
      },
      "text/html": [
       "<p>Failed to display Jupyter Widget of type <code>ToggleButtons</code>.</p>\n",
       "<p>\n",
       "  If you're reading this message in the Jupyter Notebook or JupyterLab Notebook, it may mean\n",
       "  that the widgets JavaScript is still loading. If this message persists, it\n",
       "  likely means that the widgets JavaScript library is either not installed or\n",
       "  not enabled. See the <a href=\"https://ipywidgets.readthedocs.io/en/stable/user_install.html\">Jupyter\n",
       "  Widgets Documentation</a> for setup instructions.\n",
       "</p>\n",
       "<p>\n",
       "  If you're reading this message in another frontend (for example, a static\n",
       "  rendering on GitHub or <a href=\"https://nbviewer.jupyter.org/\">NBViewer</a>),\n",
       "  it may mean that your frontend doesn't currently support widgets.\n",
       "</p>\n"
      ],
      "text/plain": [
       "ToggleButtons(button_style='danger', description='Tweet type', options=('recent', 'popular', 'mixed'), tooltips=['Only the most recent tweets', 'Select the most popular tweets', 'Both recent and popular tweets'], value='recent')"
      ]
     },
     "metadata": {},
     "output_type": "display_data"
    },
    {
     "data": {
      "application/vnd.jupyter.widget-view+json": {
       "model_id": "5b213196040f408a9359c992fd83594f",
       "version_major": 2,
       "version_minor": 0
      },
      "text/html": [
       "<p>Failed to display Jupyter Widget of type <code>Text</code>.</p>\n",
       "<p>\n",
       "  If you're reading this message in the Jupyter Notebook or JupyterLab Notebook, it may mean\n",
       "  that the widgets JavaScript is still loading. If this message persists, it\n",
       "  likely means that the widgets JavaScript library is either not installed or\n",
       "  not enabled. See the <a href=\"https://ipywidgets.readthedocs.io/en/stable/user_install.html\">Jupyter\n",
       "  Widgets Documentation</a> for setup instructions.\n",
       "</p>\n",
       "<p>\n",
       "  If you're reading this message in another frontend (for example, a static\n",
       "  rendering on GitHub or <a href=\"https://nbviewer.jupyter.org/\">NBViewer</a>),\n",
       "  it may mean that your frontend doesn't currently support widgets.\n",
       "</p>\n"
      ],
      "text/plain": [
       "Text(value='', description='Coordinates', placeholder='Coordinates')"
      ]
     },
     "metadata": {},
     "output_type": "display_data"
    },
    {
     "data": {
      "application/vnd.jupyter.widget-view+json": {
       "model_id": "cc9e3843ba90464fbd1820e74e774ce9",
       "version_major": 2,
       "version_minor": 0
      },
      "text/html": [
       "<p>Failed to display Jupyter Widget of type <code>IntText</code>.</p>\n",
       "<p>\n",
       "  If you're reading this message in the Jupyter Notebook or JupyterLab Notebook, it may mean\n",
       "  that the widgets JavaScript is still loading. If this message persists, it\n",
       "  likely means that the widgets JavaScript library is either not installed or\n",
       "  not enabled. See the <a href=\"https://ipywidgets.readthedocs.io/en/stable/user_install.html\">Jupyter\n",
       "  Widgets Documentation</a> for setup instructions.\n",
       "</p>\n",
       "<p>\n",
       "  If you're reading this message in another frontend (for example, a static\n",
       "  rendering on GitHub or <a href=\"https://nbviewer.jupyter.org/\">NBViewer</a>),\n",
       "  it may mean that your frontend doesn't currently support widgets.\n",
       "</p>\n"
      ],
      "text/plain": [
       "IntText(value=100, description='Radius (km)')"
      ]
     },
     "metadata": {},
     "output_type": "display_data"
    },
    {
     "data": {
      "application/vnd.jupyter.widget-view+json": {
       "model_id": "da93b75553574238be384d35d05540bf",
       "version_major": 2,
       "version_minor": 0
      },
      "text/html": [
       "<p>Failed to display Jupyter Widget of type <code>Button</code>.</p>\n",
       "<p>\n",
       "  If you're reading this message in the Jupyter Notebook or JupyterLab Notebook, it may mean\n",
       "  that the widgets JavaScript is still loading. If this message persists, it\n",
       "  likely means that the widgets JavaScript library is either not installed or\n",
       "  not enabled. See the <a href=\"https://ipywidgets.readthedocs.io/en/stable/user_install.html\">Jupyter\n",
       "  Widgets Documentation</a> for setup instructions.\n",
       "</p>\n",
       "<p>\n",
       "  If you're reading this message in another frontend (for example, a static\n",
       "  rendering on GitHub or <a href=\"https://nbviewer.jupyter.org/\">NBViewer</a>),\n",
       "  it may mean that your frontend doesn't currently support widgets.\n",
       "</p>\n"
      ],
      "text/plain": [
       "Button(description='Perform the query and the analysis', style=ButtonStyle())"
      ]
     },
     "metadata": {},
     "output_type": "display_data"
    },
    {
     "data": {
      "application/vnd.jupyter.widget-view+json": {
       "model_id": "0735572384c740d6a0df062cea56ef46",
       "version_major": 2,
       "version_minor": 0
      },
      "text/html": [
       "<p>Failed to display Jupyter Widget of type <code>IntProgress</code>.</p>\n",
       "<p>\n",
       "  If you're reading this message in the Jupyter Notebook or JupyterLab Notebook, it may mean\n",
       "  that the widgets JavaScript is still loading. If this message persists, it\n",
       "  likely means that the widgets JavaScript library is either not installed or\n",
       "  not enabled. See the <a href=\"https://ipywidgets.readthedocs.io/en/stable/user_install.html\">Jupyter\n",
       "  Widgets Documentation</a> for setup instructions.\n",
       "</p>\n",
       "<p>\n",
       "  If you're reading this message in another frontend (for example, a static\n",
       "  rendering on GitHub or <a href=\"https://nbviewer.jupyter.org/\">NBViewer</a>),\n",
       "  it may mean that your frontend doesn't currently support widgets.\n",
       "</p>\n"
      ],
      "text/plain": [
       "IntProgress(value=0, description='Loading:', max=7)"
      ]
     },
     "metadata": {},
     "output_type": "display_data"
    },
    {
     "data": {
      "application/vnd.jupyter.widget-view+json": {
       "model_id": "551ac1de50524fcebd44665e30750e02",
       "version_major": 2,
       "version_minor": 0
      },
      "text/html": [
       "<p>Failed to display Jupyter Widget of type <code>HTML</code>.</p>\n",
       "<p>\n",
       "  If you're reading this message in the Jupyter Notebook or JupyterLab Notebook, it may mean\n",
       "  that the widgets JavaScript is still loading. If this message persists, it\n",
       "  likely means that the widgets JavaScript library is either not installed or\n",
       "  not enabled. See the <a href=\"https://ipywidgets.readthedocs.io/en/stable/user_install.html\">Jupyter\n",
       "  Widgets Documentation</a> for setup instructions.\n",
       "</p>\n",
       "<p>\n",
       "  If you're reading this message in another frontend (for example, a static\n",
       "  rendering on GitHub or <a href=\"https://nbviewer.jupyter.org/\">NBViewer</a>),\n",
       "  it may mean that your frontend doesn't currently support widgets.\n",
       "</p>\n"
      ],
      "text/plain": [
       "HTML(value='Waiting for input ... ', description='Action : ', placeholder='Some HTML')"
      ]
     },
     "metadata": {},
     "output_type": "display_data"
    }
   ],
   "source": [
    "display(w_count)\n",
    "display(w_dates)\n",
    "display(w_keyword)\n",
    "display(w_rts)\n",
    "display(w_language)\n",
    "display(w_type)\n",
    "display(w_coordinates)\n",
    "display(w_radius)\n",
    "display(button_query)\n",
    "display(w_progress_bar)\n",
    "display(w_progress_legend)"
   ]
  },
  {
   "cell_type": "code",
   "execution_count": 12,
   "metadata": {
    "extensions": {
     "jupyter_dashboards": {
      "version": 1,
      "views": {
       "grid_default": {
        "col": 0,
        "height": 12,
        "hidden": false,
        "row": 49,
        "width": 12
       },
       "report_default": {}
      }
     }
    },
    "scrolled": true
   },
   "outputs": [
    {
     "data": {
      "application/vnd.jupyter.widget-view+json": {
       "model_id": "3e52617d3028419299a6ff2cff52f67d",
       "version_major": 2,
       "version_minor": 0
      },
      "text/html": [
       "<p>Failed to display Jupyter Widget of type <code>Button</code>.</p>\n",
       "<p>\n",
       "  If you're reading this message in the Jupyter Notebook or JupyterLab Notebook, it may mean\n",
       "  that the widgets JavaScript is still loading. If this message persists, it\n",
       "  likely means that the widgets JavaScript library is either not installed or\n",
       "  not enabled. See the <a href=\"https://ipywidgets.readthedocs.io/en/stable/user_install.html\">Jupyter\n",
       "  Widgets Documentation</a> for setup instructions.\n",
       "</p>\n",
       "<p>\n",
       "  If you're reading this message in another frontend (for example, a static\n",
       "  rendering on GitHub or <a href=\"https://nbviewer.jupyter.org/\">NBViewer</a>),\n",
       "  it may mean that your frontend doesn't currently support widgets.\n",
       "</p>\n"
      ],
      "text/plain": [
       "Button(description='Display list of tweets', style=ButtonStyle())"
      ]
     },
     "metadata": {},
     "output_type": "display_data"
    }
   ],
   "source": [
    "display(w_button_list)"
   ]
  },
  {
   "cell_type": "code",
   "execution_count": 13,
   "metadata": {
    "extensions": {
     "jupyter_dashboards": {
      "version": 1,
      "views": {
       "grid_default": {
        "col": 0,
        "height": 16,
        "hidden": false,
        "row": 33,
        "width": 12
       },
       "report_default": {}
      }
     }
    }
   },
   "outputs": [
    {
     "data": {
      "application/vnd.jupyter.widget-view+json": {
       "model_id": "a3d94e024d144524b6270f23bc65ac2d",
       "version_major": 2,
       "version_minor": 0
      },
      "text/html": [
       "<p>Failed to display Jupyter Widget of type <code>Button</code>.</p>\n",
       "<p>\n",
       "  If you're reading this message in the Jupyter Notebook or JupyterLab Notebook, it may mean\n",
       "  that the widgets JavaScript is still loading. If this message persists, it\n",
       "  likely means that the widgets JavaScript library is either not installed or\n",
       "  not enabled. See the <a href=\"https://ipywidgets.readthedocs.io/en/stable/user_install.html\">Jupyter\n",
       "  Widgets Documentation</a> for setup instructions.\n",
       "</p>\n",
       "<p>\n",
       "  If you're reading this message in another frontend (for example, a static\n",
       "  rendering on GitHub or <a href=\"https://nbviewer.jupyter.org/\">NBViewer</a>),\n",
       "  it may mean that your frontend doesn't currently support widgets.\n",
       "</p>\n"
      ],
      "text/plain": [
       "Button(description='Plot map', style=ButtonStyle())"
      ]
     },
     "metadata": {},
     "output_type": "display_data"
    }
   ],
   "source": [
    "display(w_button_map)"
   ]
  },
  {
   "cell_type": "code",
   "execution_count": 14,
   "metadata": {
    "extensions": {
     "jupyter_dashboards": {
      "version": 1,
      "views": {
       "grid_default": {
        "col": 6,
        "height": 17,
        "hidden": false,
        "row": 0,
        "width": 6
       },
       "report_default": {}
      }
     }
    }
   },
   "outputs": [
    {
     "data": {
      "application/vnd.jupyter.widget-view+json": {
       "model_id": "4face621f10444708774a751342ebe06",
       "version_major": 2,
       "version_minor": 0
      },
      "text/html": [
       "<p>Failed to display Jupyter Widget of type <code>Button</code>.</p>\n",
       "<p>\n",
       "  If you're reading this message in the Jupyter Notebook or JupyterLab Notebook, it may mean\n",
       "  that the widgets JavaScript is still loading. If this message persists, it\n",
       "  likely means that the widgets JavaScript library is either not installed or\n",
       "  not enabled. See the <a href=\"https://ipywidgets.readthedocs.io/en/stable/user_install.html\">Jupyter\n",
       "  Widgets Documentation</a> for setup instructions.\n",
       "</p>\n",
       "<p>\n",
       "  If you're reading this message in another frontend (for example, a static\n",
       "  rendering on GitHub or <a href=\"https://nbviewer.jupyter.org/\">NBViewer</a>),\n",
       "  it may mean that your frontend doesn't currently support widgets.\n",
       "</p>\n"
      ],
      "text/plain": [
       "Button(description='Plot treemap', style=ButtonStyle())"
      ]
     },
     "metadata": {},
     "output_type": "display_data"
    }
   ],
   "source": [
    "display(w_button_treemap)"
   ]
  },
  {
   "cell_type": "code",
   "execution_count": 15,
   "metadata": {
    "extensions": {
     "jupyter_dashboards": {
      "version": 1,
      "views": {
       "grid_default": {
        "col": 0,
        "height": 16,
        "hidden": false,
        "row": 17,
        "width": 12
       },
       "report_default": {}
      }
     }
    }
   },
   "outputs": [
    {
     "data": {
      "application/vnd.jupyter.widget-view+json": {
       "model_id": "b983cdda0617422aa498d4049504f7fd",
       "version_major": 2,
       "version_minor": 0
      },
      "text/html": [
       "<p>Failed to display Jupyter Widget of type <code>Button</code>.</p>\n",
       "<p>\n",
       "  If you're reading this message in the Jupyter Notebook or JupyterLab Notebook, it may mean\n",
       "  that the widgets JavaScript is still loading. If this message persists, it\n",
       "  likely means that the widgets JavaScript library is either not installed or\n",
       "  not enabled. See the <a href=\"https://ipywidgets.readthedocs.io/en/stable/user_install.html\">Jupyter\n",
       "  Widgets Documentation</a> for setup instructions.\n",
       "</p>\n",
       "<p>\n",
       "  If you're reading this message in another frontend (for example, a static\n",
       "  rendering on GitHub or <a href=\"https://nbviewer.jupyter.org/\">NBViewer</a>),\n",
       "  it may mean that your frontend doesn't currently support widgets.\n",
       "</p>\n"
      ],
      "text/plain": [
       "Button(description='Plot heat map', style=ButtonStyle())"
      ]
     },
     "metadata": {},
     "output_type": "display_data"
    }
   ],
   "source": [
    "display(w_button_heatmap)"
   ]
  },
  {
   "cell_type": "code",
   "execution_count": null,
   "metadata": {
    "extensions": {
     "jupyter_dashboards": {
      "version": 1,
      "views": {
       "grid_default": {
        "hidden": true
       },
       "report_default": {}
      }
     }
    }
   },
   "outputs": [],
   "source": []
  },
  {
   "cell_type": "code",
   "execution_count": null,
   "metadata": {
    "extensions": {
     "jupyter_dashboards": {
      "version": 1,
      "views": {
       "grid_default": {
        "hidden": true
       },
       "report_default": {}
      }
     }
    }
   },
   "outputs": [],
   "source": []
  }
 ],
 "metadata": {
  "extensions": {
   "jupyter_dashboards": {
    "activeView": "grid_default",
    "version": 1,
    "views": {
     "grid_default": {
      "cellMargin": 10,
      "defaultCellHeight": 20,
      "maxColumns": 12,
      "name": "grid",
      "type": "grid"
     },
     "report_default": {
      "name": "report",
      "type": "report"
     }
    }
   }
  },
  "kernelspec": {
   "display_name": "Python 3",
   "language": "python",
   "name": "python3"
  },
  "language_info": {
   "codemirror_mode": {
    "name": "ipython",
    "version": 3
   },
   "file_extension": ".py",
   "mimetype": "text/x-python",
   "name": "python",
   "nbconvert_exporter": "python",
   "pygments_lexer": "ipython3",
   "version": "3.6.3"
  }
 },
 "nbformat": 4,
 "nbformat_minor": 2
}
